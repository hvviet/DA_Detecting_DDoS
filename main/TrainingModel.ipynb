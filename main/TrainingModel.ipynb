{
 "cells": [
  {
   "cell_type": "code",
   "execution_count": 1,
   "metadata": {},
   "outputs": [],
   "source": [
    "import pandas as pd\n",
    "import numpy as np"
   ]
  },
  {
   "cell_type": "code",
   "execution_count": 2,
   "metadata": {},
   "outputs": [
    {
     "name": "stderr",
     "output_type": "stream",
     "text": [
      "C:\\Users\\hoang\\AppData\\Local\\Temp\\ipykernel_14972\\3501856961.py:13: DtypeWarning: Columns (85) have mixed types. Specify dtype option on import or set low_memory=False.\n",
      "  DrDoS_DNS_data_1_per = pd.read_csv('../datasets/DrDoS_DNS_data_1_per.csv')\n",
      "C:\\Users\\hoang\\AppData\\Local\\Temp\\ipykernel_14972\\3501856961.py:14: DtypeWarning: Columns (85) have mixed types. Specify dtype option on import or set low_memory=False.\n",
      "  DrDoS_LDAP_data_2_0_per = pd.read_csv('../datasets/DrDoS_LDAP_data_2_0_per.csv')\n",
      "C:\\Users\\hoang\\AppData\\Local\\Temp\\ipykernel_14972\\3501856961.py:15: DtypeWarning: Columns (85) have mixed types. Specify dtype option on import or set low_memory=False.\n",
      "  DrDoS_MSSQL_data_1_3_per = pd.read_csv('../datasets/DrDoS_MSSQL_data_1_3_per.csv')\n",
      "C:\\Users\\hoang\\AppData\\Local\\Temp\\ipykernel_14972\\3501856961.py:16: DtypeWarning: Columns (85) have mixed types. Specify dtype option on import or set low_memory=False.\n",
      "  DrDoS_NetBIOS_data_1_3_per = pd.read_csv('../datasets/DrDoS_NetBIOS_data_1_3_per.csv')\n",
      "C:\\Users\\hoang\\AppData\\Local\\Temp\\ipykernel_14972\\3501856961.py:17: DtypeWarning: Columns (85) have mixed types. Specify dtype option on import or set low_memory=False.\n",
      "  DrDoS_NTP_data_data_5_per = pd.read_csv('../datasets/DrDoS_NTP_data_data_5_per.csv')\n",
      "C:\\Users\\hoang\\AppData\\Local\\Temp\\ipykernel_14972\\3501856961.py:18: DtypeWarning: Columns (85) have mixed types. Specify dtype option on import or set low_memory=False.\n",
      "  DrDoS_SNMP_data_1_3_per = pd.read_csv('../datasets/DrDoS_SNMP_data_1_3_per.csv')\n"
     ]
    },
    {
     "ename": "MemoryError",
     "evalue": "Unable to allocate 1.73 GiB for an array with shape (45, 5161377) and data type float64",
     "output_type": "error",
     "traceback": [
      "\u001b[1;31m---------------------------------------------------------------------------\u001b[0m",
      "\u001b[1;31mMemoryError\u001b[0m                               Traceback (most recent call last)",
      "\u001b[1;32me:\\DA_Detecting_DDoS\\main\\TrainingModel.ipynb Cell 2'\u001b[0m in \u001b[0;36m<cell line: 18>\u001b[1;34m()\u001b[0m\n\u001b[0;32m     <a href='vscode-notebook-cell:/e%3A/DA_Detecting_DDoS/main/TrainingModel.ipynb#ch0000001?line=15'>16</a>\u001b[0m DrDoS_NetBIOS_data_1_3_per \u001b[39m=\u001b[39m pd\u001b[39m.\u001b[39mread_csv(\u001b[39m'\u001b[39m\u001b[39m../datasets/DrDoS_NetBIOS_data_1_3_per.csv\u001b[39m\u001b[39m'\u001b[39m)\n\u001b[0;32m     <a href='vscode-notebook-cell:/e%3A/DA_Detecting_DDoS/main/TrainingModel.ipynb#ch0000001?line=16'>17</a>\u001b[0m DrDoS_NTP_data_data_5_per \u001b[39m=\u001b[39m pd\u001b[39m.\u001b[39mread_csv(\u001b[39m'\u001b[39m\u001b[39m../datasets/DrDoS_NTP_data_data_5_per.csv\u001b[39m\u001b[39m'\u001b[39m)\n\u001b[1;32m---> <a href='vscode-notebook-cell:/e%3A/DA_Detecting_DDoS/main/TrainingModel.ipynb#ch0000001?line=17'>18</a>\u001b[0m DrDoS_SNMP_data_1_3_per \u001b[39m=\u001b[39m pd\u001b[39m.\u001b[39;49mread_csv(\u001b[39m'\u001b[39;49m\u001b[39m../datasets/DrDoS_SNMP_data_1_3_per.csv\u001b[39;49m\u001b[39m'\u001b[39;49m)\n\u001b[0;32m     <a href='vscode-notebook-cell:/e%3A/DA_Detecting_DDoS/main/TrainingModel.ipynb#ch0000001?line=18'>19</a>\u001b[0m DrDoS_SSDP_data_2_per \u001b[39m=\u001b[39m pd\u001b[39m.\u001b[39mread_csv(\u001b[39m'\u001b[39m\u001b[39m../datasets/DrDoS_SSDP_data_2_per.csv\u001b[39m\u001b[39m'\u001b[39m)\n\u001b[0;32m     <a href='vscode-notebook-cell:/e%3A/DA_Detecting_DDoS/main/TrainingModel.ipynb#ch0000001?line=19'>20</a>\u001b[0m DrDoS_UDP_data_2_per \u001b[39m=\u001b[39m pd\u001b[39m.\u001b[39mread_csv(\u001b[39m'\u001b[39m\u001b[39m../datasets/DrDoS_UDP_data_2_per.csv\u001b[39m\u001b[39m'\u001b[39m)\n",
      "File \u001b[1;32m~\\AppData\\Local\\Programs\\Python\\Python310\\lib\\site-packages\\pandas\\util\\_decorators.py:311\u001b[0m, in \u001b[0;36mdeprecate_nonkeyword_arguments.<locals>.decorate.<locals>.wrapper\u001b[1;34m(*args, **kwargs)\u001b[0m\n\u001b[0;32m    <a href='file:///c%3A/Users/hoang/AppData/Local/Programs/Python/Python310/lib/site-packages/pandas/util/_decorators.py?line=304'>305</a>\u001b[0m \u001b[39mif\u001b[39;00m \u001b[39mlen\u001b[39m(args) \u001b[39m>\u001b[39m num_allow_args:\n\u001b[0;32m    <a href='file:///c%3A/Users/hoang/AppData/Local/Programs/Python/Python310/lib/site-packages/pandas/util/_decorators.py?line=305'>306</a>\u001b[0m     warnings\u001b[39m.\u001b[39mwarn(\n\u001b[0;32m    <a href='file:///c%3A/Users/hoang/AppData/Local/Programs/Python/Python310/lib/site-packages/pandas/util/_decorators.py?line=306'>307</a>\u001b[0m         msg\u001b[39m.\u001b[39mformat(arguments\u001b[39m=\u001b[39marguments),\n\u001b[0;32m    <a href='file:///c%3A/Users/hoang/AppData/Local/Programs/Python/Python310/lib/site-packages/pandas/util/_decorators.py?line=307'>308</a>\u001b[0m         \u001b[39mFutureWarning\u001b[39;00m,\n\u001b[0;32m    <a href='file:///c%3A/Users/hoang/AppData/Local/Programs/Python/Python310/lib/site-packages/pandas/util/_decorators.py?line=308'>309</a>\u001b[0m         stacklevel\u001b[39m=\u001b[39mstacklevel,\n\u001b[0;32m    <a href='file:///c%3A/Users/hoang/AppData/Local/Programs/Python/Python310/lib/site-packages/pandas/util/_decorators.py?line=309'>310</a>\u001b[0m     )\n\u001b[1;32m--> <a href='file:///c%3A/Users/hoang/AppData/Local/Programs/Python/Python310/lib/site-packages/pandas/util/_decorators.py?line=310'>311</a>\u001b[0m \u001b[39mreturn\u001b[39;00m func(\u001b[39m*\u001b[39margs, \u001b[39m*\u001b[39m\u001b[39m*\u001b[39mkwargs)\n",
      "File \u001b[1;32m~\\AppData\\Local\\Programs\\Python\\Python310\\lib\\site-packages\\pandas\\io\\parsers\\readers.py:680\u001b[0m, in \u001b[0;36mread_csv\u001b[1;34m(filepath_or_buffer, sep, delimiter, header, names, index_col, usecols, squeeze, prefix, mangle_dupe_cols, dtype, engine, converters, true_values, false_values, skipinitialspace, skiprows, skipfooter, nrows, na_values, keep_default_na, na_filter, verbose, skip_blank_lines, parse_dates, infer_datetime_format, keep_date_col, date_parser, dayfirst, cache_dates, iterator, chunksize, compression, thousands, decimal, lineterminator, quotechar, quoting, doublequote, escapechar, comment, encoding, encoding_errors, dialect, error_bad_lines, warn_bad_lines, on_bad_lines, delim_whitespace, low_memory, memory_map, float_precision, storage_options)\u001b[0m\n\u001b[0;32m    <a href='file:///c%3A/Users/hoang/AppData/Local/Programs/Python/Python310/lib/site-packages/pandas/io/parsers/readers.py?line=664'>665</a>\u001b[0m kwds_defaults \u001b[39m=\u001b[39m _refine_defaults_read(\n\u001b[0;32m    <a href='file:///c%3A/Users/hoang/AppData/Local/Programs/Python/Python310/lib/site-packages/pandas/io/parsers/readers.py?line=665'>666</a>\u001b[0m     dialect,\n\u001b[0;32m    <a href='file:///c%3A/Users/hoang/AppData/Local/Programs/Python/Python310/lib/site-packages/pandas/io/parsers/readers.py?line=666'>667</a>\u001b[0m     delimiter,\n\u001b[1;32m   (...)\u001b[0m\n\u001b[0;32m    <a href='file:///c%3A/Users/hoang/AppData/Local/Programs/Python/Python310/lib/site-packages/pandas/io/parsers/readers.py?line=675'>676</a>\u001b[0m     defaults\u001b[39m=\u001b[39m{\u001b[39m\"\u001b[39m\u001b[39mdelimiter\u001b[39m\u001b[39m\"\u001b[39m: \u001b[39m\"\u001b[39m\u001b[39m,\u001b[39m\u001b[39m\"\u001b[39m},\n\u001b[0;32m    <a href='file:///c%3A/Users/hoang/AppData/Local/Programs/Python/Python310/lib/site-packages/pandas/io/parsers/readers.py?line=676'>677</a>\u001b[0m )\n\u001b[0;32m    <a href='file:///c%3A/Users/hoang/AppData/Local/Programs/Python/Python310/lib/site-packages/pandas/io/parsers/readers.py?line=677'>678</a>\u001b[0m kwds\u001b[39m.\u001b[39mupdate(kwds_defaults)\n\u001b[1;32m--> <a href='file:///c%3A/Users/hoang/AppData/Local/Programs/Python/Python310/lib/site-packages/pandas/io/parsers/readers.py?line=679'>680</a>\u001b[0m \u001b[39mreturn\u001b[39;00m _read(filepath_or_buffer, kwds)\n",
      "File \u001b[1;32m~\\AppData\\Local\\Programs\\Python\\Python310\\lib\\site-packages\\pandas\\io\\parsers\\readers.py:581\u001b[0m, in \u001b[0;36m_read\u001b[1;34m(filepath_or_buffer, kwds)\u001b[0m\n\u001b[0;32m    <a href='file:///c%3A/Users/hoang/AppData/Local/Programs/Python/Python310/lib/site-packages/pandas/io/parsers/readers.py?line=577'>578</a>\u001b[0m     \u001b[39mreturn\u001b[39;00m parser\n\u001b[0;32m    <a href='file:///c%3A/Users/hoang/AppData/Local/Programs/Python/Python310/lib/site-packages/pandas/io/parsers/readers.py?line=579'>580</a>\u001b[0m \u001b[39mwith\u001b[39;00m parser:\n\u001b[1;32m--> <a href='file:///c%3A/Users/hoang/AppData/Local/Programs/Python/Python310/lib/site-packages/pandas/io/parsers/readers.py?line=580'>581</a>\u001b[0m     \u001b[39mreturn\u001b[39;00m parser\u001b[39m.\u001b[39;49mread(nrows)\n",
      "File \u001b[1;32m~\\AppData\\Local\\Programs\\Python\\Python310\\lib\\site-packages\\pandas\\io\\parsers\\readers.py:1265\u001b[0m, in \u001b[0;36mTextFileReader.read\u001b[1;34m(self, nrows)\u001b[0m\n\u001b[0;32m   <a href='file:///c%3A/Users/hoang/AppData/Local/Programs/Python/Python310/lib/site-packages/pandas/io/parsers/readers.py?line=1261'>1262</a>\u001b[0m     \u001b[39melse\u001b[39;00m:\n\u001b[0;32m   <a href='file:///c%3A/Users/hoang/AppData/Local/Programs/Python/Python310/lib/site-packages/pandas/io/parsers/readers.py?line=1262'>1263</a>\u001b[0m         new_rows \u001b[39m=\u001b[39m \u001b[39mlen\u001b[39m(index)\n\u001b[1;32m-> <a href='file:///c%3A/Users/hoang/AppData/Local/Programs/Python/Python310/lib/site-packages/pandas/io/parsers/readers.py?line=1264'>1265</a>\u001b[0m     df \u001b[39m=\u001b[39m DataFrame(col_dict, columns\u001b[39m=\u001b[39;49mcolumns, index\u001b[39m=\u001b[39;49mindex)\n\u001b[0;32m   <a href='file:///c%3A/Users/hoang/AppData/Local/Programs/Python/Python310/lib/site-packages/pandas/io/parsers/readers.py?line=1266'>1267</a>\u001b[0m     \u001b[39mself\u001b[39m\u001b[39m.\u001b[39m_currow \u001b[39m+\u001b[39m\u001b[39m=\u001b[39m new_rows\n\u001b[0;32m   <a href='file:///c%3A/Users/hoang/AppData/Local/Programs/Python/Python310/lib/site-packages/pandas/io/parsers/readers.py?line=1268'>1269</a>\u001b[0m \u001b[39mif\u001b[39;00m \u001b[39mself\u001b[39m\u001b[39m.\u001b[39msqueeze \u001b[39mand\u001b[39;00m \u001b[39mlen\u001b[39m(df\u001b[39m.\u001b[39mcolumns) \u001b[39m==\u001b[39m \u001b[39m1\u001b[39m:\n",
      "File \u001b[1;32m~\\AppData\\Local\\Programs\\Python\\Python310\\lib\\site-packages\\pandas\\core\\frame.py:636\u001b[0m, in \u001b[0;36mDataFrame.__init__\u001b[1;34m(self, data, index, columns, dtype, copy)\u001b[0m\n\u001b[0;32m    <a href='file:///c%3A/Users/hoang/AppData/Local/Programs/Python/Python310/lib/site-packages/pandas/core/frame.py?line=629'>630</a>\u001b[0m     mgr \u001b[39m=\u001b[39m \u001b[39mself\u001b[39m\u001b[39m.\u001b[39m_init_mgr(\n\u001b[0;32m    <a href='file:///c%3A/Users/hoang/AppData/Local/Programs/Python/Python310/lib/site-packages/pandas/core/frame.py?line=630'>631</a>\u001b[0m         data, axes\u001b[39m=\u001b[39m{\u001b[39m\"\u001b[39m\u001b[39mindex\u001b[39m\u001b[39m\"\u001b[39m: index, \u001b[39m\"\u001b[39m\u001b[39mcolumns\u001b[39m\u001b[39m\"\u001b[39m: columns}, dtype\u001b[39m=\u001b[39mdtype, copy\u001b[39m=\u001b[39mcopy\n\u001b[0;32m    <a href='file:///c%3A/Users/hoang/AppData/Local/Programs/Python/Python310/lib/site-packages/pandas/core/frame.py?line=631'>632</a>\u001b[0m     )\n\u001b[0;32m    <a href='file:///c%3A/Users/hoang/AppData/Local/Programs/Python/Python310/lib/site-packages/pandas/core/frame.py?line=633'>634</a>\u001b[0m \u001b[39melif\u001b[39;00m \u001b[39misinstance\u001b[39m(data, \u001b[39mdict\u001b[39m):\n\u001b[0;32m    <a href='file:///c%3A/Users/hoang/AppData/Local/Programs/Python/Python310/lib/site-packages/pandas/core/frame.py?line=634'>635</a>\u001b[0m     \u001b[39m# GH#38939 de facto copy defaults to False only in non-dict cases\u001b[39;00m\n\u001b[1;32m--> <a href='file:///c%3A/Users/hoang/AppData/Local/Programs/Python/Python310/lib/site-packages/pandas/core/frame.py?line=635'>636</a>\u001b[0m     mgr \u001b[39m=\u001b[39m dict_to_mgr(data, index, columns, dtype\u001b[39m=\u001b[39;49mdtype, copy\u001b[39m=\u001b[39;49mcopy, typ\u001b[39m=\u001b[39;49mmanager)\n\u001b[0;32m    <a href='file:///c%3A/Users/hoang/AppData/Local/Programs/Python/Python310/lib/site-packages/pandas/core/frame.py?line=636'>637</a>\u001b[0m \u001b[39melif\u001b[39;00m \u001b[39misinstance\u001b[39m(data, ma\u001b[39m.\u001b[39mMaskedArray):\n\u001b[0;32m    <a href='file:///c%3A/Users/hoang/AppData/Local/Programs/Python/Python310/lib/site-packages/pandas/core/frame.py?line=637'>638</a>\u001b[0m     \u001b[39mimport\u001b[39;00m \u001b[39mnumpy\u001b[39;00m\u001b[39m.\u001b[39;00m\u001b[39mma\u001b[39;00m\u001b[39m.\u001b[39;00m\u001b[39mmrecords\u001b[39;00m \u001b[39mas\u001b[39;00m \u001b[39mmrecords\u001b[39;00m\n",
      "File \u001b[1;32m~\\AppData\\Local\\Programs\\Python\\Python310\\lib\\site-packages\\pandas\\core\\internals\\construction.py:502\u001b[0m, in \u001b[0;36mdict_to_mgr\u001b[1;34m(data, index, columns, dtype, typ, copy)\u001b[0m\n\u001b[0;32m    <a href='file:///c%3A/Users/hoang/AppData/Local/Programs/Python/Python310/lib/site-packages/pandas/core/internals/construction.py?line=493'>494</a>\u001b[0m     arrays \u001b[39m=\u001b[39m [\n\u001b[0;32m    <a href='file:///c%3A/Users/hoang/AppData/Local/Programs/Python/Python310/lib/site-packages/pandas/core/internals/construction.py?line=494'>495</a>\u001b[0m         x\n\u001b[0;32m    <a href='file:///c%3A/Users/hoang/AppData/Local/Programs/Python/Python310/lib/site-packages/pandas/core/internals/construction.py?line=495'>496</a>\u001b[0m         \u001b[39mif\u001b[39;00m \u001b[39mnot\u001b[39;00m \u001b[39mhasattr\u001b[39m(x, \u001b[39m\"\u001b[39m\u001b[39mdtype\u001b[39m\u001b[39m\"\u001b[39m) \u001b[39mor\u001b[39;00m \u001b[39mnot\u001b[39;00m \u001b[39misinstance\u001b[39m(x\u001b[39m.\u001b[39mdtype, ExtensionDtype)\n\u001b[0;32m    <a href='file:///c%3A/Users/hoang/AppData/Local/Programs/Python/Python310/lib/site-packages/pandas/core/internals/construction.py?line=496'>497</a>\u001b[0m         \u001b[39melse\u001b[39;00m x\u001b[39m.\u001b[39mcopy()\n\u001b[0;32m    <a href='file:///c%3A/Users/hoang/AppData/Local/Programs/Python/Python310/lib/site-packages/pandas/core/internals/construction.py?line=497'>498</a>\u001b[0m         \u001b[39mfor\u001b[39;00m x \u001b[39min\u001b[39;00m arrays\n\u001b[0;32m    <a href='file:///c%3A/Users/hoang/AppData/Local/Programs/Python/Python310/lib/site-packages/pandas/core/internals/construction.py?line=498'>499</a>\u001b[0m     ]\n\u001b[0;32m    <a href='file:///c%3A/Users/hoang/AppData/Local/Programs/Python/Python310/lib/site-packages/pandas/core/internals/construction.py?line=499'>500</a>\u001b[0m     \u001b[39m# TODO: can we get rid of the dt64tz special case above?\u001b[39;00m\n\u001b[1;32m--> <a href='file:///c%3A/Users/hoang/AppData/Local/Programs/Python/Python310/lib/site-packages/pandas/core/internals/construction.py?line=501'>502</a>\u001b[0m \u001b[39mreturn\u001b[39;00m arrays_to_mgr(arrays, columns, index, dtype\u001b[39m=\u001b[39;49mdtype, typ\u001b[39m=\u001b[39;49mtyp, consolidate\u001b[39m=\u001b[39;49mcopy)\n",
      "File \u001b[1;32m~\\AppData\\Local\\Programs\\Python\\Python310\\lib\\site-packages\\pandas\\core\\internals\\construction.py:156\u001b[0m, in \u001b[0;36marrays_to_mgr\u001b[1;34m(arrays, columns, index, dtype, verify_integrity, typ, consolidate)\u001b[0m\n\u001b[0;32m    <a href='file:///c%3A/Users/hoang/AppData/Local/Programs/Python/Python310/lib/site-packages/pandas/core/internals/construction.py?line=152'>153</a>\u001b[0m axes \u001b[39m=\u001b[39m [columns, index]\n\u001b[0;32m    <a href='file:///c%3A/Users/hoang/AppData/Local/Programs/Python/Python310/lib/site-packages/pandas/core/internals/construction.py?line=154'>155</a>\u001b[0m \u001b[39mif\u001b[39;00m typ \u001b[39m==\u001b[39m \u001b[39m\"\u001b[39m\u001b[39mblock\u001b[39m\u001b[39m\"\u001b[39m:\n\u001b[1;32m--> <a href='file:///c%3A/Users/hoang/AppData/Local/Programs/Python/Python310/lib/site-packages/pandas/core/internals/construction.py?line=155'>156</a>\u001b[0m     \u001b[39mreturn\u001b[39;00m create_block_manager_from_column_arrays(\n\u001b[0;32m    <a href='file:///c%3A/Users/hoang/AppData/Local/Programs/Python/Python310/lib/site-packages/pandas/core/internals/construction.py?line=156'>157</a>\u001b[0m         arrays, axes, consolidate\u001b[39m=\u001b[39;49mconsolidate\n\u001b[0;32m    <a href='file:///c%3A/Users/hoang/AppData/Local/Programs/Python/Python310/lib/site-packages/pandas/core/internals/construction.py?line=157'>158</a>\u001b[0m     )\n\u001b[0;32m    <a href='file:///c%3A/Users/hoang/AppData/Local/Programs/Python/Python310/lib/site-packages/pandas/core/internals/construction.py?line=158'>159</a>\u001b[0m \u001b[39melif\u001b[39;00m typ \u001b[39m==\u001b[39m \u001b[39m\"\u001b[39m\u001b[39marray\u001b[39m\u001b[39m\"\u001b[39m:\n\u001b[0;32m    <a href='file:///c%3A/Users/hoang/AppData/Local/Programs/Python/Python310/lib/site-packages/pandas/core/internals/construction.py?line=159'>160</a>\u001b[0m     \u001b[39mreturn\u001b[39;00m ArrayManager(arrays, [index, columns])\n",
      "File \u001b[1;32m~\\AppData\\Local\\Programs\\Python\\Python310\\lib\\site-packages\\pandas\\core\\internals\\managers.py:1959\u001b[0m, in \u001b[0;36mcreate_block_manager_from_column_arrays\u001b[1;34m(arrays, axes, consolidate)\u001b[0m\n\u001b[0;32m   <a href='file:///c%3A/Users/hoang/AppData/Local/Programs/Python/Python310/lib/site-packages/pandas/core/internals/managers.py?line=1956'>1957</a>\u001b[0m     \u001b[39mraise\u001b[39;00m construction_error(\u001b[39mlen\u001b[39m(arrays), arrays[\u001b[39m0\u001b[39m]\u001b[39m.\u001b[39mshape, axes, e)\n\u001b[0;32m   <a href='file:///c%3A/Users/hoang/AppData/Local/Programs/Python/Python310/lib/site-packages/pandas/core/internals/managers.py?line=1957'>1958</a>\u001b[0m \u001b[39mif\u001b[39;00m consolidate:\n\u001b[1;32m-> <a href='file:///c%3A/Users/hoang/AppData/Local/Programs/Python/Python310/lib/site-packages/pandas/core/internals/managers.py?line=1958'>1959</a>\u001b[0m     mgr\u001b[39m.\u001b[39;49m_consolidate_inplace()\n\u001b[0;32m   <a href='file:///c%3A/Users/hoang/AppData/Local/Programs/Python/Python310/lib/site-packages/pandas/core/internals/managers.py?line=1959'>1960</a>\u001b[0m \u001b[39mreturn\u001b[39;00m mgr\n",
      "File \u001b[1;32m~\\AppData\\Local\\Programs\\Python\\Python310\\lib\\site-packages\\pandas\\core\\internals\\managers.py:1685\u001b[0m, in \u001b[0;36mBlockManager._consolidate_inplace\u001b[1;34m(self)\u001b[0m\n\u001b[0;32m   <a href='file:///c%3A/Users/hoang/AppData/Local/Programs/Python/Python310/lib/site-packages/pandas/core/internals/managers.py?line=1682'>1683</a>\u001b[0m \u001b[39mdef\u001b[39;00m \u001b[39m_consolidate_inplace\u001b[39m(\u001b[39mself\u001b[39m) \u001b[39m-\u001b[39m\u001b[39m>\u001b[39m \u001b[39mNone\u001b[39;00m:\n\u001b[0;32m   <a href='file:///c%3A/Users/hoang/AppData/Local/Programs/Python/Python310/lib/site-packages/pandas/core/internals/managers.py?line=1683'>1684</a>\u001b[0m     \u001b[39mif\u001b[39;00m \u001b[39mnot\u001b[39;00m \u001b[39mself\u001b[39m\u001b[39m.\u001b[39mis_consolidated():\n\u001b[1;32m-> <a href='file:///c%3A/Users/hoang/AppData/Local/Programs/Python/Python310/lib/site-packages/pandas/core/internals/managers.py?line=1684'>1685</a>\u001b[0m         \u001b[39mself\u001b[39m\u001b[39m.\u001b[39mblocks \u001b[39m=\u001b[39m \u001b[39mtuple\u001b[39m(_consolidate(\u001b[39mself\u001b[39;49m\u001b[39m.\u001b[39;49mblocks))\n\u001b[0;32m   <a href='file:///c%3A/Users/hoang/AppData/Local/Programs/Python/Python310/lib/site-packages/pandas/core/internals/managers.py?line=1685'>1686</a>\u001b[0m         \u001b[39mself\u001b[39m\u001b[39m.\u001b[39m_is_consolidated \u001b[39m=\u001b[39m \u001b[39mTrue\u001b[39;00m\n\u001b[0;32m   <a href='file:///c%3A/Users/hoang/AppData/Local/Programs/Python/Python310/lib/site-packages/pandas/core/internals/managers.py?line=1686'>1687</a>\u001b[0m         \u001b[39mself\u001b[39m\u001b[39m.\u001b[39m_known_consolidated \u001b[39m=\u001b[39m \u001b[39mTrue\u001b[39;00m\n",
      "File \u001b[1;32m~\\AppData\\Local\\Programs\\Python\\Python310\\lib\\site-packages\\pandas\\core\\internals\\managers.py:2084\u001b[0m, in \u001b[0;36m_consolidate\u001b[1;34m(blocks)\u001b[0m\n\u001b[0;32m   <a href='file:///c%3A/Users/hoang/AppData/Local/Programs/Python/Python310/lib/site-packages/pandas/core/internals/managers.py?line=2081'>2082</a>\u001b[0m new_blocks: \u001b[39mlist\u001b[39m[Block] \u001b[39m=\u001b[39m []\n\u001b[0;32m   <a href='file:///c%3A/Users/hoang/AppData/Local/Programs/Python/Python310/lib/site-packages/pandas/core/internals/managers.py?line=2082'>2083</a>\u001b[0m \u001b[39mfor\u001b[39;00m (_can_consolidate, dtype), group_blocks \u001b[39min\u001b[39;00m grouper:\n\u001b[1;32m-> <a href='file:///c%3A/Users/hoang/AppData/Local/Programs/Python/Python310/lib/site-packages/pandas/core/internals/managers.py?line=2083'>2084</a>\u001b[0m     merged_blocks \u001b[39m=\u001b[39m _merge_blocks(\n\u001b[0;32m   <a href='file:///c%3A/Users/hoang/AppData/Local/Programs/Python/Python310/lib/site-packages/pandas/core/internals/managers.py?line=2084'>2085</a>\u001b[0m         \u001b[39mlist\u001b[39;49m(group_blocks), dtype\u001b[39m=\u001b[39;49mdtype, can_consolidate\u001b[39m=\u001b[39;49m_can_consolidate\n\u001b[0;32m   <a href='file:///c%3A/Users/hoang/AppData/Local/Programs/Python/Python310/lib/site-packages/pandas/core/internals/managers.py?line=2085'>2086</a>\u001b[0m     )\n\u001b[0;32m   <a href='file:///c%3A/Users/hoang/AppData/Local/Programs/Python/Python310/lib/site-packages/pandas/core/internals/managers.py?line=2086'>2087</a>\u001b[0m     new_blocks \u001b[39m=\u001b[39m extend_blocks(merged_blocks, new_blocks)\n\u001b[0;32m   <a href='file:///c%3A/Users/hoang/AppData/Local/Programs/Python/Python310/lib/site-packages/pandas/core/internals/managers.py?line=2087'>2088</a>\u001b[0m \u001b[39mreturn\u001b[39;00m new_blocks\n",
      "File \u001b[1;32m~\\AppData\\Local\\Programs\\Python\\Python310\\lib\\site-packages\\pandas\\core\\internals\\managers.py:2111\u001b[0m, in \u001b[0;36m_merge_blocks\u001b[1;34m(blocks, dtype, can_consolidate)\u001b[0m\n\u001b[0;32m   <a href='file:///c%3A/Users/hoang/AppData/Local/Programs/Python/Python310/lib/site-packages/pandas/core/internals/managers.py?line=2103'>2104</a>\u001b[0m new_values: ArrayLike\n\u001b[0;32m   <a href='file:///c%3A/Users/hoang/AppData/Local/Programs/Python/Python310/lib/site-packages/pandas/core/internals/managers.py?line=2105'>2106</a>\u001b[0m \u001b[39mif\u001b[39;00m \u001b[39misinstance\u001b[39m(blocks[\u001b[39m0\u001b[39m]\u001b[39m.\u001b[39mdtype, np\u001b[39m.\u001b[39mdtype):\n\u001b[0;32m   <a href='file:///c%3A/Users/hoang/AppData/Local/Programs/Python/Python310/lib/site-packages/pandas/core/internals/managers.py?line=2106'>2107</a>\u001b[0m     \u001b[39m# error: List comprehension has incompatible type List[Union[ndarray,\u001b[39;00m\n\u001b[0;32m   <a href='file:///c%3A/Users/hoang/AppData/Local/Programs/Python/Python310/lib/site-packages/pandas/core/internals/managers.py?line=2107'>2108</a>\u001b[0m     \u001b[39m# ExtensionArray]]; expected List[Union[complex, generic,\u001b[39;00m\n\u001b[0;32m   <a href='file:///c%3A/Users/hoang/AppData/Local/Programs/Python/Python310/lib/site-packages/pandas/core/internals/managers.py?line=2108'>2109</a>\u001b[0m     \u001b[39m# Sequence[Union[int, float, complex, str, bytes, generic]],\u001b[39;00m\n\u001b[0;32m   <a href='file:///c%3A/Users/hoang/AppData/Local/Programs/Python/Python310/lib/site-packages/pandas/core/internals/managers.py?line=2109'>2110</a>\u001b[0m     \u001b[39m# Sequence[Sequence[Any]], SupportsArray]]\u001b[39;00m\n\u001b[1;32m-> <a href='file:///c%3A/Users/hoang/AppData/Local/Programs/Python/Python310/lib/site-packages/pandas/core/internals/managers.py?line=2110'>2111</a>\u001b[0m     new_values \u001b[39m=\u001b[39m np\u001b[39m.\u001b[39;49mvstack([b\u001b[39m.\u001b[39;49mvalues \u001b[39mfor\u001b[39;49;00m b \u001b[39min\u001b[39;49;00m blocks])  \u001b[39m# type: ignore[misc]\u001b[39;00m\n\u001b[0;32m   <a href='file:///c%3A/Users/hoang/AppData/Local/Programs/Python/Python310/lib/site-packages/pandas/core/internals/managers.py?line=2111'>2112</a>\u001b[0m \u001b[39melse\u001b[39;00m:\n\u001b[0;32m   <a href='file:///c%3A/Users/hoang/AppData/Local/Programs/Python/Python310/lib/site-packages/pandas/core/internals/managers.py?line=2112'>2113</a>\u001b[0m     bvals \u001b[39m=\u001b[39m [blk\u001b[39m.\u001b[39mvalues \u001b[39mfor\u001b[39;00m blk \u001b[39min\u001b[39;00m blocks]\n",
      "File \u001b[1;32m<__array_function__ internals>:180\u001b[0m, in \u001b[0;36mvstack\u001b[1;34m(*args, **kwargs)\u001b[0m\n",
      "File \u001b[1;32m~\\AppData\\Local\\Programs\\Python\\Python310\\lib\\site-packages\\numpy\\core\\shape_base.py:282\u001b[0m, in \u001b[0;36mvstack\u001b[1;34m(tup)\u001b[0m\n\u001b[0;32m    <a href='file:///c%3A/Users/hoang/AppData/Local/Programs/Python/Python310/lib/site-packages/numpy/core/shape_base.py?line=279'>280</a>\u001b[0m \u001b[39mif\u001b[39;00m \u001b[39mnot\u001b[39;00m \u001b[39misinstance\u001b[39m(arrs, \u001b[39mlist\u001b[39m):\n\u001b[0;32m    <a href='file:///c%3A/Users/hoang/AppData/Local/Programs/Python/Python310/lib/site-packages/numpy/core/shape_base.py?line=280'>281</a>\u001b[0m     arrs \u001b[39m=\u001b[39m [arrs]\n\u001b[1;32m--> <a href='file:///c%3A/Users/hoang/AppData/Local/Programs/Python/Python310/lib/site-packages/numpy/core/shape_base.py?line=281'>282</a>\u001b[0m \u001b[39mreturn\u001b[39;00m _nx\u001b[39m.\u001b[39;49mconcatenate(arrs, \u001b[39m0\u001b[39;49m)\n",
      "File \u001b[1;32m<__array_function__ internals>:180\u001b[0m, in \u001b[0;36mconcatenate\u001b[1;34m(*args, **kwargs)\u001b[0m\n",
      "\u001b[1;31mMemoryError\u001b[0m: Unable to allocate 1.73 GiB for an array with shape (45, 5161377) and data type float64"
     ]
    }
   ],
   "source": [
    "# Read datasets from files\n",
    "# DrDoS_DNS_data_1_per = pd.read_csv('../datasets/DrDoS_DNS_data_1_per.csv',nrows=100000)\n",
    "# DrDoS_LDAP_data_2_0_per = pd.read_csv('../datasets/DrDoS_LDAP_data_2_0_per.csv',nrows=100000)\n",
    "# DrDoS_MSSQL_data_1_3_per = pd.read_csv('../datasets/DrDoS_MSSQL_data_1_3_per.csv',nrows=100000)\n",
    "# DrDoS_NetBIOS_data_1_3_per = pd.read_csv('../datasets/DrDoS_NetBIOS_data_1_3_per.csv',nrows=100000)\n",
    "# DrDoS_NTP_data_data_5_per = pd.read_csv('../datasets/DrDoS_NTP_data_data_5_per.csv',nrows=100000)\n",
    "# DrDoS_SNMP_data_1_3_per = pd.read_csv('../datasets/DrDoS_SNMP_data_1_3_per.csv',nrows=100000)\n",
    "# DrDoS_SSDP_data_2_per = pd.read_csv('../datasets/DrDoS_SSDP_data_2_per.csv',nrows=100000)\n",
    "# DrDoS_UDP_data_2_per = pd.read_csv('../datasets/DrDoS_UDP_data_2_per.csv',nrows=100000)\n",
    "# Syn_data_4_per = pd.read_csv('../datasets/syn_data.csv',nrows=100000)\n",
    "# UDPLag_data_2_0_per = pd.read_csv('../datasets/UDPLag_data_2_0_per.csv',nrows=100000)\n",
    "\n",
    "DrDoS_DNS_data_1_per = pd.read_csv('../datasets/DrDoS_DNS_data_1_per.csv')\n",
    "DrDoS_LDAP_data_2_0_per = pd.read_csv('../datasets/DrDoS_LDAP_data_2_0_per.csv')\n",
    "DrDoS_MSSQL_data_1_3_per = pd.read_csv('../datasets/DrDoS_MSSQL_data_1_3_per.csv')\n",
    "DrDoS_NetBIOS_data_1_3_per = pd.read_csv('../datasets/DrDoS_NetBIOS_data_1_3_per.csv')\n",
    "DrDoS_NTP_data_data_5_per = pd.read_csv('../datasets/DrDoS_NTP_data_data_5_per.csv')\n",
    "DrDoS_SNMP_data_1_3_per = pd.read_csv('../datasets/DrDoS_SNMP_data_1_3_per.csv')\n",
    "DrDoS_SSDP_data_2_per = pd.read_csv('../datasets/DrDoS_SSDP_data_2_per.csv')\n",
    "DrDoS_UDP_data_2_per = pd.read_csv('../datasets/DrDoS_UDP_data_2_per.csv')\n",
    "Syn_data_4_per = pd.read_csv('../datasets/syn_data.csv')\n",
    "UDPLag_data_2_0_per = pd.read_csv('../datasets/UDPLag_data_2_0_per.csv')"
   ]
  },
  {
   "cell_type": "code",
   "execution_count": null,
   "metadata": {},
   "outputs": [
    {
     "data": {
      "text/html": [
       "<div>\n",
       "<style scoped>\n",
       "    .dataframe tbody tr th:only-of-type {\n",
       "        vertical-align: middle;\n",
       "    }\n",
       "\n",
       "    .dataframe tbody tr th {\n",
       "        vertical-align: top;\n",
       "    }\n",
       "\n",
       "    .dataframe thead th {\n",
       "        text-align: right;\n",
       "    }\n",
       "</style>\n",
       "<table border=\"1\" class=\"dataframe\">\n",
       "  <thead>\n",
       "    <tr style=\"text-align: right;\">\n",
       "      <th></th>\n",
       "      <th>Unnamed: 0</th>\n",
       "      <th>Flow ID</th>\n",
       "      <th>Source IP</th>\n",
       "      <th>Source Port</th>\n",
       "      <th>Destination IP</th>\n",
       "      <th>Destination Port</th>\n",
       "      <th>Protocol</th>\n",
       "      <th>Timestamp</th>\n",
       "      <th>Flow Duration</th>\n",
       "      <th>Total Fwd Packets</th>\n",
       "      <th>...</th>\n",
       "      <th>Active Std</th>\n",
       "      <th>Active Max</th>\n",
       "      <th>Active Min</th>\n",
       "      <th>Idle Mean</th>\n",
       "      <th>Idle Std</th>\n",
       "      <th>Idle Max</th>\n",
       "      <th>Idle Min</th>\n",
       "      <th>SimillarHTTP</th>\n",
       "      <th>Inbound</th>\n",
       "      <th>Label</th>\n",
       "    </tr>\n",
       "  </thead>\n",
       "  <tbody>\n",
       "    <tr>\n",
       "      <th>0</th>\n",
       "      <td>425</td>\n",
       "      <td>172.16.0.5-192.168.50.1-634-60495-17</td>\n",
       "      <td>172.16.0.5</td>\n",
       "      <td>634</td>\n",
       "      <td>192.168.50.1</td>\n",
       "      <td>60495</td>\n",
       "      <td>17</td>\n",
       "      <td>2018-12-01 10:51:39.813448</td>\n",
       "      <td>28415</td>\n",
       "      <td>97</td>\n",
       "      <td>...</td>\n",
       "      <td>0.000000</td>\n",
       "      <td>0.0</td>\n",
       "      <td>0.0</td>\n",
       "      <td>0.0</td>\n",
       "      <td>0.000000e+00</td>\n",
       "      <td>0.0</td>\n",
       "      <td>0.0</td>\n",
       "      <td>0</td>\n",
       "      <td>1</td>\n",
       "      <td>DrDoS_DNS</td>\n",
       "    </tr>\n",
       "    <tr>\n",
       "      <th>1</th>\n",
       "      <td>430</td>\n",
       "      <td>172.16.0.5-192.168.50.1-60495-634-17</td>\n",
       "      <td>192.168.50.1</td>\n",
       "      <td>634</td>\n",
       "      <td>172.16.0.5</td>\n",
       "      <td>60495</td>\n",
       "      <td>17</td>\n",
       "      <td>2018-12-01 10:51:39.820842</td>\n",
       "      <td>2</td>\n",
       "      <td>2</td>\n",
       "      <td>...</td>\n",
       "      <td>0.000000</td>\n",
       "      <td>0.0</td>\n",
       "      <td>0.0</td>\n",
       "      <td>0.0</td>\n",
       "      <td>0.000000e+00</td>\n",
       "      <td>0.0</td>\n",
       "      <td>0.0</td>\n",
       "      <td>0</td>\n",
       "      <td>0</td>\n",
       "      <td>DrDoS_DNS</td>\n",
       "    </tr>\n",
       "    <tr>\n",
       "      <th>2</th>\n",
       "      <td>1654</td>\n",
       "      <td>172.16.0.5-192.168.50.1-634-46391-17</td>\n",
       "      <td>172.16.0.5</td>\n",
       "      <td>634</td>\n",
       "      <td>192.168.50.1</td>\n",
       "      <td>46391</td>\n",
       "      <td>17</td>\n",
       "      <td>2018-12-01 10:51:39.852499</td>\n",
       "      <td>48549</td>\n",
       "      <td>200</td>\n",
       "      <td>...</td>\n",
       "      <td>0.000000</td>\n",
       "      <td>0.0</td>\n",
       "      <td>0.0</td>\n",
       "      <td>0.0</td>\n",
       "      <td>0.000000e+00</td>\n",
       "      <td>0.0</td>\n",
       "      <td>0.0</td>\n",
       "      <td>0</td>\n",
       "      <td>1</td>\n",
       "      <td>DrDoS_DNS</td>\n",
       "    </tr>\n",
       "    <tr>\n",
       "      <th>3</th>\n",
       "      <td>2927</td>\n",
       "      <td>172.16.0.5-192.168.50.1-634-11894-17</td>\n",
       "      <td>172.16.0.5</td>\n",
       "      <td>634</td>\n",
       "      <td>192.168.50.1</td>\n",
       "      <td>11894</td>\n",
       "      <td>17</td>\n",
       "      <td>2018-12-01 10:51:39.890213</td>\n",
       "      <td>48337</td>\n",
       "      <td>200</td>\n",
       "      <td>...</td>\n",
       "      <td>0.000000</td>\n",
       "      <td>0.0</td>\n",
       "      <td>0.0</td>\n",
       "      <td>0.0</td>\n",
       "      <td>0.000000e+00</td>\n",
       "      <td>0.0</td>\n",
       "      <td>0.0</td>\n",
       "      <td>0</td>\n",
       "      <td>1</td>\n",
       "      <td>DrDoS_DNS</td>\n",
       "    </tr>\n",
       "    <tr>\n",
       "      <th>4</th>\n",
       "      <td>694</td>\n",
       "      <td>172.16.0.5-192.168.50.1-634-27878-17</td>\n",
       "      <td>172.16.0.5</td>\n",
       "      <td>634</td>\n",
       "      <td>192.168.50.1</td>\n",
       "      <td>27878</td>\n",
       "      <td>17</td>\n",
       "      <td>2018-12-01 10:51:39.941151</td>\n",
       "      <td>32026</td>\n",
       "      <td>200</td>\n",
       "      <td>...</td>\n",
       "      <td>0.000000</td>\n",
       "      <td>0.0</td>\n",
       "      <td>0.0</td>\n",
       "      <td>0.0</td>\n",
       "      <td>0.000000e+00</td>\n",
       "      <td>0.0</td>\n",
       "      <td>0.0</td>\n",
       "      <td>0</td>\n",
       "      <td>1</td>\n",
       "      <td>DrDoS_DNS</td>\n",
       "    </tr>\n",
       "    <tr>\n",
       "      <th>...</th>\n",
       "      <td>...</td>\n",
       "      <td>...</td>\n",
       "      <td>...</td>\n",
       "      <td>...</td>\n",
       "      <td>...</td>\n",
       "      <td>...</td>\n",
       "      <td>...</td>\n",
       "      <td>...</td>\n",
       "      <td>...</td>\n",
       "      <td>...</td>\n",
       "      <td>...</td>\n",
       "      <td>...</td>\n",
       "      <td>...</td>\n",
       "      <td>...</td>\n",
       "      <td>...</td>\n",
       "      <td>...</td>\n",
       "      <td>...</td>\n",
       "      <td>...</td>\n",
       "      <td>...</td>\n",
       "      <td>...</td>\n",
       "      <td>...</td>\n",
       "    </tr>\n",
       "    <tr>\n",
       "      <th>999995</th>\n",
       "      <td>49113</td>\n",
       "      <td>172.16.0.5-192.168.50.1-5838-5838-6</td>\n",
       "      <td>172.16.0.5</td>\n",
       "      <td>5838</td>\n",
       "      <td>192.168.50.1</td>\n",
       "      <td>5838</td>\n",
       "      <td>6</td>\n",
       "      <td>2018-12-01 13:29:48.327410</td>\n",
       "      <td>27493436</td>\n",
       "      <td>4</td>\n",
       "      <td>...</td>\n",
       "      <td>0.000000</td>\n",
       "      <td>1.0</td>\n",
       "      <td>1.0</td>\n",
       "      <td>27493434.0</td>\n",
       "      <td>0.000000e+00</td>\n",
       "      <td>27493434.0</td>\n",
       "      <td>27493434.0</td>\n",
       "      <td>0</td>\n",
       "      <td>1</td>\n",
       "      <td>UDP-lag</td>\n",
       "    </tr>\n",
       "    <tr>\n",
       "      <th>999996</th>\n",
       "      <td>215934</td>\n",
       "      <td>172.16.0.5-192.168.50.1-30092-1933-6</td>\n",
       "      <td>172.16.0.5</td>\n",
       "      <td>30092</td>\n",
       "      <td>192.168.50.1</td>\n",
       "      <td>1933</td>\n",
       "      <td>6</td>\n",
       "      <td>2018-12-01 13:29:48.327411</td>\n",
       "      <td>49</td>\n",
       "      <td>2</td>\n",
       "      <td>...</td>\n",
       "      <td>0.000000</td>\n",
       "      <td>0.0</td>\n",
       "      <td>0.0</td>\n",
       "      <td>0.0</td>\n",
       "      <td>0.000000e+00</td>\n",
       "      <td>0.0</td>\n",
       "      <td>0.0</td>\n",
       "      <td>0</td>\n",
       "      <td>1</td>\n",
       "      <td>UDP-lag</td>\n",
       "    </tr>\n",
       "    <tr>\n",
       "      <th>999997</th>\n",
       "      <td>106929</td>\n",
       "      <td>172.16.0.5-192.168.50.1-42092-42092-6</td>\n",
       "      <td>172.16.0.5</td>\n",
       "      <td>42092</td>\n",
       "      <td>192.168.50.1</td>\n",
       "      <td>42092</td>\n",
       "      <td>6</td>\n",
       "      <td>2018-12-01 13:29:48.327460</td>\n",
       "      <td>26907958</td>\n",
       "      <td>6</td>\n",
       "      <td>...</td>\n",
       "      <td>57.982756</td>\n",
       "      <td>83.0</td>\n",
       "      <td>1.0</td>\n",
       "      <td>13453918.5</td>\n",
       "      <td>4.202243e+06</td>\n",
       "      <td>16425353.0</td>\n",
       "      <td>10482484.0</td>\n",
       "      <td>0</td>\n",
       "      <td>1</td>\n",
       "      <td>UDP-lag</td>\n",
       "    </tr>\n",
       "    <tr>\n",
       "      <th>999998</th>\n",
       "      <td>131754</td>\n",
       "      <td>172.16.0.5-192.168.50.1-30093-25747-6</td>\n",
       "      <td>172.16.0.5</td>\n",
       "      <td>30093</td>\n",
       "      <td>192.168.50.1</td>\n",
       "      <td>25747</td>\n",
       "      <td>6</td>\n",
       "      <td>2018-12-01 13:29:48.327519</td>\n",
       "      <td>58</td>\n",
       "      <td>2</td>\n",
       "      <td>...</td>\n",
       "      <td>0.000000</td>\n",
       "      <td>0.0</td>\n",
       "      <td>0.0</td>\n",
       "      <td>0.0</td>\n",
       "      <td>0.000000e+00</td>\n",
       "      <td>0.0</td>\n",
       "      <td>0.0</td>\n",
       "      <td>0</td>\n",
       "      <td>1</td>\n",
       "      <td>UDP-lag</td>\n",
       "    </tr>\n",
       "    <tr>\n",
       "      <th>999999</th>\n",
       "      <td>329669</td>\n",
       "      <td>172.16.0.5-192.168.50.1-39910-39910-6</td>\n",
       "      <td>172.16.0.5</td>\n",
       "      <td>39910</td>\n",
       "      <td>192.168.50.1</td>\n",
       "      <td>39910</td>\n",
       "      <td>6</td>\n",
       "      <td>2018-12-01 13:29:48.327740</td>\n",
       "      <td>39264018</td>\n",
       "      <td>6</td>\n",
       "      <td>...</td>\n",
       "      <td>0.000000</td>\n",
       "      <td>1.0</td>\n",
       "      <td>1.0</td>\n",
       "      <td>19632008.0</td>\n",
       "      <td>3.557672e+06</td>\n",
       "      <td>22147662.0</td>\n",
       "      <td>17116354.0</td>\n",
       "      <td>0</td>\n",
       "      <td>1</td>\n",
       "      <td>UDP-lag</td>\n",
       "    </tr>\n",
       "  </tbody>\n",
       "</table>\n",
       "<p>1000000 rows × 88 columns</p>\n",
       "</div>"
      ],
      "text/plain": [
       "        Unnamed: 0                                Flow ID     Source IP  \\\n",
       "0              425   172.16.0.5-192.168.50.1-634-60495-17    172.16.0.5   \n",
       "1              430   172.16.0.5-192.168.50.1-60495-634-17  192.168.50.1   \n",
       "2             1654   172.16.0.5-192.168.50.1-634-46391-17    172.16.0.5   \n",
       "3             2927   172.16.0.5-192.168.50.1-634-11894-17    172.16.0.5   \n",
       "4              694   172.16.0.5-192.168.50.1-634-27878-17    172.16.0.5   \n",
       "...            ...                                    ...           ...   \n",
       "999995       49113    172.16.0.5-192.168.50.1-5838-5838-6    172.16.0.5   \n",
       "999996      215934   172.16.0.5-192.168.50.1-30092-1933-6    172.16.0.5   \n",
       "999997      106929  172.16.0.5-192.168.50.1-42092-42092-6    172.16.0.5   \n",
       "999998      131754  172.16.0.5-192.168.50.1-30093-25747-6    172.16.0.5   \n",
       "999999      329669  172.16.0.5-192.168.50.1-39910-39910-6    172.16.0.5   \n",
       "\n",
       "         Source Port  Destination IP   Destination Port   Protocol  \\\n",
       "0                634    192.168.50.1              60495         17   \n",
       "1                634      172.16.0.5              60495         17   \n",
       "2                634    192.168.50.1              46391         17   \n",
       "3                634    192.168.50.1              11894         17   \n",
       "4                634    192.168.50.1              27878         17   \n",
       "...              ...             ...                ...        ...   \n",
       "999995          5838    192.168.50.1               5838          6   \n",
       "999996         30092    192.168.50.1               1933          6   \n",
       "999997         42092    192.168.50.1              42092          6   \n",
       "999998         30093    192.168.50.1              25747          6   \n",
       "999999         39910    192.168.50.1              39910          6   \n",
       "\n",
       "                         Timestamp   Flow Duration   Total Fwd Packets  ...  \\\n",
       "0       2018-12-01 10:51:39.813448           28415                  97  ...   \n",
       "1       2018-12-01 10:51:39.820842               2                   2  ...   \n",
       "2       2018-12-01 10:51:39.852499           48549                 200  ...   \n",
       "3       2018-12-01 10:51:39.890213           48337                 200  ...   \n",
       "4       2018-12-01 10:51:39.941151           32026                 200  ...   \n",
       "...                            ...             ...                 ...  ...   \n",
       "999995  2018-12-01 13:29:48.327410        27493436                   4  ...   \n",
       "999996  2018-12-01 13:29:48.327411              49                   2  ...   \n",
       "999997  2018-12-01 13:29:48.327460        26907958                   6  ...   \n",
       "999998  2018-12-01 13:29:48.327519              58                   2  ...   \n",
       "999999  2018-12-01 13:29:48.327740        39264018                   6  ...   \n",
       "\n",
       "         Active Std   Active Max   Active Min   Idle Mean      Idle Std  \\\n",
       "0          0.000000          0.0          0.0         0.0  0.000000e+00   \n",
       "1          0.000000          0.0          0.0         0.0  0.000000e+00   \n",
       "2          0.000000          0.0          0.0         0.0  0.000000e+00   \n",
       "3          0.000000          0.0          0.0         0.0  0.000000e+00   \n",
       "4          0.000000          0.0          0.0         0.0  0.000000e+00   \n",
       "...             ...          ...          ...         ...           ...   \n",
       "999995     0.000000          1.0          1.0  27493434.0  0.000000e+00   \n",
       "999996     0.000000          0.0          0.0         0.0  0.000000e+00   \n",
       "999997    57.982756         83.0          1.0  13453918.5  4.202243e+06   \n",
       "999998     0.000000          0.0          0.0         0.0  0.000000e+00   \n",
       "999999     0.000000          1.0          1.0  19632008.0  3.557672e+06   \n",
       "\n",
       "          Idle Max    Idle Min  SimillarHTTP   Inbound      Label  \n",
       "0              0.0         0.0             0         1  DrDoS_DNS  \n",
       "1              0.0         0.0             0         0  DrDoS_DNS  \n",
       "2              0.0         0.0             0         1  DrDoS_DNS  \n",
       "3              0.0         0.0             0         1  DrDoS_DNS  \n",
       "4              0.0         0.0             0         1  DrDoS_DNS  \n",
       "...            ...         ...           ...       ...        ...  \n",
       "999995  27493434.0  27493434.0             0         1    UDP-lag  \n",
       "999996         0.0         0.0             0         1    UDP-lag  \n",
       "999997  16425353.0  10482484.0             0         1    UDP-lag  \n",
       "999998         0.0         0.0             0         1    UDP-lag  \n",
       "999999  22147662.0  17116354.0             0         1    UDP-lag  \n",
       "\n",
       "[1000000 rows x 88 columns]"
      ]
     },
     "execution_count": 52,
     "metadata": {},
     "output_type": "execute_result"
    }
   ],
   "source": [
    "# Merge all the datasets to one dataset\n",
    "dataset = pd.concat([DrDoS_DNS_data_1_per, DrDoS_LDAP_data_2_0_per, DrDoS_MSSQL_data_1_3_per, DrDoS_NetBIOS_data_1_3_per, DrDoS_NTP_data_data_5_per, DrDoS_SNMP_data_1_3_per, DrDoS_SSDP_data_2_per, DrDoS_UDP_data_2_per, Syn_data_4_per, UDPLag_data_2_0_per], ignore_index = True)\n",
    "dataset"
   ]
  },
  {
   "cell_type": "code",
   "execution_count": null,
   "metadata": {},
   "outputs": [
    {
     "data": {
      "text/plain": [
       "(1000000, 88)"
      ]
     },
     "execution_count": 53,
     "metadata": {},
     "output_type": "execute_result"
    }
   ],
   "source": [
    "#Get the number of rows and columns\n",
    "dataset.shape"
   ]
  },
  {
   "cell_type": "code",
   "execution_count": null,
   "metadata": {},
   "outputs": [
    {
     "data": {
      "text/plain": [
       "Syn              99986\n",
       "DrDoS_LDAP       99970\n",
       "DrDoS_SNMP       99956\n",
       "DrDoS_SSDP       99886\n",
       "DrDoS_NetBIOS    99425\n",
       "DrDoS_MSSQL      99349\n",
       "DrDoS_UDP        99096\n",
       "DrDoS_DNS        98290\n",
       "UDP-lag          95913\n",
       "DrDoS_NTP        87466\n",
       "BENIGN           20250\n",
       "WebDDoS            413\n",
       "Name:  Label, dtype: int64"
      ]
     },
     "execution_count": 54,
     "metadata": {},
     "output_type": "execute_result"
    }
   ],
   "source": [
    "# List values of Label column\n",
    "dataset[' Label'].value_counts()"
   ]
  },
  {
   "cell_type": "code",
   "execution_count": null,
   "metadata": {},
   "outputs": [],
   "source": [
    "features_count = dataset[' Label'].value_counts().to_dict()\n",
    "features_label = dataset[' Label'].unique().tolist()\n",
    "list_rows_need_remove = []\n",
    "for i in features_label:\n",
    "    #Get number needed delete row\n",
    "    rows_need_remove = features_count.get(i) - features_count.get('BENIGN')\n",
    "    #Get index of row need to remove (list)\n",
    "    idx = dataset.index[dataset[' Label'] == i].tolist()\n",
    "    idx = idx[:rows_need_remove]\n",
    "    list_rows_need_remove.extend(idx)\n",
    "dataset = dataset.drop(dataset.index[list_rows_need_remove])\n"
   ]
  },
  {
   "cell_type": "code",
   "execution_count": null,
   "metadata": {},
   "outputs": [
    {
     "data": {
      "text/plain": [
       "BENIGN           20250\n",
       "DrDoS_DNS        20250\n",
       "DrDoS_LDAP       20250\n",
       "DrDoS_MSSQL      20250\n",
       "DrDoS_NetBIOS    20250\n",
       "DrDoS_NTP        20250\n",
       "DrDoS_SNMP       20250\n",
       "DrDoS_SSDP       20250\n",
       "DrDoS_UDP        20250\n",
       "Syn              20250\n",
       "UDP-lag          20250\n",
       "WebDDoS            413\n",
       "Name:  Label, dtype: int64"
      ]
     },
     "execution_count": 56,
     "metadata": {},
     "output_type": "execute_result"
    }
   ],
   "source": [
    "# List values of Label column after scale\n",
    "dataset[' Label'].value_counts()"
   ]
  },
  {
   "cell_type": "code",
   "execution_count": null,
   "metadata": {},
   "outputs": [],
   "source": [
    "# Drop Unnamed:0, Unnamed:0.1 columns \n",
    "dataset = dataset.drop(['Unnamed: 0'], axis = 1)"
   ]
  },
  {
   "cell_type": "code",
   "execution_count": null,
   "metadata": {},
   "outputs": [
    {
     "data": {
      "text/plain": [
       "Index(['Flow ID', ' Source IP', ' Source Port', ' Destination IP',\n",
       "       ' Destination Port', ' Protocol', ' Timestamp', ' Flow Duration',\n",
       "       ' Total Fwd Packets', ' Total Backward Packets',\n",
       "       'Total Length of Fwd Packets', ' Total Length of Bwd Packets',\n",
       "       ' Fwd Packet Length Max', ' Fwd Packet Length Min',\n",
       "       ' Fwd Packet Length Mean', ' Fwd Packet Length Std',\n",
       "       'Bwd Packet Length Max', ' Bwd Packet Length Min',\n",
       "       ' Bwd Packet Length Mean', ' Bwd Packet Length Std', 'Flow Bytes/s',\n",
       "       ' Flow Packets/s', ' Flow IAT Mean', ' Flow IAT Std', ' Flow IAT Max',\n",
       "       ' Flow IAT Min', 'Fwd IAT Total', ' Fwd IAT Mean', ' Fwd IAT Std',\n",
       "       ' Fwd IAT Max', ' Fwd IAT Min', 'Bwd IAT Total', ' Bwd IAT Mean',\n",
       "       ' Bwd IAT Std', ' Bwd IAT Max', ' Bwd IAT Min', 'Fwd PSH Flags',\n",
       "       ' Bwd PSH Flags', ' Fwd URG Flags', ' Bwd URG Flags',\n",
       "       ' Fwd Header Length', ' Bwd Header Length', 'Fwd Packets/s',\n",
       "       ' Bwd Packets/s', ' Min Packet Length', ' Max Packet Length',\n",
       "       ' Packet Length Mean', ' Packet Length Std', ' Packet Length Variance',\n",
       "       'FIN Flag Count', ' SYN Flag Count', ' RST Flag Count',\n",
       "       ' PSH Flag Count', ' ACK Flag Count', ' URG Flag Count',\n",
       "       ' CWE Flag Count', ' ECE Flag Count', ' Down/Up Ratio',\n",
       "       ' Average Packet Size', ' Avg Fwd Segment Size',\n",
       "       ' Avg Bwd Segment Size', ' Fwd Header Length.1', 'Fwd Avg Bytes/Bulk',\n",
       "       ' Fwd Avg Packets/Bulk', ' Fwd Avg Bulk Rate', ' Bwd Avg Bytes/Bulk',\n",
       "       ' Bwd Avg Packets/Bulk', 'Bwd Avg Bulk Rate', 'Subflow Fwd Packets',\n",
       "       ' Subflow Fwd Bytes', ' Subflow Bwd Packets', ' Subflow Bwd Bytes',\n",
       "       'Init_Win_bytes_forward', ' Init_Win_bytes_backward',\n",
       "       ' act_data_pkt_fwd', ' min_seg_size_forward', 'Active Mean',\n",
       "       ' Active Std', ' Active Max', ' Active Min', 'Idle Mean', ' Idle Std',\n",
       "       ' Idle Max', ' Idle Min', 'SimillarHTTP', ' Inbound', ' Label'],\n",
       "      dtype='object')"
      ]
     },
     "execution_count": 58,
     "metadata": {},
     "output_type": "execute_result"
    }
   ],
   "source": [
    "# List name of columns\n",
    "dataset.columns "
   ]
  },
  {
   "cell_type": "code",
   "execution_count": null,
   "metadata": {},
   "outputs": [],
   "source": [
    "# Replace infinitive value with NaN value\n",
    "data_no_null = dataset.replace(np.inf, np.nan)"
   ]
  },
  {
   "cell_type": "code",
   "execution_count": null,
   "metadata": {},
   "outputs": [
    {
     "data": {
      "text/plain": [
       "11054"
      ]
     },
     "execution_count": 60,
     "metadata": {},
     "output_type": "execute_result"
    }
   ],
   "source": [
    "# Find the number of missing values in the data set. \n",
    "data_no_null.isnull().sum().sum()"
   ]
  },
  {
   "cell_type": "code",
   "execution_count": null,
   "metadata": {},
   "outputs": [
    {
     "data": {
      "text/plain": [
       "(217636, 87)"
      ]
     },
     "execution_count": 61,
     "metadata": {},
     "output_type": "execute_result"
    }
   ],
   "source": [
    "# Drop rows contains (NaN) missing values\n",
    "data_df = data_no_null.dropna(axis=0)\n",
    "data_df.shape"
   ]
  },
  {
   "cell_type": "code",
   "execution_count": null,
   "metadata": {},
   "outputs": [
    {
     "data": {
      "text/plain": [
       "(217636, 75)"
      ]
     },
     "execution_count": 62,
     "metadata": {},
     "output_type": "execute_result"
    }
   ],
   "source": [
    "#Find unique value in dataset and remove column has 0 value\n",
    "zero_value_column = []\n",
    "for i in data_df.columns:\n",
    "    if len(data_df[i].unique().tolist()) == 1:\n",
    "        zero_value_column.append(i)\n",
    "\n",
    "data_df = data_df.drop(columns=zero_value_column,axis=1)\n",
    "data_df.shape\n"
   ]
  },
  {
   "cell_type": "markdown",
   "metadata": {},
   "source": [
    " Result: \n",
    " Bwd PSH Flags\n",
    "[0]\n",
    " Fwd URG Flags\n",
    "[0]\n",
    " Bwd URG Flags\n",
    "[0]\n",
    "FIN Flag Count\n",
    "[0]\n",
    " PSH Flag Count\n",
    "[0]\n",
    " ECE Flag Count\n",
    "[0]\n",
    "Fwd Avg Bytes/Bulk\n",
    "[0]\n",
    " Fwd Avg Packets/Bulk\n",
    "[0]\n",
    " Fwd Avg Bulk Rate\n",
    "[0]\n",
    " Bwd Avg Bytes/Bulk\n",
    "[0]\n",
    " Bwd Avg Packets/Bulk\n",
    "[0]\n",
    "Bwd Avg Bulk Rate\n",
    "[0]"
   ]
  },
  {
   "cell_type": "code",
   "execution_count": null,
   "metadata": {},
   "outputs": [
    {
     "data": {
      "text/plain": [
       "0"
      ]
     },
     "execution_count": 63,
     "metadata": {},
     "output_type": "execute_result"
    }
   ],
   "source": [
    "# Check null value in data_df\n",
    "data_df.isnull().sum().sum()"
   ]
  },
  {
   "cell_type": "code",
   "execution_count": null,
   "metadata": {},
   "outputs": [],
   "source": [
    "#Drop some features if needed\n",
    "# data_X = data_df.drop(['Flow ID', ' Source IP', ' Destination IP',' Timestamp','SimillarHTTP', ' Inbound',' Label'],axis=1)\n",
    "data_X = data_df.drop([' Label'],axis=1)"
   ]
  },
  {
   "cell_type": "code",
   "execution_count": null,
   "metadata": {},
   "outputs": [
    {
     "data": {
      "text/plain": [
       "array(['BENIGN', 'DrDoS_DNS', 'DrDoS_LDAP', 'DrDoS_MSSQL',\n",
       "       'DrDoS_NetBIOS', 'DrDoS_NTP', 'DrDoS_SNMP', 'DrDoS_SSDP',\n",
       "       'DrDoS_UDP', 'Syn', 'WebDDoS', 'UDP-lag'], dtype=object)"
      ]
     },
     "execution_count": 65,
     "metadata": {},
     "output_type": "execute_result"
    }
   ],
   "source": [
    "#Data contains Label column\n",
    "data_Y = data_df[' Label']\n",
    "data_Y.unique()"
   ]
  },
  {
   "cell_type": "markdown",
   "metadata": {},
   "source": [
    "Label Encoding for the Dataset\n"
   ]
  },
  {
   "cell_type": "code",
   "execution_count": null,
   "metadata": {},
   "outputs": [],
   "source": [
    "from sklearn.preprocessing import LabelEncoder "
   ]
  },
  {
   "cell_type": "code",
   "execution_count": null,
   "metadata": {},
   "outputs": [],
   "source": [
    "label_encode = LabelEncoder()"
   ]
  },
  {
   "cell_type": "code",
   "execution_count": null,
   "metadata": {},
   "outputs": [
    {
     "data": {
      "text/plain": [
       "array([ 0,  1,  2,  3,  4,  5,  6,  7,  8,  9, 10, 11])"
      ]
     },
     "execution_count": 68,
     "metadata": {},
     "output_type": "execute_result"
    }
   ],
   "source": [
    "#Encode data Y (Label)\n",
    "data_y_trans = label_encode.fit_transform(data_Y)\n",
    "np.unique(data_y_trans)"
   ]
  },
  {
   "cell_type": "code",
   "execution_count": null,
   "metadata": {},
   "outputs": [
    {
     "data": {
      "text/plain": [
       "Index(['Flow ID', ' Source IP', ' Destination IP', ' Timestamp',\n",
       "       'SimillarHTTP'],\n",
       "      dtype='object')"
      ]
     },
     "execution_count": 69,
     "metadata": {},
     "output_type": "execute_result"
    }
   ],
   "source": [
    "#Processing with data X\n",
    "#Find type not a number of dataset column\n",
    "data_X.select_dtypes(include=['object','datetime']).columns\n"
   ]
  },
  {
   "cell_type": "code",
   "execution_count": null,
   "metadata": {},
   "outputs": [],
   "source": [
    "#Encode data X\n",
    "#FlowID\n",
    "data_X['Flow ID'] = LabelEncoder().fit_transform(data_X['Flow ID'])\n",
    "\n",
    "#Source IP\n",
    "data_X[' Source IP'] = LabelEncoder().fit_transform(data_X[' Source IP'])\n",
    "\n",
    "#Destination IP\n",
    "data_X[' Destination IP'] = LabelEncoder().fit_transform(data_X[' Destination IP'])\n",
    "\n",
    "#Timestamp\n",
    "data_X[' Timestamp'] = LabelEncoder().fit_transform(data_X[' Timestamp'])\n",
    "\n",
    "#SimillarHTTP\n",
    "data_X['SimillarHTTP'] = data_X['SimillarHTTP'].astype(str)\n",
    "data_X['SimillarHTTP'] = LabelEncoder().fit_transform(data_X['SimillarHTTP'])\n"
   ]
  },
  {
   "cell_type": "code",
   "execution_count": null,
   "metadata": {},
   "outputs": [
    {
     "data": {
      "text/plain": [
       "Flow ID                int32\n",
       " Source IP             int32\n",
       " Source Port           int64\n",
       " Destination IP        int32\n",
       " Destination Port      int64\n",
       "                      ...   \n",
       " Idle Std            float64\n",
       " Idle Max            float64\n",
       " Idle Min            float64\n",
       "SimillarHTTP           int32\n",
       " Inbound               int64\n",
       "Length: 74, dtype: object"
      ]
     },
     "execution_count": 71,
     "metadata": {},
     "output_type": "execute_result"
    }
   ],
   "source": [
    "data_X.dtypes"
   ]
  },
  {
   "cell_type": "code",
   "execution_count": null,
   "metadata": {},
   "outputs": [
    {
     "data": {
      "text/html": [
       "<div>\n",
       "<style scoped>\n",
       "    .dataframe tbody tr th:only-of-type {\n",
       "        vertical-align: middle;\n",
       "    }\n",
       "\n",
       "    .dataframe tbody tr th {\n",
       "        vertical-align: top;\n",
       "    }\n",
       "\n",
       "    .dataframe thead th {\n",
       "        text-align: right;\n",
       "    }\n",
       "</style>\n",
       "<table border=\"1\" class=\"dataframe\">\n",
       "  <thead>\n",
       "    <tr style=\"text-align: right;\">\n",
       "      <th></th>\n",
       "      <th>Flow ID</th>\n",
       "      <th>Source IP</th>\n",
       "      <th>Source Port</th>\n",
       "      <th>Destination IP</th>\n",
       "      <th>Destination Port</th>\n",
       "      <th>Protocol</th>\n",
       "      <th>Timestamp</th>\n",
       "      <th>Flow Duration</th>\n",
       "      <th>Total Fwd Packets</th>\n",
       "      <th>Total Backward Packets</th>\n",
       "      <th>...</th>\n",
       "      <th>Active Mean</th>\n",
       "      <th>Active Std</th>\n",
       "      <th>Active Max</th>\n",
       "      <th>Active Min</th>\n",
       "      <th>Idle Mean</th>\n",
       "      <th>Idle Std</th>\n",
       "      <th>Idle Max</th>\n",
       "      <th>Idle Min</th>\n",
       "      <th>SimillarHTTP</th>\n",
       "      <th>Inbound</th>\n",
       "    </tr>\n",
       "  </thead>\n",
       "  <tbody>\n",
       "    <tr>\n",
       "      <th>27</th>\n",
       "      <td>204069</td>\n",
       "      <td>158</td>\n",
       "      <td>59099</td>\n",
       "      <td>20</td>\n",
       "      <td>80</td>\n",
       "      <td>6</td>\n",
       "      <td>32533</td>\n",
       "      <td>110861755</td>\n",
       "      <td>26</td>\n",
       "      <td>26</td>\n",
       "      <td>...</td>\n",
       "      <td>198805.454545</td>\n",
       "      <td>64223.338986</td>\n",
       "      <td>392446.0</td>\n",
       "      <td>179351.0</td>\n",
       "      <td>9.863210e+06</td>\n",
       "      <td>4.131718e+05</td>\n",
       "      <td>10007500.0</td>\n",
       "      <td>8632089.0</td>\n",
       "      <td>97</td>\n",
       "      <td>0</td>\n",
       "    </tr>\n",
       "    <tr>\n",
       "      <th>31</th>\n",
       "      <td>206081</td>\n",
       "      <td>158</td>\n",
       "      <td>59102</td>\n",
       "      <td>391</td>\n",
       "      <td>443</td>\n",
       "      <td>6</td>\n",
       "      <td>32534</td>\n",
       "      <td>40335006</td>\n",
       "      <td>9</td>\n",
       "      <td>10</td>\n",
       "      <td>...</td>\n",
       "      <td>90226.500000</td>\n",
       "      <td>43.554563</td>\n",
       "      <td>90287.0</td>\n",
       "      <td>90185.0</td>\n",
       "      <td>9.993447e+06</td>\n",
       "      <td>4.049575e+04</td>\n",
       "      <td>10018634.0</td>\n",
       "      <td>9933709.0</td>\n",
       "      <td>0</td>\n",
       "      <td>0</td>\n",
       "    </tr>\n",
       "    <tr>\n",
       "      <th>53</th>\n",
       "      <td>196590</td>\n",
       "      <td>154</td>\n",
       "      <td>0</td>\n",
       "      <td>227</td>\n",
       "      <td>0</td>\n",
       "      <td>0</td>\n",
       "      <td>32535</td>\n",
       "      <td>113244633</td>\n",
       "      <td>56</td>\n",
       "      <td>0</td>\n",
       "      <td>...</td>\n",
       "      <td>248176.750000</td>\n",
       "      <td>859690.585416</td>\n",
       "      <td>2978061.0</td>\n",
       "      <td>4.0</td>\n",
       "      <td>9.188876e+06</td>\n",
       "      <td>8.099017e+05</td>\n",
       "      <td>9882838.0</td>\n",
       "      <td>6781893.0</td>\n",
       "      <td>0</td>\n",
       "      <td>0</td>\n",
       "    </tr>\n",
       "    <tr>\n",
       "      <th>93</th>\n",
       "      <td>204153</td>\n",
       "      <td>158</td>\n",
       "      <td>59155</td>\n",
       "      <td>230</td>\n",
       "      <td>80</td>\n",
       "      <td>6</td>\n",
       "      <td>32536</td>\n",
       "      <td>95628949</td>\n",
       "      <td>21</td>\n",
       "      <td>20</td>\n",
       "      <td>...</td>\n",
       "      <td>14901.222222</td>\n",
       "      <td>177.422362</td>\n",
       "      <td>15367.0</td>\n",
       "      <td>14798.0</td>\n",
       "      <td>1.001418e+07</td>\n",
       "      <td>5.184078e+03</td>\n",
       "      <td>10016037.0</td>\n",
       "      <td>10000366.0</td>\n",
       "      <td>0</td>\n",
       "      <td>0</td>\n",
       "    </tr>\n",
       "    <tr>\n",
       "      <th>94</th>\n",
       "      <td>195197</td>\n",
       "      <td>158</td>\n",
       "      <td>59131</td>\n",
       "      <td>39</td>\n",
       "      <td>80</td>\n",
       "      <td>6</td>\n",
       "      <td>32537</td>\n",
       "      <td>95613243</td>\n",
       "      <td>21</td>\n",
       "      <td>20</td>\n",
       "      <td>...</td>\n",
       "      <td>26508.333333</td>\n",
       "      <td>17.902514</td>\n",
       "      <td>26534.0</td>\n",
       "      <td>26473.0</td>\n",
       "      <td>1.000431e+07</td>\n",
       "      <td>2.143012e+01</td>\n",
       "      <td>10004365.0</td>\n",
       "      <td>10004289.0</td>\n",
       "      <td>0</td>\n",
       "      <td>0</td>\n",
       "    </tr>\n",
       "    <tr>\n",
       "      <th>...</th>\n",
       "      <td>...</td>\n",
       "      <td>...</td>\n",
       "      <td>...</td>\n",
       "      <td>...</td>\n",
       "      <td>...</td>\n",
       "      <td>...</td>\n",
       "      <td>...</td>\n",
       "      <td>...</td>\n",
       "      <td>...</td>\n",
       "      <td>...</td>\n",
       "      <td>...</td>\n",
       "      <td>...</td>\n",
       "      <td>...</td>\n",
       "      <td>...</td>\n",
       "      <td>...</td>\n",
       "      <td>...</td>\n",
       "      <td>...</td>\n",
       "      <td>...</td>\n",
       "      <td>...</td>\n",
       "      <td>...</td>\n",
       "      <td>...</td>\n",
       "    </tr>\n",
       "    <tr>\n",
       "      <th>999995</th>\n",
       "      <td>96599</td>\n",
       "      <td>29</td>\n",
       "      <td>5838</td>\n",
       "      <td>166</td>\n",
       "      <td>5838</td>\n",
       "      <td>6</td>\n",
       "      <td>198885</td>\n",
       "      <td>27493436</td>\n",
       "      <td>4</td>\n",
       "      <td>0</td>\n",
       "      <td>...</td>\n",
       "      <td>1.000000</td>\n",
       "      <td>0.000000</td>\n",
       "      <td>1.0</td>\n",
       "      <td>1.0</td>\n",
       "      <td>2.749343e+07</td>\n",
       "      <td>0.000000e+00</td>\n",
       "      <td>27493434.0</td>\n",
       "      <td>27493434.0</td>\n",
       "      <td>0</td>\n",
       "      <td>1</td>\n",
       "    </tr>\n",
       "    <tr>\n",
       "      <th>999996</th>\n",
       "      <td>16037</td>\n",
       "      <td>29</td>\n",
       "      <td>30092</td>\n",
       "      <td>166</td>\n",
       "      <td>1933</td>\n",
       "      <td>6</td>\n",
       "      <td>198886</td>\n",
       "      <td>49</td>\n",
       "      <td>2</td>\n",
       "      <td>0</td>\n",
       "      <td>...</td>\n",
       "      <td>0.000000</td>\n",
       "      <td>0.000000</td>\n",
       "      <td>0.0</td>\n",
       "      <td>0.0</td>\n",
       "      <td>0.000000e+00</td>\n",
       "      <td>0.000000e+00</td>\n",
       "      <td>0.0</td>\n",
       "      <td>0.0</td>\n",
       "      <td>0</td>\n",
       "      <td>1</td>\n",
       "    </tr>\n",
       "    <tr>\n",
       "      <th>999997</th>\n",
       "      <td>44439</td>\n",
       "      <td>29</td>\n",
       "      <td>42092</td>\n",
       "      <td>166</td>\n",
       "      <td>42092</td>\n",
       "      <td>6</td>\n",
       "      <td>198887</td>\n",
       "      <td>26907958</td>\n",
       "      <td>6</td>\n",
       "      <td>2</td>\n",
       "      <td>...</td>\n",
       "      <td>42.000000</td>\n",
       "      <td>57.982756</td>\n",
       "      <td>83.0</td>\n",
       "      <td>1.0</td>\n",
       "      <td>1.345392e+07</td>\n",
       "      <td>4.202243e+06</td>\n",
       "      <td>16425353.0</td>\n",
       "      <td>10482484.0</td>\n",
       "      <td>0</td>\n",
       "      <td>1</td>\n",
       "    </tr>\n",
       "    <tr>\n",
       "      <th>999998</th>\n",
       "      <td>16038</td>\n",
       "      <td>29</td>\n",
       "      <td>30093</td>\n",
       "      <td>166</td>\n",
       "      <td>25747</td>\n",
       "      <td>6</td>\n",
       "      <td>198888</td>\n",
       "      <td>58</td>\n",
       "      <td>2</td>\n",
       "      <td>2</td>\n",
       "      <td>...</td>\n",
       "      <td>0.000000</td>\n",
       "      <td>0.000000</td>\n",
       "      <td>0.0</td>\n",
       "      <td>0.0</td>\n",
       "      <td>0.000000e+00</td>\n",
       "      <td>0.000000e+00</td>\n",
       "      <td>0.0</td>\n",
       "      <td>0.0</td>\n",
       "      <td>0</td>\n",
       "      <td>1</td>\n",
       "    </tr>\n",
       "    <tr>\n",
       "      <th>999999</th>\n",
       "      <td>38018</td>\n",
       "      <td>29</td>\n",
       "      <td>39910</td>\n",
       "      <td>166</td>\n",
       "      <td>39910</td>\n",
       "      <td>6</td>\n",
       "      <td>198889</td>\n",
       "      <td>39264018</td>\n",
       "      <td>6</td>\n",
       "      <td>0</td>\n",
       "      <td>...</td>\n",
       "      <td>1.000000</td>\n",
       "      <td>0.000000</td>\n",
       "      <td>1.0</td>\n",
       "      <td>1.0</td>\n",
       "      <td>1.963201e+07</td>\n",
       "      <td>3.557672e+06</td>\n",
       "      <td>22147662.0</td>\n",
       "      <td>17116354.0</td>\n",
       "      <td>0</td>\n",
       "      <td>1</td>\n",
       "    </tr>\n",
       "  </tbody>\n",
       "</table>\n",
       "<p>217636 rows × 74 columns</p>\n",
       "</div>"
      ],
      "text/plain": [
       "        Flow ID   Source IP   Source Port   Destination IP   Destination Port  \\\n",
       "27       204069         158         59099               20                 80   \n",
       "31       206081         158         59102              391                443   \n",
       "53       196590         154             0              227                  0   \n",
       "93       204153         158         59155              230                 80   \n",
       "94       195197         158         59131               39                 80   \n",
       "...         ...         ...           ...              ...                ...   \n",
       "999995    96599          29          5838              166               5838   \n",
       "999996    16037          29         30092              166               1933   \n",
       "999997    44439          29         42092              166              42092   \n",
       "999998    16038          29         30093              166              25747   \n",
       "999999    38018          29         39910              166              39910   \n",
       "\n",
       "         Protocol   Timestamp   Flow Duration   Total Fwd Packets  \\\n",
       "27              6       32533       110861755                  26   \n",
       "31              6       32534        40335006                   9   \n",
       "53              0       32535       113244633                  56   \n",
       "93              6       32536        95628949                  21   \n",
       "94              6       32537        95613243                  21   \n",
       "...           ...         ...             ...                 ...   \n",
       "999995          6      198885        27493436                   4   \n",
       "999996          6      198886              49                   2   \n",
       "999997          6      198887        26907958                   6   \n",
       "999998          6      198888              58                   2   \n",
       "999999          6      198889        39264018                   6   \n",
       "\n",
       "         Total Backward Packets  ...    Active Mean     Active Std  \\\n",
       "27                           26  ...  198805.454545   64223.338986   \n",
       "31                           10  ...   90226.500000      43.554563   \n",
       "53                            0  ...  248176.750000  859690.585416   \n",
       "93                           20  ...   14901.222222     177.422362   \n",
       "94                           20  ...   26508.333333      17.902514   \n",
       "...                         ...  ...            ...            ...   \n",
       "999995                        0  ...       1.000000       0.000000   \n",
       "999996                        0  ...       0.000000       0.000000   \n",
       "999997                        2  ...      42.000000      57.982756   \n",
       "999998                        2  ...       0.000000       0.000000   \n",
       "999999                        0  ...       1.000000       0.000000   \n",
       "\n",
       "         Active Max   Active Min     Idle Mean      Idle Std    Idle Max  \\\n",
       "27         392446.0     179351.0  9.863210e+06  4.131718e+05  10007500.0   \n",
       "31          90287.0      90185.0  9.993447e+06  4.049575e+04  10018634.0   \n",
       "53        2978061.0          4.0  9.188876e+06  8.099017e+05   9882838.0   \n",
       "93          15367.0      14798.0  1.001418e+07  5.184078e+03  10016037.0   \n",
       "94          26534.0      26473.0  1.000431e+07  2.143012e+01  10004365.0   \n",
       "...             ...          ...           ...           ...         ...   \n",
       "999995          1.0          1.0  2.749343e+07  0.000000e+00  27493434.0   \n",
       "999996          0.0          0.0  0.000000e+00  0.000000e+00         0.0   \n",
       "999997         83.0          1.0  1.345392e+07  4.202243e+06  16425353.0   \n",
       "999998          0.0          0.0  0.000000e+00  0.000000e+00         0.0   \n",
       "999999          1.0          1.0  1.963201e+07  3.557672e+06  22147662.0   \n",
       "\n",
       "          Idle Min  SimillarHTTP   Inbound  \n",
       "27       8632089.0            97         0  \n",
       "31       9933709.0             0         0  \n",
       "53       6781893.0             0         0  \n",
       "93      10000366.0             0         0  \n",
       "94      10004289.0             0         0  \n",
       "...            ...           ...       ...  \n",
       "999995  27493434.0             0         1  \n",
       "999996         0.0             0         1  \n",
       "999997  10482484.0             0         1  \n",
       "999998         0.0             0         1  \n",
       "999999  17116354.0             0         1  \n",
       "\n",
       "[217636 rows x 74 columns]"
      ]
     },
     "execution_count": 72,
     "metadata": {},
     "output_type": "execute_result"
    }
   ],
   "source": [
    "data_X"
   ]
  },
  {
   "cell_type": "code",
   "execution_count": null,
   "metadata": {},
   "outputs": [
    {
     "name": "stderr",
     "output_type": "stream",
     "text": [
      "C:\\Users\\hoang\\AppData\\Local\\Programs\\Python\\Python310\\lib\\site-packages\\seaborn\\_decorators.py:36: FutureWarning: Pass the following variable as a keyword arg: x. From version 0.12, the only valid positional argument will be `data`, and passing other arguments without an explicit keyword will result in an error or misinterpretation.\n",
      "  warnings.warn(\n"
     ]
    },
    {
     "data": {
      "text/plain": [
       "<AxesSubplot:xlabel=' Protocol'>"
      ]
     },
     "execution_count": 73,
     "metadata": {},
     "output_type": "execute_result"
    },
    {
     "data": {
      "image/png": "[encoded data removed]",
      "text/plain": [
       "<Figure size 432x288 with 1 Axes>"
      ]
     },
     "metadata": {
      "needs_background": "light"
     },
     "output_type": "display_data"
    }
   ],
   "source": [
    "#Find outliner in dataset\n",
    "import seaborn as sns\n",
    "sns.boxplot(data_X[data_X.columns[5]])"
   ]
  },
  {
   "cell_type": "code",
   "execution_count": null,
   "metadata": {},
   "outputs": [
    {
     "data": {
      "text/html": [
       "<div>\n",
       "<style scoped>\n",
       "    .dataframe tbody tr th:only-of-type {\n",
       "        vertical-align: middle;\n",
       "    }\n",
       "\n",
       "    .dataframe tbody tr th {\n",
       "        vertical-align: top;\n",
       "    }\n",
       "\n",
       "    .dataframe thead th {\n",
       "        text-align: right;\n",
       "    }\n",
       "</style>\n",
       "<table border=\"1\" class=\"dataframe\">\n",
       "  <thead>\n",
       "    <tr style=\"text-align: right;\">\n",
       "      <th></th>\n",
       "      <th>Flow ID</th>\n",
       "      <th>Source IP</th>\n",
       "      <th>Source Port</th>\n",
       "      <th>Destination IP</th>\n",
       "      <th>Destination Port</th>\n",
       "      <th>Protocol</th>\n",
       "      <th>Timestamp</th>\n",
       "      <th>Flow Duration</th>\n",
       "      <th>Total Fwd Packets</th>\n",
       "      <th>Total Backward Packets</th>\n",
       "      <th>...</th>\n",
       "      <th>Active Mean</th>\n",
       "      <th>Active Std</th>\n",
       "      <th>Active Max</th>\n",
       "      <th>Active Min</th>\n",
       "      <th>Idle Mean</th>\n",
       "      <th>Idle Std</th>\n",
       "      <th>Idle Max</th>\n",
       "      <th>Idle Min</th>\n",
       "      <th>SimillarHTTP</th>\n",
       "      <th>Inbound</th>\n",
       "    </tr>\n",
       "  </thead>\n",
       "  <tbody>\n",
       "    <tr>\n",
       "      <th>0</th>\n",
       "      <td>1.583366</td>\n",
       "      <td>2.673966</td>\n",
       "      <td>1.431467</td>\n",
       "      <td>-3.448614</td>\n",
       "      <td>-1.518010</td>\n",
       "      <td>-1.823243</td>\n",
       "      <td>-1.213962</td>\n",
       "      <td>4.809151</td>\n",
       "      <td>0.070025</td>\n",
       "      <td>1.746548</td>\n",
       "      <td>...</td>\n",
       "      <td>0.980907</td>\n",
       "      <td>0.598401</td>\n",
       "      <td>1.415092</td>\n",
       "      <td>0.974099</td>\n",
       "      <td>1.206520</td>\n",
       "      <td>-0.003215</td>\n",
       "      <td>0.938550</td>\n",
       "      <td>1.229337</td>\n",
       "      <td>9.475161</td>\n",
       "      <td>-3.471208</td>\n",
       "    </tr>\n",
       "    <tr>\n",
       "      <th>1</th>\n",
       "      <td>1.616135</td>\n",
       "      <td>2.673966</td>\n",
       "      <td>1.431590</td>\n",
       "      <td>4.829878</td>\n",
       "      <td>-1.500063</td>\n",
       "      <td>-1.823243</td>\n",
       "      <td>-1.213946</td>\n",
       "      <td>1.568930</td>\n",
       "      <td>-0.008575</td>\n",
       "      <td>0.636050</td>\n",
       "      <td>...</td>\n",
       "      <td>0.414273</td>\n",
       "      <td>-0.059142</td>\n",
       "      <td>0.271315</td>\n",
       "      <td>0.469000</td>\n",
       "      <td>1.226195</td>\n",
       "      <td>-0.200837</td>\n",
       "      <td>0.939918</td>\n",
       "      <td>1.453809</td>\n",
       "      <td>-0.059093</td>\n",
       "      <td>-3.471208</td>\n",
       "    </tr>\n",
       "    <tr>\n",
       "      <th>2</th>\n",
       "      <td>1.461557</td>\n",
       "      <td>2.582005</td>\n",
       "      <td>-0.988646</td>\n",
       "      <td>1.170383</td>\n",
       "      <td>-1.521965</td>\n",
       "      <td>-3.115267</td>\n",
       "      <td>-1.213930</td>\n",
       "      <td>4.918628</td>\n",
       "      <td>0.208731</td>\n",
       "      <td>-0.058011</td>\n",
       "      <td>...</td>\n",
       "      <td>1.238557</td>\n",
       "      <td>8.748224</td>\n",
       "      <td>11.202543</td>\n",
       "      <td>-0.041849</td>\n",
       "      <td>1.104648</td>\n",
       "      <td>0.207163</td>\n",
       "      <td>0.923235</td>\n",
       "      <td>0.910260</td>\n",
       "      <td>-0.059093</td>\n",
       "      <td>-3.471208</td>\n",
       "    </tr>\n",
       "    <tr>\n",
       "      <th>3</th>\n",
       "      <td>1.584734</td>\n",
       "      <td>2.673966</td>\n",
       "      <td>1.433760</td>\n",
       "      <td>1.237325</td>\n",
       "      <td>-1.518010</td>\n",
       "      <td>-1.823243</td>\n",
       "      <td>-1.213914</td>\n",
       "      <td>4.109308</td>\n",
       "      <td>0.046908</td>\n",
       "      <td>1.330111</td>\n",
       "      <td>...</td>\n",
       "      <td>0.021179</td>\n",
       "      <td>-0.057770</td>\n",
       "      <td>-0.012283</td>\n",
       "      <td>0.041955</td>\n",
       "      <td>1.229327</td>\n",
       "      <td>-0.219562</td>\n",
       "      <td>0.939599</td>\n",
       "      <td>1.465304</td>\n",
       "      <td>-0.059093</td>\n",
       "      <td>-3.471208</td>\n",
       "    </tr>\n",
       "    <tr>\n",
       "      <th>4</th>\n",
       "      <td>1.438869</td>\n",
       "      <td>2.673966</td>\n",
       "      <td>1.432777</td>\n",
       "      <td>-3.024648</td>\n",
       "      <td>-1.518010</td>\n",
       "      <td>-1.823243</td>\n",
       "      <td>-1.213898</td>\n",
       "      <td>4.108586</td>\n",
       "      <td>0.046908</td>\n",
       "      <td>1.330111</td>\n",
       "      <td>...</td>\n",
       "      <td>0.081752</td>\n",
       "      <td>-0.059404</td>\n",
       "      <td>0.029988</td>\n",
       "      <td>0.108090</td>\n",
       "      <td>1.227836</td>\n",
       "      <td>-0.222299</td>\n",
       "      <td>0.938165</td>\n",
       "      <td>1.465981</td>\n",
       "      <td>-0.059093</td>\n",
       "      <td>-3.471208</td>\n",
       "    </tr>\n",
       "    <tr>\n",
       "      <th>...</th>\n",
       "      <td>...</td>\n",
       "      <td>...</td>\n",
       "      <td>...</td>\n",
       "      <td>...</td>\n",
       "      <td>...</td>\n",
       "      <td>...</td>\n",
       "      <td>...</td>\n",
       "      <td>...</td>\n",
       "      <td>...</td>\n",
       "      <td>...</td>\n",
       "      <td>...</td>\n",
       "      <td>...</td>\n",
       "      <td>...</td>\n",
       "      <td>...</td>\n",
       "      <td>...</td>\n",
       "      <td>...</td>\n",
       "      <td>...</td>\n",
       "      <td>...</td>\n",
       "      <td>...</td>\n",
       "      <td>...</td>\n",
       "      <td>...</td>\n",
       "    </tr>\n",
       "    <tr>\n",
       "      <th>217631</th>\n",
       "      <td>-0.166980</td>\n",
       "      <td>-0.291754</td>\n",
       "      <td>-0.749579</td>\n",
       "      <td>-0.190771</td>\n",
       "      <td>-1.233336</td>\n",
       "      <td>-1.823243</td>\n",
       "      <td>1.434003</td>\n",
       "      <td>0.978948</td>\n",
       "      <td>-0.031692</td>\n",
       "      <td>-0.058011</td>\n",
       "      <td>...</td>\n",
       "      <td>-0.056580</td>\n",
       "      <td>-0.059588</td>\n",
       "      <td>-0.070448</td>\n",
       "      <td>-0.041866</td>\n",
       "      <td>3.869916</td>\n",
       "      <td>-0.222311</td>\n",
       "      <td>3.086697</td>\n",
       "      <td>4.482084</td>\n",
       "      <td>-0.059093</td>\n",
       "      <td>0.288084</td>\n",
       "    </tr>\n",
       "    <tr>\n",
       "      <th>217632</th>\n",
       "      <td>-1.479080</td>\n",
       "      <td>-0.291754</td>\n",
       "      <td>0.243626</td>\n",
       "      <td>-0.190771</td>\n",
       "      <td>-1.426398</td>\n",
       "      <td>-1.823243</td>\n",
       "      <td>1.434018</td>\n",
       "      <td>-0.284185</td>\n",
       "      <td>-0.040939</td>\n",
       "      <td>-0.058011</td>\n",
       "      <td>...</td>\n",
       "      <td>-0.056585</td>\n",
       "      <td>-0.059588</td>\n",
       "      <td>-0.070452</td>\n",
       "      <td>-0.041872</td>\n",
       "      <td>-0.283515</td>\n",
       "      <td>-0.222311</td>\n",
       "      <td>-0.290872</td>\n",
       "      <td>-0.259316</td>\n",
       "      <td>-0.059093</td>\n",
       "      <td>0.288084</td>\n",
       "    </tr>\n",
       "    <tr>\n",
       "      <th>217633</th>\n",
       "      <td>-1.016501</td>\n",
       "      <td>-0.291754</td>\n",
       "      <td>0.735028</td>\n",
       "      <td>-0.190771</td>\n",
       "      <td>0.559050</td>\n",
       "      <td>-1.823243</td>\n",
       "      <td>1.434034</td>\n",
       "      <td>0.952049</td>\n",
       "      <td>-0.022445</td>\n",
       "      <td>0.080801</td>\n",
       "      <td>...</td>\n",
       "      <td>-0.056366</td>\n",
       "      <td>-0.058994</td>\n",
       "      <td>-0.070138</td>\n",
       "      <td>-0.041866</td>\n",
       "      <td>1.748968</td>\n",
       "      <td>2.006049</td>\n",
       "      <td>1.726983</td>\n",
       "      <td>1.548448</td>\n",
       "      <td>-0.059093</td>\n",
       "      <td>0.288084</td>\n",
       "    </tr>\n",
       "    <tr>\n",
       "      <th>217634</th>\n",
       "      <td>-1.479064</td>\n",
       "      <td>-0.291754</td>\n",
       "      <td>0.243667</td>\n",
       "      <td>-0.190771</td>\n",
       "      <td>-0.249042</td>\n",
       "      <td>-1.823243</td>\n",
       "      <td>1.434050</td>\n",
       "      <td>-0.284185</td>\n",
       "      <td>-0.040939</td>\n",
       "      <td>0.080801</td>\n",
       "      <td>...</td>\n",
       "      <td>-0.056585</td>\n",
       "      <td>-0.059588</td>\n",
       "      <td>-0.070452</td>\n",
       "      <td>-0.041872</td>\n",
       "      <td>-0.283515</td>\n",
       "      <td>-0.222311</td>\n",
       "      <td>-0.290872</td>\n",
       "      <td>-0.259316</td>\n",
       "      <td>-0.059093</td>\n",
       "      <td>0.288084</td>\n",
       "    </tr>\n",
       "    <tr>\n",
       "      <th>217635</th>\n",
       "      <td>-1.121079</td>\n",
       "      <td>-0.291754</td>\n",
       "      <td>0.645674</td>\n",
       "      <td>-0.190771</td>\n",
       "      <td>0.451173</td>\n",
       "      <td>-1.823243</td>\n",
       "      <td>1.434066</td>\n",
       "      <td>1.519726</td>\n",
       "      <td>-0.022445</td>\n",
       "      <td>-0.058011</td>\n",
       "      <td>...</td>\n",
       "      <td>-0.056580</td>\n",
       "      <td>-0.059588</td>\n",
       "      <td>-0.070448</td>\n",
       "      <td>-0.041866</td>\n",
       "      <td>2.682291</td>\n",
       "      <td>1.664247</td>\n",
       "      <td>2.429969</td>\n",
       "      <td>2.692497</td>\n",
       "      <td>-0.059093</td>\n",
       "      <td>0.288084</td>\n",
       "    </tr>\n",
       "  </tbody>\n",
       "</table>\n",
       "<p>217636 rows × 74 columns</p>\n",
       "</div>"
      ],
      "text/plain": [
       "         Flow ID   Source IP   Source Port   Destination IP  \\\n",
       "0       1.583366    2.673966      1.431467        -3.448614   \n",
       "1       1.616135    2.673966      1.431590         4.829878   \n",
       "2       1.461557    2.582005     -0.988646         1.170383   \n",
       "3       1.584734    2.673966      1.433760         1.237325   \n",
       "4       1.438869    2.673966      1.432777        -3.024648   \n",
       "...          ...         ...           ...              ...   \n",
       "217631 -0.166980   -0.291754     -0.749579        -0.190771   \n",
       "217632 -1.479080   -0.291754      0.243626        -0.190771   \n",
       "217633 -1.016501   -0.291754      0.735028        -0.190771   \n",
       "217634 -1.479064   -0.291754      0.243667        -0.190771   \n",
       "217635 -1.121079   -0.291754      0.645674        -0.190771   \n",
       "\n",
       "         Destination Port   Protocol   Timestamp   Flow Duration  \\\n",
       "0               -1.518010  -1.823243   -1.213962        4.809151   \n",
       "1               -1.500063  -1.823243   -1.213946        1.568930   \n",
       "2               -1.521965  -3.115267   -1.213930        4.918628   \n",
       "3               -1.518010  -1.823243   -1.213914        4.109308   \n",
       "4               -1.518010  -1.823243   -1.213898        4.108586   \n",
       "...                   ...        ...         ...             ...   \n",
       "217631          -1.233336  -1.823243    1.434003        0.978948   \n",
       "217632          -1.426398  -1.823243    1.434018       -0.284185   \n",
       "217633           0.559050  -1.823243    1.434034        0.952049   \n",
       "217634          -0.249042  -1.823243    1.434050       -0.284185   \n",
       "217635           0.451173  -1.823243    1.434066        1.519726   \n",
       "\n",
       "         Total Fwd Packets   Total Backward Packets  ...  Active Mean  \\\n",
       "0                 0.070025                 1.746548  ...     0.980907   \n",
       "1                -0.008575                 0.636050  ...     0.414273   \n",
       "2                 0.208731                -0.058011  ...     1.238557   \n",
       "3                 0.046908                 1.330111  ...     0.021179   \n",
       "4                 0.046908                 1.330111  ...     0.081752   \n",
       "...                    ...                      ...  ...          ...   \n",
       "217631           -0.031692                -0.058011  ...    -0.056580   \n",
       "217632           -0.040939                -0.058011  ...    -0.056585   \n",
       "217633           -0.022445                 0.080801  ...    -0.056366   \n",
       "217634           -0.040939                 0.080801  ...    -0.056585   \n",
       "217635           -0.022445                -0.058011  ...    -0.056580   \n",
       "\n",
       "         Active Std   Active Max   Active Min  Idle Mean   Idle Std  \\\n",
       "0          0.598401     1.415092     0.974099   1.206520  -0.003215   \n",
       "1         -0.059142     0.271315     0.469000   1.226195  -0.200837   \n",
       "2          8.748224    11.202543    -0.041849   1.104648   0.207163   \n",
       "3         -0.057770    -0.012283     0.041955   1.229327  -0.219562   \n",
       "4         -0.059404     0.029988     0.108090   1.227836  -0.222299   \n",
       "...             ...          ...          ...        ...        ...   \n",
       "217631    -0.059588    -0.070448    -0.041866   3.869916  -0.222311   \n",
       "217632    -0.059588    -0.070452    -0.041872  -0.283515  -0.222311   \n",
       "217633    -0.058994    -0.070138    -0.041866   1.748968   2.006049   \n",
       "217634    -0.059588    -0.070452    -0.041872  -0.283515  -0.222311   \n",
       "217635    -0.059588    -0.070448    -0.041866   2.682291   1.664247   \n",
       "\n",
       "         Idle Max   Idle Min  SimillarHTTP   Inbound  \n",
       "0        0.938550   1.229337      9.475161 -3.471208  \n",
       "1        0.939918   1.453809     -0.059093 -3.471208  \n",
       "2        0.923235   0.910260     -0.059093 -3.471208  \n",
       "3        0.939599   1.465304     -0.059093 -3.471208  \n",
       "4        0.938165   1.465981     -0.059093 -3.471208  \n",
       "...           ...        ...           ...       ...  \n",
       "217631   3.086697   4.482084     -0.059093  0.288084  \n",
       "217632  -0.290872  -0.259316     -0.059093  0.288084  \n",
       "217633   1.726983   1.548448     -0.059093  0.288084  \n",
       "217634  -0.290872  -0.259316     -0.059093  0.288084  \n",
       "217635   2.429969   2.692497     -0.059093  0.288084  \n",
       "\n",
       "[217636 rows x 74 columns]"
      ]
     },
     "execution_count": 74,
     "metadata": {},
     "output_type": "execute_result"
    }
   ],
   "source": [
    "#Feature Scaling\n",
    "#Because some features have outliner so I use Standardization, this technique is preferred if outliers are present in the dataset\n",
    "from sklearn.preprocessing import StandardScaler\n",
    "\n",
    "data_X_scaled = StandardScaler().fit_transform(data_X.to_numpy())\n",
    "data_X_scaled = pd.DataFrame(data_X_scaled, columns=data_X.columns)\n",
    "data_X_scaled"
   ]
  },
  {
   "cell_type": "code",
   "execution_count": null,
   "metadata": {},
   "outputs": [],
   "source": [
    "#Split dataset to data_train and data_test\n",
    "\n",
    "from sklearn.model_selection import train_test_split\n",
    "X_train, X_test, Y_train, Y_test = train_test_split(data_X_scaled, data_y_trans, test_size = 0.30, random_state = 42)"
   ]
  },
  {
   "cell_type": "code",
   "execution_count": null,
   "metadata": {},
   "outputs": [
    {
     "data": {
      "text/plain": [
       "RandomForestClassifier()"
      ]
     },
     "execution_count": 76,
     "metadata": {},
     "output_type": "execute_result"
    }
   ],
   "source": [
    "#1. Random Forest Classification\n",
    "from sklearn.ensemble import RandomForestClassifier\n",
    "rf = RandomForestClassifier()\n",
    "rf.fit(X_train, Y_train)"
   ]
  },
  {
   "cell_type": "code",
   "execution_count": null,
   "metadata": {},
   "outputs": [],
   "source": [
    "#Export model\n",
    "import pickle\n",
    "pickle.dump(rf, open('../model_training/RF_Model', 'wb'))"
   ]
  },
  {
   "cell_type": "code",
   "execution_count": null,
   "metadata": {},
   "outputs": [
    {
     "data": {
      "text/plain": [
       "array([2, 0, 5, ..., 0, 9, 7])"
      ]
     },
     "execution_count": 78,
     "metadata": {},
     "output_type": "execute_result"
    }
   ],
   "source": [
    "rf_y_pred = rf.predict(X_test)\n",
    "rf_y_pred"
   ]
  },
  {
   "cell_type": "code",
   "execution_count": null,
   "metadata": {},
   "outputs": [
    {
     "name": "stdout",
     "output_type": "stream",
     "text": [
      "Accuracy Score for Random_Forest: \n",
      " 99.94945704614724\n",
      "Classification Report for Random Forest: \n",
      "                precision    recall  f1-score   support\n",
      "\n",
      "       BENIGN       1.00      1.00      1.00      6120\n",
      "    DrDoS_DNS       1.00      1.00      1.00      5589\n",
      "   DrDoS_LDAP       1.00      1.00      1.00      5997\n",
      "  DrDoS_MSSQL       1.00      1.00      1.00      5965\n",
      "    DrDoS_NTP       1.00      1.00      1.00      6096\n",
      "DrDoS_NetBIOS       1.00      1.00      1.00      6043\n",
      "   DrDoS_SNMP       1.00      1.00      1.00      6066\n",
      "   DrDoS_SSDP       1.00      1.00      1.00      5916\n",
      "    DrDoS_UDP       1.00      1.00      1.00      6062\n",
      "          Syn       1.00      1.00      1.00      5678\n",
      "      UDP-lag       1.00      1.00      1.00      5626\n",
      "      WebDDoS       0.97      1.00      0.99       133\n",
      "\n",
      "     accuracy                           1.00     65291\n",
      "    macro avg       1.00      1.00      1.00     65291\n",
      " weighted avg       1.00      1.00      1.00     65291\n",
      "\n"
     ]
    }
   ],
   "source": [
    "from sklearn.metrics import accuracy_score \n",
    "from sklearn.metrics import classification_report \n",
    "from sklearn.metrics import confusion_matrix, ConfusionMatrixDisplay\n",
    "\n",
    "acc_score = accuracy_score(Y_test, rf_y_pred)\n",
    "print(\"Accuracy Score for Random_Forest: \\n\", acc_score*100)\n",
    "\n",
    "print(\"Classification Report for Random Forest: \\n\", classification_report(label_encode.inverse_transform(Y_test), label_encode.inverse_transform(rf_y_pred)))"
   ]
  },
  {
   "cell_type": "code",
   "execution_count": null,
   "metadata": {},
   "outputs": [
    {
     "name": "stdout",
     "output_type": "stream",
     "text": [
      "Random Forest Confusion: \n",
      " [[6120    0    0    0    0    0    0    0    0    0    0    0]\n",
      " [   0 5578    1    0    1    9    0    0    0    0    0    0]\n",
      " [   1    1 5995    0    0    0    0    0    0    0    0    0]\n",
      " [   0    0    0 5964    0    0    0    1    0    0    0    0]\n",
      " [   0    0    0    0 6096    0    0    0    0    0    0    0]\n",
      " [   1    1    0    1    0 6038    1    0    0    0    0    1]\n",
      " [   0    1    0    0    0    1 6064    0    0    0    0    0]\n",
      " [   0    0    0    0    0    0    0 5914    1    0    0    1]\n",
      " [   0    0    0    0    0    0    0    6 6054    0    0    2]\n",
      " [   0    0    0    0    0    0    0    0    0 5677    1    0]\n",
      " [   0    0    0    0    0    0    0    0    0    1 5625    0]\n",
      " [   0    0    0    0    0    0    0    0    0    0    0  133]]\n"
     ]
    }
   ],
   "source": [
    "rf_conf_mat = confusion_matrix(Y_test, rf_y_pred)\n",
    "print(\"Random Forest Confusion: \\n\", rf_conf_mat)"
   ]
  },
  {
   "cell_type": "code",
   "execution_count": null,
   "metadata": {},
   "outputs": [],
   "source": [
    "#2. AdaBoost\n",
    "from sklearn.ensemble import AdaBoostClassifier\n",
    "ada_boost = AdaBoostClassifier()\n",
    "ada_boost.fit(X_train, Y_train)\n",
    "pickle.dump(ada_boost, open('../model_training/AdaBoost_Model', 'wb'))"
   ]
  },
  {
   "cell_type": "code",
   "execution_count": null,
   "metadata": {},
   "outputs": [
    {
     "data": {
      "text/plain": [
       "array([3, 0, 3, ..., 0, 9, 3])"
      ]
     },
     "execution_count": 82,
     "metadata": {},
     "output_type": "execute_result"
    }
   ],
   "source": [
    "y_pred_adaboost = ada_boost.predict(X_test)\n",
    "y_pred_adaboost"
   ]
  },
  {
   "cell_type": "code",
   "execution_count": null,
   "metadata": {},
   "outputs": [
    {
     "data": {
      "text/plain": [
       "array([2, 0, 5, ..., 0, 9, 7])"
      ]
     },
     "execution_count": 83,
     "metadata": {},
     "output_type": "execute_result"
    }
   ],
   "source": [
    "Y_test"
   ]
  },
  {
   "cell_type": "code",
   "execution_count": null,
   "metadata": {},
   "outputs": [
    {
     "name": "stdout",
     "output_type": "stream",
     "text": [
      "Accuracy Score for the AdaBoost Classifier is: 27.206%\n"
     ]
    }
   ],
   "source": [
    "print(\"Accuracy Score for the AdaBoost Classifier is: {0:.3f}%\".format(accuracy_score(Y_test, y_pred_adaboost)* 100))"
   ]
  },
  {
   "cell_type": "code",
   "execution_count": null,
   "metadata": {},
   "outputs": [
    {
     "name": "stderr",
     "output_type": "stream",
     "text": [
      "C:\\Users\\hoang\\AppData\\Local\\Programs\\Python\\Python310\\lib\\site-packages\\sklearn\\metrics\\_classification.py:1318: UndefinedMetricWarning: Precision and F-score are ill-defined and being set to 0.0 in labels with no predicted samples. Use `zero_division` parameter to control this behavior.\n",
      "  _warn_prf(average, modifier, msg_start, len(result))\n",
      "C:\\Users\\hoang\\AppData\\Local\\Programs\\Python\\Python310\\lib\\site-packages\\sklearn\\metrics\\_classification.py:1318: UndefinedMetricWarning: Precision and F-score are ill-defined and being set to 0.0 in labels with no predicted samples. Use `zero_division` parameter to control this behavior.\n",
      "  _warn_prf(average, modifier, msg_start, len(result))\n"
     ]
    },
    {
     "name": "stdout",
     "output_type": "stream",
     "text": [
      "Classification Report for AdaBOOST: \n",
      "                precision    recall  f1-score   support\n",
      "\n",
      "       BENIGN       1.00      1.00      1.00      6120\n",
      "    DrDoS_DNS       0.00      0.00      0.00      5589\n",
      "   DrDoS_LDAP       0.00      0.00      0.00      5997\n",
      "  DrDoS_MSSQL       0.11      1.00      0.20      5965\n",
      "    DrDoS_NTP       0.00      0.00      0.00      6096\n",
      "DrDoS_NetBIOS       0.00      0.00      0.00      6043\n",
      "   DrDoS_SNMP       0.00      0.00      0.00      6066\n",
      "   DrDoS_SSDP       0.00      0.00      0.00      5916\n",
      "    DrDoS_UDP       0.00      0.00      0.00      6062\n",
      "          Syn       1.00      1.00      1.00      5678\n",
      "      UDP-lag       0.00      0.00      0.00      5626\n",
      "      WebDDoS       0.00      0.00      0.00       133\n",
      "\n",
      "     accuracy                           0.27     65291\n",
      "    macro avg       0.18      0.25      0.18     65291\n",
      " weighted avg       0.19      0.27      0.20     65291\n",
      "\n"
     ]
    },
    {
     "name": "stderr",
     "output_type": "stream",
     "text": [
      "C:\\Users\\hoang\\AppData\\Local\\Programs\\Python\\Python310\\lib\\site-packages\\sklearn\\metrics\\_classification.py:1318: UndefinedMetricWarning: Precision and F-score are ill-defined and being set to 0.0 in labels with no predicted samples. Use `zero_division` parameter to control this behavior.\n",
      "  _warn_prf(average, modifier, msg_start, len(result))\n"
     ]
    }
   ],
   "source": [
    "print(\"Classification Report for AdaBOOST: \\n\", classification_report(label_encode.inverse_transform(Y_test), label_encode.inverse_transform(y_pred_adaboost)))"
   ]
  },
  {
   "cell_type": "code",
   "execution_count": null,
   "metadata": {},
   "outputs": [
    {
     "name": "stdout",
     "output_type": "stream",
     "text": [
      "AdaBoost Confusion: \n",
      " [[6120    0    0    0    0    0    0    0    0    0    0    0]\n",
      " [   0    0    0 5589    0    0    0    0    0    0    0    0]\n",
      " [   0    0    0 5997    0    0    0    0    0    0    0    0]\n",
      " [   0    0    0 5965    0    0    0    0    0    0    0    0]\n",
      " [   0    0    0 6096    0    0    0    0    0    0    0    0]\n",
      " [   0    0    0 6043    0    0    0    0    0    0    0    0]\n",
      " [   0    0    0 6066    0    0    0    0    0    0    0    0]\n",
      " [   0    0    0 5916    0    0    0    0    0    0    0    0]\n",
      " [   0    0    0 6062    0    0    0    0    0    0    0    0]\n",
      " [   0    0    0    0    0    0    0    0    0 5678    0    0]\n",
      " [   0    0    0 5626    0    0    0    0    0    0    0    0]\n",
      " [   0    0    0  133    0    0    0    0    0    0    0    0]]\n"
     ]
    }
   ],
   "source": [
    "xgboost_conf_mat = confusion_matrix(Y_test, y_pred_adaboost)\n",
    "print(\"AdaBoost Confusion: \\n\", xgboost_conf_mat)"
   ]
  },
  {
   "cell_type": "code",
   "execution_count": null,
   "metadata": {},
   "outputs": [],
   "source": [
    "#3. Native Bayes\n",
    "from sklearn.naive_bayes import GaussianNB \n",
    "gnb = GaussianNB()\n",
    "gnb.fit(X_train, Y_train)\n",
    "pickle.dump(gnb, open('../model_training/NativeBayes_Model', 'wb'))\n",
    "gnb_y_pred = gnb.predict(X_test)"
   ]
  },
  {
   "cell_type": "code",
   "execution_count": null,
   "metadata": {},
   "outputs": [
    {
     "name": "stderr",
     "output_type": "stream",
     "text": [
      "C:\\Users\\hoang\\AppData\\Local\\Programs\\Python\\Python310\\lib\\site-packages\\sklearn\\metrics\\_classification.py:1318: UndefinedMetricWarning: Precision and F-score are ill-defined and being set to 0.0 in labels with no predicted samples. Use `zero_division` parameter to control this behavior.\n",
      "  _warn_prf(average, modifier, msg_start, len(result))\n",
      "C:\\Users\\hoang\\AppData\\Local\\Programs\\Python\\Python310\\lib\\site-packages\\sklearn\\metrics\\_classification.py:1318: UndefinedMetricWarning: Precision and F-score are ill-defined and being set to 0.0 in labels with no predicted samples. Use `zero_division` parameter to control this behavior.\n",
      "  _warn_prf(average, modifier, msg_start, len(result))\n"
     ]
    },
    {
     "name": "stdout",
     "output_type": "stream",
     "text": [
      "Classification Report for Naive Bayes: \n",
      "                precision    recall  f1-score   support\n",
      "\n",
      "       BENIGN       0.99      0.92      0.96      6120\n",
      "    DrDoS_DNS       0.46      0.95      0.62      5589\n",
      "   DrDoS_LDAP       0.00      0.00      0.00      5997\n",
      "  DrDoS_MSSQL       0.71      1.00      0.83      5965\n",
      "    DrDoS_NTP       1.00      0.97      0.98      6096\n",
      "DrDoS_NetBIOS       1.00      0.00      0.01      6043\n",
      "   DrDoS_SNMP       0.51      0.99      0.67      6066\n",
      "   DrDoS_SSDP       0.51      0.65      0.57      5916\n",
      "    DrDoS_UDP       0.95      0.39      0.56      6062\n",
      "          Syn       0.98      0.35      0.52      5678\n",
      "      UDP-lag       0.60      0.99      0.75      5626\n",
      "      WebDDoS       0.22      0.98      0.36       133\n",
      "\n",
      "     accuracy                           0.65     65291\n",
      "    macro avg       0.66      0.68      0.57     65291\n",
      " weighted avg       0.70      0.65      0.59     65291\n",
      "\n"
     ]
    },
    {
     "name": "stderr",
     "output_type": "stream",
     "text": [
      "C:\\Users\\hoang\\AppData\\Local\\Programs\\Python\\Python310\\lib\\site-packages\\sklearn\\metrics\\_classification.py:1318: UndefinedMetricWarning: Precision and F-score are ill-defined and being set to 0.0 in labels with no predicted samples. Use `zero_division` parameter to control this behavior.\n",
      "  _warn_prf(average, modifier, msg_start, len(result))\n"
     ]
    }
   ],
   "source": [
    "print(\"Classification Report for Naive Bayes: \\n\", classification_report(label_encode.inverse_transform(Y_test), label_encode.inverse_transform(gnb_y_pred)))"
   ]
  },
  {
   "cell_type": "code",
   "execution_count": null,
   "metadata": {},
   "outputs": [
    {
     "name": "stdout",
     "output_type": "stream",
     "text": [
      "Accuracy Score for Naive: \n",
      " 65.48528893721952\n"
     ]
    }
   ],
   "source": [
    "acc_score_gnb = accuracy_score(Y_test, gnb_y_pred)\n",
    "print(\"Accuracy Score for Naive: \\n\", acc_score_gnb*100)"
   ]
  },
  {
   "cell_type": "code",
   "execution_count": null,
   "metadata": {},
   "outputs": [
    {
     "name": "stdout",
     "output_type": "stream",
     "text": [
      "Naive Bayes Confusion Matrix: \n",
      " [[5655    0    0    0    0    0    0    0    0    0    0  465]\n",
      " [   3 5300    0  285    0    0    0    1    0    0    0    0]\n",
      " [   4 5976    0    9    0    0    0    8    0    0    0    0]\n",
      " [   9    0    0 5953    0    0    0    3    0    0    0    0]\n",
      " [   3  149    0   54 5885    0    0    4    1    0    0    0]\n",
      " [   3   16    0  108    0   24 5884    5    3    0    0    0]\n",
      " [   2    0    0   48    0    0 6012    4    0    0    0    0]\n",
      " [   1    0    0 1973    0    0    0 3825  117    0    0    0]\n",
      " [   3    0    0    9    0    0    0 3666 2382    0    0    2]\n",
      " [   1    0    0    0    0    0    0    0    0 2011 3664    2]\n",
      " [   7    0    0    0    0    0    0    0    0   40 5579    0]\n",
      " [   3    0    0    0    0    0    0    0    0    0    0  130]]\n"
     ]
    }
   ],
   "source": [
    "gnb_conf_mat = confusion_matrix(Y_test, gnb_y_pred)\n",
    "print(\"Naive Bayes Confusion Matrix: \\n\", gnb_conf_mat)"
   ]
  },
  {
   "cell_type": "code",
   "execution_count": null,
   "metadata": {},
   "outputs": [
    {
     "ename": "KeyboardInterrupt",
     "evalue": "",
     "output_type": "error",
     "traceback": [
      "\u001b[1;31m---------------------------------------------------------------------------\u001b[0m",
      "\u001b[1;31mKeyboardInterrupt\u001b[0m                         Traceback (most recent call last)",
      "\u001b[1;32me:\\DA_Detecting_DDoS\\main\\TrainingModel.ipynb Cell 44'\u001b[0m in \u001b[0;36m<cell line: 4>\u001b[1;34m()\u001b[0m\n\u001b[0;32m      <a href='vscode-notebook-cell:/e%3A/DA_Detecting_DDoS/main/TrainingModel.ipynb#ch0000041?line=1'>2</a>\u001b[0m \u001b[39mfrom\u001b[39;00m \u001b[39msklearn\u001b[39;00m\u001b[39m.\u001b[39;00m\u001b[39msvm\u001b[39;00m \u001b[39mimport\u001b[39;00m LinearSVC\n\u001b[0;32m      <a href='vscode-notebook-cell:/e%3A/DA_Detecting_DDoS/main/TrainingModel.ipynb#ch0000041?line=2'>3</a>\u001b[0m svm \u001b[39m=\u001b[39m LinearSVC(multi_class \u001b[39m=\u001b[39m \u001b[39m'\u001b[39m\u001b[39movr\u001b[39m\u001b[39m'\u001b[39m)\n\u001b[1;32m----> <a href='vscode-notebook-cell:/e%3A/DA_Detecting_DDoS/main/TrainingModel.ipynb#ch0000041?line=3'>4</a>\u001b[0m svm\u001b[39m.\u001b[39;49mfit(X_train, Y_train)\n\u001b[0;32m      <a href='vscode-notebook-cell:/e%3A/DA_Detecting_DDoS/main/TrainingModel.ipynb#ch0000041?line=4'>5</a>\u001b[0m pickle\u001b[39m.\u001b[39mdump(svm, \u001b[39mopen\u001b[39m(\u001b[39m'\u001b[39m\u001b[39m../model_training/SVM_Model\u001b[39m\u001b[39m'\u001b[39m, \u001b[39m'\u001b[39m\u001b[39mwb\u001b[39m\u001b[39m'\u001b[39m))\n\u001b[0;32m      <a href='vscode-notebook-cell:/e%3A/DA_Detecting_DDoS/main/TrainingModel.ipynb#ch0000041?line=5'>6</a>\u001b[0m y_pred_svm \u001b[39m=\u001b[39m svm\u001b[39m.\u001b[39mpredict(X_test)\n",
      "File \u001b[1;32m~\\AppData\\Local\\Programs\\Python\\Python310\\lib\\site-packages\\sklearn\\svm\\_classes.py:257\u001b[0m, in \u001b[0;36mLinearSVC.fit\u001b[1;34m(self, X, y, sample_weight)\u001b[0m\n\u001b[0;32m    <a href='file:///c%3A/Users/hoang/AppData/Local/Programs/Python/Python310/lib/site-packages/sklearn/svm/_classes.py?line=253'>254</a>\u001b[0m check_classification_targets(y)\n\u001b[0;32m    <a href='file:///c%3A/Users/hoang/AppData/Local/Programs/Python/Python310/lib/site-packages/sklearn/svm/_classes.py?line=254'>255</a>\u001b[0m \u001b[39mself\u001b[39m\u001b[39m.\u001b[39mclasses_ \u001b[39m=\u001b[39m np\u001b[39m.\u001b[39munique(y)\n\u001b[1;32m--> <a href='file:///c%3A/Users/hoang/AppData/Local/Programs/Python/Python310/lib/site-packages/sklearn/svm/_classes.py?line=256'>257</a>\u001b[0m \u001b[39mself\u001b[39m\u001b[39m.\u001b[39mcoef_, \u001b[39mself\u001b[39m\u001b[39m.\u001b[39mintercept_, \u001b[39mself\u001b[39m\u001b[39m.\u001b[39mn_iter_ \u001b[39m=\u001b[39m _fit_liblinear(\n\u001b[0;32m    <a href='file:///c%3A/Users/hoang/AppData/Local/Programs/Python/Python310/lib/site-packages/sklearn/svm/_classes.py?line=257'>258</a>\u001b[0m     X,\n\u001b[0;32m    <a href='file:///c%3A/Users/hoang/AppData/Local/Programs/Python/Python310/lib/site-packages/sklearn/svm/_classes.py?line=258'>259</a>\u001b[0m     y,\n\u001b[0;32m    <a href='file:///c%3A/Users/hoang/AppData/Local/Programs/Python/Python310/lib/site-packages/sklearn/svm/_classes.py?line=259'>260</a>\u001b[0m     \u001b[39mself\u001b[39;49m\u001b[39m.\u001b[39;49mC,\n\u001b[0;32m    <a href='file:///c%3A/Users/hoang/AppData/Local/Programs/Python/Python310/lib/site-packages/sklearn/svm/_classes.py?line=260'>261</a>\u001b[0m     \u001b[39mself\u001b[39;49m\u001b[39m.\u001b[39;49mfit_intercept,\n\u001b[0;32m    <a href='file:///c%3A/Users/hoang/AppData/Local/Programs/Python/Python310/lib/site-packages/sklearn/svm/_classes.py?line=261'>262</a>\u001b[0m     \u001b[39mself\u001b[39;49m\u001b[39m.\u001b[39;49mintercept_scaling,\n\u001b[0;32m    <a href='file:///c%3A/Users/hoang/AppData/Local/Programs/Python/Python310/lib/site-packages/sklearn/svm/_classes.py?line=262'>263</a>\u001b[0m     \u001b[39mself\u001b[39;49m\u001b[39m.\u001b[39;49mclass_weight,\n\u001b[0;32m    <a href='file:///c%3A/Users/hoang/AppData/Local/Programs/Python/Python310/lib/site-packages/sklearn/svm/_classes.py?line=263'>264</a>\u001b[0m     \u001b[39mself\u001b[39;49m\u001b[39m.\u001b[39;49mpenalty,\n\u001b[0;32m    <a href='file:///c%3A/Users/hoang/AppData/Local/Programs/Python/Python310/lib/site-packages/sklearn/svm/_classes.py?line=264'>265</a>\u001b[0m     \u001b[39mself\u001b[39;49m\u001b[39m.\u001b[39;49mdual,\n\u001b[0;32m    <a href='file:///c%3A/Users/hoang/AppData/Local/Programs/Python/Python310/lib/site-packages/sklearn/svm/_classes.py?line=265'>266</a>\u001b[0m     \u001b[39mself\u001b[39;49m\u001b[39m.\u001b[39;49mverbose,\n\u001b[0;32m    <a href='file:///c%3A/Users/hoang/AppData/Local/Programs/Python/Python310/lib/site-packages/sklearn/svm/_classes.py?line=266'>267</a>\u001b[0m     \u001b[39mself\u001b[39;49m\u001b[39m.\u001b[39;49mmax_iter,\n\u001b[0;32m    <a href='file:///c%3A/Users/hoang/AppData/Local/Programs/Python/Python310/lib/site-packages/sklearn/svm/_classes.py?line=267'>268</a>\u001b[0m     \u001b[39mself\u001b[39;49m\u001b[39m.\u001b[39;49mtol,\n\u001b[0;32m    <a href='file:///c%3A/Users/hoang/AppData/Local/Programs/Python/Python310/lib/site-packages/sklearn/svm/_classes.py?line=268'>269</a>\u001b[0m     \u001b[39mself\u001b[39;49m\u001b[39m.\u001b[39;49mrandom_state,\n\u001b[0;32m    <a href='file:///c%3A/Users/hoang/AppData/Local/Programs/Python/Python310/lib/site-packages/sklearn/svm/_classes.py?line=269'>270</a>\u001b[0m     \u001b[39mself\u001b[39;49m\u001b[39m.\u001b[39;49mmulti_class,\n\u001b[0;32m    <a href='file:///c%3A/Users/hoang/AppData/Local/Programs/Python/Python310/lib/site-packages/sklearn/svm/_classes.py?line=270'>271</a>\u001b[0m     \u001b[39mself\u001b[39;49m\u001b[39m.\u001b[39;49mloss,\n\u001b[0;32m    <a href='file:///c%3A/Users/hoang/AppData/Local/Programs/Python/Python310/lib/site-packages/sklearn/svm/_classes.py?line=271'>272</a>\u001b[0m     sample_weight\u001b[39m=\u001b[39;49msample_weight,\n\u001b[0;32m    <a href='file:///c%3A/Users/hoang/AppData/Local/Programs/Python/Python310/lib/site-packages/sklearn/svm/_classes.py?line=272'>273</a>\u001b[0m )\n\u001b[0;32m    <a href='file:///c%3A/Users/hoang/AppData/Local/Programs/Python/Python310/lib/site-packages/sklearn/svm/_classes.py?line=274'>275</a>\u001b[0m \u001b[39mif\u001b[39;00m \u001b[39mself\u001b[39m\u001b[39m.\u001b[39mmulti_class \u001b[39m==\u001b[39m \u001b[39m\"\u001b[39m\u001b[39mcrammer_singer\u001b[39m\u001b[39m\"\u001b[39m \u001b[39mand\u001b[39;00m \u001b[39mlen\u001b[39m(\u001b[39mself\u001b[39m\u001b[39m.\u001b[39mclasses_) \u001b[39m==\u001b[39m \u001b[39m2\u001b[39m:\n\u001b[0;32m    <a href='file:///c%3A/Users/hoang/AppData/Local/Programs/Python/Python310/lib/site-packages/sklearn/svm/_classes.py?line=275'>276</a>\u001b[0m     \u001b[39mself\u001b[39m\u001b[39m.\u001b[39mcoef_ \u001b[39m=\u001b[39m (\u001b[39mself\u001b[39m\u001b[39m.\u001b[39mcoef_[\u001b[39m1\u001b[39m] \u001b[39m-\u001b[39m \u001b[39mself\u001b[39m\u001b[39m.\u001b[39mcoef_[\u001b[39m0\u001b[39m])\u001b[39m.\u001b[39mreshape(\u001b[39m1\u001b[39m, \u001b[39m-\u001b[39m\u001b[39m1\u001b[39m)\n",
      "File \u001b[1;32m~\\AppData\\Local\\Programs\\Python\\Python310\\lib\\site-packages\\sklearn\\svm\\_base.py:1186\u001b[0m, in \u001b[0;36m_fit_liblinear\u001b[1;34m(X, y, C, fit_intercept, intercept_scaling, class_weight, penalty, dual, verbose, max_iter, tol, random_state, multi_class, loss, epsilon, sample_weight)\u001b[0m\n\u001b[0;32m   <a href='file:///c%3A/Users/hoang/AppData/Local/Programs/Python/Python310/lib/site-packages/sklearn/svm/_base.py?line=1182'>1183</a>\u001b[0m sample_weight \u001b[39m=\u001b[39m _check_sample_weight(sample_weight, X, dtype\u001b[39m=\u001b[39mnp\u001b[39m.\u001b[39mfloat64)\n\u001b[0;32m   <a href='file:///c%3A/Users/hoang/AppData/Local/Programs/Python/Python310/lib/site-packages/sklearn/svm/_base.py?line=1184'>1185</a>\u001b[0m solver_type \u001b[39m=\u001b[39m _get_liblinear_solver_type(multi_class, penalty, loss, dual)\n\u001b[1;32m-> <a href='file:///c%3A/Users/hoang/AppData/Local/Programs/Python/Python310/lib/site-packages/sklearn/svm/_base.py?line=1185'>1186</a>\u001b[0m raw_coef_, n_iter_ \u001b[39m=\u001b[39m liblinear\u001b[39m.\u001b[39;49mtrain_wrap(\n\u001b[0;32m   <a href='file:///c%3A/Users/hoang/AppData/Local/Programs/Python/Python310/lib/site-packages/sklearn/svm/_base.py?line=1186'>1187</a>\u001b[0m     X,\n\u001b[0;32m   <a href='file:///c%3A/Users/hoang/AppData/Local/Programs/Python/Python310/lib/site-packages/sklearn/svm/_base.py?line=1187'>1188</a>\u001b[0m     y_ind,\n\u001b[0;32m   <a href='file:///c%3A/Users/hoang/AppData/Local/Programs/Python/Python310/lib/site-packages/sklearn/svm/_base.py?line=1188'>1189</a>\u001b[0m     sp\u001b[39m.\u001b[39;49misspmatrix(X),\n\u001b[0;32m   <a href='file:///c%3A/Users/hoang/AppData/Local/Programs/Python/Python310/lib/site-packages/sklearn/svm/_base.py?line=1189'>1190</a>\u001b[0m     solver_type,\n\u001b[0;32m   <a href='file:///c%3A/Users/hoang/AppData/Local/Programs/Python/Python310/lib/site-packages/sklearn/svm/_base.py?line=1190'>1191</a>\u001b[0m     tol,\n\u001b[0;32m   <a href='file:///c%3A/Users/hoang/AppData/Local/Programs/Python/Python310/lib/site-packages/sklearn/svm/_base.py?line=1191'>1192</a>\u001b[0m     bias,\n\u001b[0;32m   <a href='file:///c%3A/Users/hoang/AppData/Local/Programs/Python/Python310/lib/site-packages/sklearn/svm/_base.py?line=1192'>1193</a>\u001b[0m     C,\n\u001b[0;32m   <a href='file:///c%3A/Users/hoang/AppData/Local/Programs/Python/Python310/lib/site-packages/sklearn/svm/_base.py?line=1193'>1194</a>\u001b[0m     class_weight_,\n\u001b[0;32m   <a href='file:///c%3A/Users/hoang/AppData/Local/Programs/Python/Python310/lib/site-packages/sklearn/svm/_base.py?line=1194'>1195</a>\u001b[0m     max_iter,\n\u001b[0;32m   <a href='file:///c%3A/Users/hoang/AppData/Local/Programs/Python/Python310/lib/site-packages/sklearn/svm/_base.py?line=1195'>1196</a>\u001b[0m     rnd\u001b[39m.\u001b[39;49mrandint(np\u001b[39m.\u001b[39;49miinfo(\u001b[39m\"\u001b[39;49m\u001b[39mi\u001b[39;49m\u001b[39m\"\u001b[39;49m)\u001b[39m.\u001b[39;49mmax),\n\u001b[0;32m   <a href='file:///c%3A/Users/hoang/AppData/Local/Programs/Python/Python310/lib/site-packages/sklearn/svm/_base.py?line=1196'>1197</a>\u001b[0m     epsilon,\n\u001b[0;32m   <a href='file:///c%3A/Users/hoang/AppData/Local/Programs/Python/Python310/lib/site-packages/sklearn/svm/_base.py?line=1197'>1198</a>\u001b[0m     sample_weight,\n\u001b[0;32m   <a href='file:///c%3A/Users/hoang/AppData/Local/Programs/Python/Python310/lib/site-packages/sklearn/svm/_base.py?line=1198'>1199</a>\u001b[0m )\n\u001b[0;32m   <a href='file:///c%3A/Users/hoang/AppData/Local/Programs/Python/Python310/lib/site-packages/sklearn/svm/_base.py?line=1199'>1200</a>\u001b[0m \u001b[39m# Regarding rnd.randint(..) in the above signature:\u001b[39;00m\n\u001b[0;32m   <a href='file:///c%3A/Users/hoang/AppData/Local/Programs/Python/Python310/lib/site-packages/sklearn/svm/_base.py?line=1200'>1201</a>\u001b[0m \u001b[39m# seed for srand in range [0..INT_MAX); due to limitations in Numpy\u001b[39;00m\n\u001b[0;32m   <a href='file:///c%3A/Users/hoang/AppData/Local/Programs/Python/Python310/lib/site-packages/sklearn/svm/_base.py?line=1201'>1202</a>\u001b[0m \u001b[39m# on 32-bit platforms, we can't get to the UINT_MAX limit that\u001b[39;00m\n\u001b[0;32m   <a href='file:///c%3A/Users/hoang/AppData/Local/Programs/Python/Python310/lib/site-packages/sklearn/svm/_base.py?line=1202'>1203</a>\u001b[0m \u001b[39m# srand supports\u001b[39;00m\n\u001b[0;32m   <a href='file:///c%3A/Users/hoang/AppData/Local/Programs/Python/Python310/lib/site-packages/sklearn/svm/_base.py?line=1203'>1204</a>\u001b[0m n_iter_ \u001b[39m=\u001b[39m \u001b[39mmax\u001b[39m(n_iter_)\n",
      "\u001b[1;31mKeyboardInterrupt\u001b[0m: "
     ]
    }
   ],
   "source": [
    "#4. SVM\n",
    "from sklearn.svm import LinearSVC\n",
    "svm = LinearSVC(multi_class = 'ovr')\n",
    "svm.fit(X_train, Y_train)\n",
    "pickle.dump(svm, open('../model_training/SVM_Model', 'wb'))\n",
    "y_pred_svm = svm.predict(X_test) "
   ]
  },
  {
   "cell_type": "code",
   "execution_count": null,
   "metadata": {},
   "outputs": [
    {
     "name": "stdout",
     "output_type": "stream",
     "text": [
      "Classification Report for SVM: \n",
      "                precision    recall  f1-score   support\n",
      "\n",
      "       BENIGN       1.00      1.00      1.00      2600\n",
      "    DrDoS_DNS       0.98      0.95      0.96       188\n",
      "   DrDoS_LDAP       0.97      0.99      0.98      2490\n",
      "  DrDoS_MSSQL       0.99      0.97      0.98      2449\n",
      "    DrDoS_NTP       0.99      0.99      0.99       618\n",
      "DrDoS_NetBIOS       1.00      1.00      1.00      2380\n",
      "   DrDoS_SNMP       1.00      1.00      1.00      2596\n",
      "   DrDoS_SSDP       1.00      1.00      1.00      2467\n",
      "    DrDoS_UDP       0.99      0.97      0.98      2506\n",
      "          Syn       1.00      1.00      1.00      2360\n",
      "      UDP-lag       0.97      0.99      0.98      2496\n",
      "\n",
      "     accuracy                           0.99     23150\n",
      "    macro avg       0.99      0.99      0.99     23150\n",
      " weighted avg       0.99      0.99      0.99     23150\n",
      "\n"
     ]
    }
   ],
   "source": [
    "print(\"Classification Report for SVM: \\n\", classification_report(label_encode.inverse_transform(Y_test), label_encode.inverse_transform(y_pred_svm)))"
   ]
  },
  {
   "cell_type": "code",
   "execution_count": null,
   "metadata": {},
   "outputs": [
    {
     "name": "stdout",
     "output_type": "stream",
     "text": [
      "Accuracy Score for SVM: \n",
      " 99.04967602591793\n"
     ]
    }
   ],
   "source": [
    "acc_score_svm = accuracy_score(Y_test, y_pred_svm)\n",
    "print(\"Accuracy Score for SVM: \\n\", acc_score_svm*100)"
   ]
  },
  {
   "cell_type": "code",
   "execution_count": null,
   "metadata": {},
   "outputs": [
    {
     "name": "stdout",
     "output_type": "stream",
     "text": [
      "SVM Confusion Matrix: \n",
      " [[2596    0    3    0    1    0    0    0    0    0    0]\n",
      " [   1  178    4    0    5    0    0    0    0    0    0]\n",
      " [   1    2 2454   32    1    0    0    0    0    0    0]\n",
      " [   0    0   69 2378    0    1    1    0    0    0    0]\n",
      " [   2    1    2    0  613    0    0    0    0    0    0]\n",
      " [   0    0    0    0    0 2379    1    0    0    0    0]\n",
      " [   0    0    0    0    0    0 2596    0    0    0    0]\n",
      " [   0    0    0    0    0    0    2 2465    0    0    0]\n",
      " [   0    0    0    0    0    0    1    0 2432    0   73]\n",
      " [   0    0    0    1    0    0    0    0    0 2359    0]\n",
      " [   0    0    0    0    0    0    0    0   16    0 2480]]\n"
     ]
    }
   ],
   "source": [
    "svm_conf_mat = confusion_matrix(Y_test, y_pred_svm)\n",
    "print(\"SVM Confusion Matrix: \\n\", svm_conf_mat)"
   ]
  },
  {
   "cell_type": "code",
   "execution_count": null,
   "metadata": {},
   "outputs": [],
   "source": [
    "#5. KNN\n",
    "from sklearn.neighbors import KNeighborsClassifier\n",
    "neigh = KNeighborsClassifier()\n",
    "neigh.fit(X_train,Y_train)\n",
    "y_pred_knn = neigh.predict(X_test)\n",
    "pickle.dump(neigh, open('../model_training/KNN_Model', 'wb'))"
   ]
  },
  {
   "cell_type": "code",
   "execution_count": null,
   "metadata": {},
   "outputs": [
    {
     "name": "stdout",
     "output_type": "stream",
     "text": [
      "Classification Report for KNN: \n",
      "                precision    recall  f1-score   support\n",
      "\n",
      "       BENIGN       1.00      1.00      1.00      2600\n",
      "    DrDoS_DNS       0.98      0.96      0.97       188\n",
      "   DrDoS_LDAP       0.98      0.95      0.97      2490\n",
      "  DrDoS_MSSQL       0.95      0.98      0.97      2449\n",
      "    DrDoS_NTP       0.98      0.99      0.99       618\n",
      "DrDoS_NetBIOS       1.00      1.00      1.00      2380\n",
      "   DrDoS_SNMP       1.00      1.00      1.00      2596\n",
      "   DrDoS_SSDP       1.00      1.00      1.00      2467\n",
      "    DrDoS_UDP       0.97      0.96      0.96      2506\n",
      "          Syn       1.00      1.00      1.00      2360\n",
      "      UDP-lag       0.96      0.97      0.96      2496\n",
      "\n",
      "     accuracy                           0.98     23150\n",
      "    macro avg       0.98      0.98      0.98     23150\n",
      " weighted avg       0.98      0.98      0.98     23150\n",
      "\n"
     ]
    }
   ],
   "source": [
    "print(\"Classification Report for KNN: \\n\", classification_report(label_encode.inverse_transform(Y_test), label_encode.inverse_transform(y_pred_knn)))"
   ]
  },
  {
   "cell_type": "code",
   "execution_count": null,
   "metadata": {},
   "outputs": [
    {
     "name": "stdout",
     "output_type": "stream",
     "text": [
      "Accuracy Score for KNN: \n",
      " 98.33261339092873\n"
     ]
    }
   ],
   "source": [
    "acc_score_knn = accuracy_score(Y_test, y_pred_knn)\n",
    "print(\"Accuracy Score for KNN: \\n\", acc_score_knn*100)"
   ]
  },
  {
   "cell_type": "code",
   "execution_count": null,
   "metadata": {},
   "outputs": [
    {
     "name": "stdout",
     "output_type": "stream",
     "text": [
      "KNN Confusion Matrix: \n",
      " [[2597    0    0    0    3    0    0    0    0    0    0]\n",
      " [   0  181    0    0    6    0    1    0    0    0    0]\n",
      " [   1    2 2377  109    1    0    0    0    0    0    0]\n",
      " [   0    0   58 2390    0    1    0    0    0    0    0]\n",
      " [   6    1    0    0  610    0    1    0    0    0    0]\n",
      " [   0    0    0    1    0 2378    1    0    0    0    0]\n",
      " [   0    0    0    0    0    0 2596    0    0    0    0]\n",
      " [   0    0    0    4    0    0    1 2461    0    1    0]\n",
      " [   0    0    0    0    0    0    0    0 2397    0  109]\n",
      " [   0    0    0    0    0    0    0    0    0 2360    0]\n",
      " [   1    0    0    0    0    0    0    0   78    0 2417]]\n"
     ]
    }
   ],
   "source": [
    "knn_conf_mat = confusion_matrix(Y_test, y_pred_knn)\n",
    "print(\"KNN Confusion Matrix: \\n\", knn_conf_mat)"
   ]
  }
 ],
 "metadata": {
  "interpreter": {
   "hash": "2be5faf79681da6f2a61fdfdd5405d65d042280f7fba6178067603e3a2925119"
  },
  "kernelspec": {
   "display_name": "Python 3.10.2 64-bit (system)",
   "language": "python",
   "name": "python3"
  },
  "language_info": {
   "codemirror_mode": {
    "name": "ipython",
    "version": 3
   },
   "file_extension": ".py",
   "mimetype": "text/x-python",
   "name": "python",
   "nbconvert_exporter": "python",
   "pygments_lexer": "ipython3",
   "version": "3.10.2"
  },
  "orig_nbformat": 4
 },
 "nbformat": 4,
 "nbformat_minor": 2
}
