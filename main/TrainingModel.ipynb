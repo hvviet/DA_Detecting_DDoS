{
 "cells": [
  {
   "cell_type": "code",
   "execution_count": 1,
   "metadata": {},
   "outputs": [],
   "source": [
    "import pandas as pd\n",
    "import numpy as np"
   ]
  },
  {
   "cell_type": "code",
   "execution_count": 2,
   "metadata": {},
   "outputs": [
    {
     "name": "stderr",
     "output_type": "stream",
     "text": [
      "C:\\Users\\hvviet\\AppData\\Local\\Temp\\ipykernel_12080\\2999618441.py:2: DtypeWarning: Columns (85) have mixed types. Specify dtype option on import or set low_memory=False.\n",
      "  DrDoS_DNS_data_1_per = pd.read_csv('../datasets/DrDoS_DNS_data_1_per.csv',nrows=1000000)\n",
      "C:\\Users\\hvviet\\AppData\\Local\\Temp\\ipykernel_12080\\2999618441.py:3: DtypeWarning: Columns (85) have mixed types. Specify dtype option on import or set low_memory=False.\n",
      "  DrDoS_LDAP_data_2_0_per = pd.read_csv('../datasets/DrDoS_LDAP_data_2_0_per.csv',nrows=1000000)\n",
      "C:\\Users\\hvviet\\AppData\\Local\\Temp\\ipykernel_12080\\2999618441.py:4: DtypeWarning: Columns (85) have mixed types. Specify dtype option on import or set low_memory=False.\n",
      "  DrDoS_MSSQL_data_1_3_per = pd.read_csv('../datasets/DrDoS_MSSQL_data_1_3_per.csv',nrows=1000000)\n",
      "C:\\Users\\hvviet\\AppData\\Local\\Temp\\ipykernel_12080\\2999618441.py:5: DtypeWarning: Columns (85) have mixed types. Specify dtype option on import or set low_memory=False.\n",
      "  DrDoS_NetBIOS_data_1_3_per = pd.read_csv('../datasets/DrDoS_NetBIOS_data_1_3_per.csv',nrows=1000000)\n",
      "C:\\Users\\hvviet\\AppData\\Local\\Temp\\ipykernel_12080\\2999618441.py:6: DtypeWarning: Columns (85) have mixed types. Specify dtype option on import or set low_memory=False.\n",
      "  DrDoS_NTP_data_data_5_per = pd.read_csv('../datasets/DrDoS_NTP_data_data_5_per.csv',nrows=1000000)\n",
      "C:\\Users\\hvviet\\AppData\\Local\\Temp\\ipykernel_12080\\2999618441.py:7: DtypeWarning: Columns (85) have mixed types. Specify dtype option on import or set low_memory=False.\n",
      "  DrDoS_SNMP_data_1_3_per = pd.read_csv('../datasets/DrDoS_SNMP_data_1_3_per.csv',nrows=1000000)\n",
      "C:\\Users\\hvviet\\AppData\\Local\\Temp\\ipykernel_12080\\2999618441.py:8: DtypeWarning: Columns (85) have mixed types. Specify dtype option on import or set low_memory=False.\n",
      "  DrDoS_SSDP_data_2_per = pd.read_csv('../datasets/DrDoS_SSDP_data_2_per.csv',nrows=1000000)\n",
      "C:\\Users\\hvviet\\AppData\\Local\\Temp\\ipykernel_12080\\2999618441.py:9: DtypeWarning: Columns (85) have mixed types. Specify dtype option on import or set low_memory=False.\n",
      "  DrDoS_UDP_data_2_per = pd.read_csv('../datasets/DrDoS_UDP_data_2_per.csv',nrows=1000000)\n",
      "C:\\Users\\hvviet\\AppData\\Local\\Temp\\ipykernel_12080\\2999618441.py:10: DtypeWarning: Columns (85) have mixed types. Specify dtype option on import or set low_memory=False.\n",
      "  Syn_data_4_per = pd.read_csv('../datasets/syn_data.csv',nrows=1000000)\n",
      "C:\\Users\\hvviet\\AppData\\Local\\Temp\\ipykernel_12080\\2999618441.py:11: DtypeWarning: Columns (85) have mixed types. Specify dtype option on import or set low_memory=False.\n",
      "  UDPLag_data_2_0_per = pd.read_csv('../datasets/UDPLag_data_2_0_per.csv',nrows=1000000)\n",
      "C:\\Users\\hvviet\\AppData\\Local\\Temp\\ipykernel_12080\\2999618441.py:12: DtypeWarning: Columns (85) have mixed types. Specify dtype option on import or set low_memory=False.\n",
      "  Data_BENIGN = pd.read_csv('../datasets/DataBENIGN.csv')\n"
     ]
    }
   ],
   "source": [
    "# Read datasets from files\n",
    "DrDoS_DNS_data_1_per = pd.read_csv('../datasets/DrDoS_DNS_data_1_per.csv',nrows=1000000)\n",
    "DrDoS_LDAP_data_2_0_per = pd.read_csv('../datasets/DrDoS_LDAP_data_2_0_per.csv',nrows=1000000)\n",
    "DrDoS_MSSQL_data_1_3_per = pd.read_csv('../datasets/DrDoS_MSSQL_data_1_3_per.csv',nrows=1000000)\n",
    "DrDoS_NetBIOS_data_1_3_per = pd.read_csv('../datasets/DrDoS_NetBIOS_data_1_3_per.csv',nrows=1000000)\n",
    "DrDoS_NTP_data_data_5_per = pd.read_csv('../datasets/DrDoS_NTP_data_data_5_per.csv',nrows=1000000)\n",
    "DrDoS_SNMP_data_1_3_per = pd.read_csv('../datasets/DrDoS_SNMP_data_1_3_per.csv',nrows=1000000)\n",
    "DrDoS_SSDP_data_2_per = pd.read_csv('../datasets/DrDoS_SSDP_data_2_per.csv',nrows=1000000)\n",
    "DrDoS_UDP_data_2_per = pd.read_csv('../datasets/DrDoS_UDP_data_2_per.csv',nrows=1000000)\n",
    "Syn_data_4_per = pd.read_csv('../datasets/syn_data.csv',nrows=1000000)\n",
    "UDPLag_data_2_0_per = pd.read_csv('../datasets/UDPLag_data_2_0_per.csv',nrows=1000000)\n",
    "Data_BENIGN = pd.read_csv('../datasets/DataBENIGN.csv')"
   ]
  },
  {
   "cell_type": "code",
   "execution_count": 3,
   "metadata": {},
   "outputs": [
    {
     "data": {
      "text/html": [
       "<div>\n",
       "<style scoped>\n",
       "    .dataframe tbody tr th:only-of-type {\n",
       "        vertical-align: middle;\n",
       "    }\n",
       "\n",
       "    .dataframe tbody tr th {\n",
       "        vertical-align: top;\n",
       "    }\n",
       "\n",
       "    .dataframe thead th {\n",
       "        text-align: right;\n",
       "    }\n",
       "</style>\n",
       "<table border=\"1\" class=\"dataframe\">\n",
       "  <thead>\n",
       "    <tr style=\"text-align: right;\">\n",
       "      <th></th>\n",
       "      <th>Flow ID</th>\n",
       "      <th>Source IP</th>\n",
       "      <th>Source Port</th>\n",
       "      <th>Destination IP</th>\n",
       "      <th>Destination Port</th>\n",
       "      <th>Protocol</th>\n",
       "      <th>Timestamp</th>\n",
       "      <th>Flow Duration</th>\n",
       "      <th>Total Fwd Packets</th>\n",
       "      <th>Total Backward Packets</th>\n",
       "      <th>...</th>\n",
       "      <th>Active Std</th>\n",
       "      <th>Active Max</th>\n",
       "      <th>Active Min</th>\n",
       "      <th>Idle Mean</th>\n",
       "      <th>Idle Std</th>\n",
       "      <th>Idle Max</th>\n",
       "      <th>Idle Min</th>\n",
       "      <th>SimillarHTTP</th>\n",
       "      <th>Inbound</th>\n",
       "      <th>Label</th>\n",
       "    </tr>\n",
       "  </thead>\n",
       "  <tbody>\n",
       "    <tr>\n",
       "      <th>0</th>\n",
       "      <td>192.168.50.8-125.56.201.115-59099-80-6</td>\n",
       "      <td>192.168.50.8</td>\n",
       "      <td>59099</td>\n",
       "      <td>125.56.201.115</td>\n",
       "      <td>80</td>\n",
       "      <td>6</td>\n",
       "      <td>2018-12-01 10:51:40.379825</td>\n",
       "      <td>110861755</td>\n",
       "      <td>26</td>\n",
       "      <td>26</td>\n",
       "      <td>...</td>\n",
       "      <td>64223.338986</td>\n",
       "      <td>392446.0</td>\n",
       "      <td>179351.0</td>\n",
       "      <td>9.863210e+06</td>\n",
       "      <td>413171.813769</td>\n",
       "      <td>10007500.0</td>\n",
       "      <td>8632089.0</td>\n",
       "      <td>detectportal.firefox.com/success.txt</td>\n",
       "      <td>0.0</td>\n",
       "      <td>BENIGN</td>\n",
       "    </tr>\n",
       "    <tr>\n",
       "      <th>1</th>\n",
       "      <td>192.168.50.8-54.218.239.186-59102-443-6</td>\n",
       "      <td>192.168.50.8</td>\n",
       "      <td>59102</td>\n",
       "      <td>54.218.239.186</td>\n",
       "      <td>443</td>\n",
       "      <td>6</td>\n",
       "      <td>2018-12-01 10:51:40.504696</td>\n",
       "      <td>40335006</td>\n",
       "      <td>9</td>\n",
       "      <td>10</td>\n",
       "      <td>...</td>\n",
       "      <td>43.554563</td>\n",
       "      <td>90287.0</td>\n",
       "      <td>90185.0</td>\n",
       "      <td>9.993447e+06</td>\n",
       "      <td>40495.753715</td>\n",
       "      <td>10018634.0</td>\n",
       "      <td>9933709.0</td>\n",
       "      <td>0</td>\n",
       "      <td>0.0</td>\n",
       "      <td>BENIGN</td>\n",
       "    </tr>\n",
       "    <tr>\n",
       "      <th>2</th>\n",
       "      <td>192.168.50.253-224.0.0.5-0-0-0</td>\n",
       "      <td>192.168.50.253</td>\n",
       "      <td>0</td>\n",
       "      <td>224.0.0.5</td>\n",
       "      <td>0</td>\n",
       "      <td>0</td>\n",
       "      <td>2018-12-01 10:51:41.309691</td>\n",
       "      <td>113244633</td>\n",
       "      <td>56</td>\n",
       "      <td>0</td>\n",
       "      <td>...</td>\n",
       "      <td>859690.585416</td>\n",
       "      <td>2978061.0</td>\n",
       "      <td>4.0</td>\n",
       "      <td>9.188876e+06</td>\n",
       "      <td>809901.667647</td>\n",
       "      <td>9882838.0</td>\n",
       "      <td>6781893.0</td>\n",
       "      <td>0</td>\n",
       "      <td>0.0</td>\n",
       "      <td>BENIGN</td>\n",
       "    </tr>\n",
       "    <tr>\n",
       "      <th>3</th>\n",
       "      <td>192.168.50.8-23.15.4.11-59155-80-6</td>\n",
       "      <td>192.168.50.8</td>\n",
       "      <td>59155</td>\n",
       "      <td>23.15.4.11</td>\n",
       "      <td>80</td>\n",
       "      <td>6</td>\n",
       "      <td>2018-12-01 10:51:43.125459</td>\n",
       "      <td>95628949</td>\n",
       "      <td>21</td>\n",
       "      <td>20</td>\n",
       "      <td>...</td>\n",
       "      <td>177.422362</td>\n",
       "      <td>15367.0</td>\n",
       "      <td>14798.0</td>\n",
       "      <td>1.001418e+07</td>\n",
       "      <td>5184.077926</td>\n",
       "      <td>10016037.0</td>\n",
       "      <td>10000366.0</td>\n",
       "      <td>0</td>\n",
       "      <td>0.0</td>\n",
       "      <td>BENIGN</td>\n",
       "    </tr>\n",
       "    <tr>\n",
       "      <th>4</th>\n",
       "      <td>172.217.0.110-192.168.50.8-80-59131-6</td>\n",
       "      <td>192.168.50.8</td>\n",
       "      <td>59131</td>\n",
       "      <td>172.217.0.110</td>\n",
       "      <td>80</td>\n",
       "      <td>6</td>\n",
       "      <td>2018-12-01 10:51:43.141041</td>\n",
       "      <td>95613243</td>\n",
       "      <td>21</td>\n",
       "      <td>20</td>\n",
       "      <td>...</td>\n",
       "      <td>17.902514</td>\n",
       "      <td>26534.0</td>\n",
       "      <td>26473.0</td>\n",
       "      <td>1.000431e+07</td>\n",
       "      <td>21.430119</td>\n",
       "      <td>10004365.0</td>\n",
       "      <td>10004289.0</td>\n",
       "      <td>0</td>\n",
       "      <td>0.0</td>\n",
       "      <td>BENIGN</td>\n",
       "    </tr>\n",
       "    <tr>\n",
       "      <th>...</th>\n",
       "      <td>...</td>\n",
       "      <td>...</td>\n",
       "      <td>...</td>\n",
       "      <td>...</td>\n",
       "      <td>...</td>\n",
       "      <td>...</td>\n",
       "      <td>...</td>\n",
       "      <td>...</td>\n",
       "      <td>...</td>\n",
       "      <td>...</td>\n",
       "      <td>...</td>\n",
       "      <td>...</td>\n",
       "      <td>...</td>\n",
       "      <td>...</td>\n",
       "      <td>...</td>\n",
       "      <td>...</td>\n",
       "      <td>...</td>\n",
       "      <td>...</td>\n",
       "      <td>...</td>\n",
       "      <td>...</td>\n",
       "      <td>...</td>\n",
       "    </tr>\n",
       "    <tr>\n",
       "      <th>9405921</th>\n",
       "      <td>172.16.0.5-192.168.50.1-60490-14102-6</td>\n",
       "      <td>172.16.0.5</td>\n",
       "      <td>60490</td>\n",
       "      <td>192.168.50.1</td>\n",
       "      <td>14102</td>\n",
       "      <td>6</td>\n",
       "      <td>2018-12-01 13:30:30.740273</td>\n",
       "      <td>1</td>\n",
       "      <td>2</td>\n",
       "      <td>0</td>\n",
       "      <td>...</td>\n",
       "      <td>0.000000</td>\n",
       "      <td>0.0</td>\n",
       "      <td>0.0</td>\n",
       "      <td>0.000000e+00</td>\n",
       "      <td>0.000000</td>\n",
       "      <td>0.0</td>\n",
       "      <td>0.0</td>\n",
       "      <td>0</td>\n",
       "      <td>1.0</td>\n",
       "      <td>UDP-lag</td>\n",
       "    </tr>\n",
       "    <tr>\n",
       "      <th>9405922</th>\n",
       "      <td>172.16.0.5-192.168.50.1-60491-58360-6</td>\n",
       "      <td>172.16.0.5</td>\n",
       "      <td>60491</td>\n",
       "      <td>192.168.50.1</td>\n",
       "      <td>58360</td>\n",
       "      <td>6</td>\n",
       "      <td>2018-12-01 13:30:30.740323</td>\n",
       "      <td>1</td>\n",
       "      <td>2</td>\n",
       "      <td>0</td>\n",
       "      <td>...</td>\n",
       "      <td>0.000000</td>\n",
       "      <td>0.0</td>\n",
       "      <td>0.0</td>\n",
       "      <td>0.000000e+00</td>\n",
       "      <td>0.000000</td>\n",
       "      <td>0.0</td>\n",
       "      <td>0.0</td>\n",
       "      <td>0</td>\n",
       "      <td>1.0</td>\n",
       "      <td>UDP-lag</td>\n",
       "    </tr>\n",
       "    <tr>\n",
       "      <th>9405923</th>\n",
       "      <td>172.16.0.5-192.168.50.1-60492-2905-6</td>\n",
       "      <td>172.16.0.5</td>\n",
       "      <td>60492</td>\n",
       "      <td>192.168.50.1</td>\n",
       "      <td>2905</td>\n",
       "      <td>6</td>\n",
       "      <td>2018-12-01 13:30:30.740374</td>\n",
       "      <td>2</td>\n",
       "      <td>2</td>\n",
       "      <td>0</td>\n",
       "      <td>...</td>\n",
       "      <td>0.000000</td>\n",
       "      <td>0.0</td>\n",
       "      <td>0.0</td>\n",
       "      <td>0.000000e+00</td>\n",
       "      <td>0.000000</td>\n",
       "      <td>0.0</td>\n",
       "      <td>0.0</td>\n",
       "      <td>0</td>\n",
       "      <td>1.0</td>\n",
       "      <td>UDP-lag</td>\n",
       "    </tr>\n",
       "    <tr>\n",
       "      <th>9405924</th>\n",
       "      <td>172.16.0.5-192.168.50.1-60493-45714-6</td>\n",
       "      <td>172.16.0.5</td>\n",
       "      <td>60493</td>\n",
       "      <td>192.168.50.1</td>\n",
       "      <td>45714</td>\n",
       "      <td>6</td>\n",
       "      <td>2018-12-01 13:30:30.740424</td>\n",
       "      <td>0</td>\n",
       "      <td>2</td>\n",
       "      <td>0</td>\n",
       "      <td>...</td>\n",
       "      <td>0.000000</td>\n",
       "      <td>0.0</td>\n",
       "      <td>0.0</td>\n",
       "      <td>0.000000e+00</td>\n",
       "      <td>0.000000</td>\n",
       "      <td>0.0</td>\n",
       "      <td>0.0</td>\n",
       "      <td>0</td>\n",
       "      <td>1.0</td>\n",
       "      <td>UDP-lag</td>\n",
       "    </tr>\n",
       "    <tr>\n",
       "      <th>9405925</th>\n",
       "      <td>172.16.0.5-192.168.50.1-60494-44935-6</td>\n",
       "      <td>172.16.0.5</td>\n",
       "      <td>60494</td>\n",
       "      <td>192.168.50.1</td>\n",
       "      <td>44935</td>\n",
       "      <td>6</td>\n",
       "      <td>2018-12-01 13:30:30.740425</td>\n",
       "      <td>134</td>\n",
       "      <td>2</td>\n",
       "      <td>2</td>\n",
       "      <td>...</td>\n",
       "      <td>0.000000</td>\n",
       "      <td>0.0</td>\n",
       "      <td>0.0</td>\n",
       "      <td>0.000000e+00</td>\n",
       "      <td>0.000000</td>\n",
       "      <td>0.0</td>\n",
       "      <td>0.0</td>\n",
       "      <td>0</td>\n",
       "      <td>1.0</td>\n",
       "      <td>UDP-lag</td>\n",
       "    </tr>\n",
       "  </tbody>\n",
       "</table>\n",
       "<p>9405926 rows × 87 columns</p>\n",
       "</div>"
      ],
      "text/plain": [
       "                                         Flow ID       Source IP  \\\n",
       "0         192.168.50.8-125.56.201.115-59099-80-6    192.168.50.8   \n",
       "1        192.168.50.8-54.218.239.186-59102-443-6    192.168.50.8   \n",
       "2                 192.168.50.253-224.0.0.5-0-0-0  192.168.50.253   \n",
       "3             192.168.50.8-23.15.4.11-59155-80-6    192.168.50.8   \n",
       "4          172.217.0.110-192.168.50.8-80-59131-6    192.168.50.8   \n",
       "...                                          ...             ...   \n",
       "9405921    172.16.0.5-192.168.50.1-60490-14102-6      172.16.0.5   \n",
       "9405922    172.16.0.5-192.168.50.1-60491-58360-6      172.16.0.5   \n",
       "9405923     172.16.0.5-192.168.50.1-60492-2905-6      172.16.0.5   \n",
       "9405924    172.16.0.5-192.168.50.1-60493-45714-6      172.16.0.5   \n",
       "9405925    172.16.0.5-192.168.50.1-60494-44935-6      172.16.0.5   \n",
       "\n",
       "          Source Port  Destination IP   Destination Port   Protocol  \\\n",
       "0               59099  125.56.201.115                 80          6   \n",
       "1               59102  54.218.239.186                443          6   \n",
       "2                   0       224.0.0.5                  0          0   \n",
       "3               59155      23.15.4.11                 80          6   \n",
       "4               59131   172.217.0.110                 80          6   \n",
       "...               ...             ...                ...        ...   \n",
       "9405921         60490    192.168.50.1              14102          6   \n",
       "9405922         60491    192.168.50.1              58360          6   \n",
       "9405923         60492    192.168.50.1               2905          6   \n",
       "9405924         60493    192.168.50.1              45714          6   \n",
       "9405925         60494    192.168.50.1              44935          6   \n",
       "\n",
       "                          Timestamp   Flow Duration   Total Fwd Packets  \\\n",
       "0        2018-12-01 10:51:40.379825       110861755                  26   \n",
       "1        2018-12-01 10:51:40.504696        40335006                   9   \n",
       "2        2018-12-01 10:51:41.309691       113244633                  56   \n",
       "3        2018-12-01 10:51:43.125459        95628949                  21   \n",
       "4        2018-12-01 10:51:43.141041        95613243                  21   \n",
       "...                             ...             ...                 ...   \n",
       "9405921  2018-12-01 13:30:30.740273               1                   2   \n",
       "9405922  2018-12-01 13:30:30.740323               1                   2   \n",
       "9405923  2018-12-01 13:30:30.740374               2                   2   \n",
       "9405924  2018-12-01 13:30:30.740424               0                   2   \n",
       "9405925  2018-12-01 13:30:30.740425             134                   2   \n",
       "\n",
       "          Total Backward Packets  ...     Active Std   Active Max  \\\n",
       "0                             26  ...   64223.338986     392446.0   \n",
       "1                             10  ...      43.554563      90287.0   \n",
       "2                              0  ...  859690.585416    2978061.0   \n",
       "3                             20  ...     177.422362      15367.0   \n",
       "4                             20  ...      17.902514      26534.0   \n",
       "...                          ...  ...            ...          ...   \n",
       "9405921                        0  ...       0.000000          0.0   \n",
       "9405922                        0  ...       0.000000          0.0   \n",
       "9405923                        0  ...       0.000000          0.0   \n",
       "9405924                        0  ...       0.000000          0.0   \n",
       "9405925                        2  ...       0.000000          0.0   \n",
       "\n",
       "          Active Min     Idle Mean       Idle Std    Idle Max    Idle Min  \\\n",
       "0           179351.0  9.863210e+06  413171.813769  10007500.0   8632089.0   \n",
       "1            90185.0  9.993447e+06   40495.753715  10018634.0   9933709.0   \n",
       "2                4.0  9.188876e+06  809901.667647   9882838.0   6781893.0   \n",
       "3            14798.0  1.001418e+07    5184.077926  10016037.0  10000366.0   \n",
       "4            26473.0  1.000431e+07      21.430119  10004365.0  10004289.0   \n",
       "...              ...           ...            ...         ...         ...   \n",
       "9405921          0.0  0.000000e+00       0.000000         0.0         0.0   \n",
       "9405922          0.0  0.000000e+00       0.000000         0.0         0.0   \n",
       "9405923          0.0  0.000000e+00       0.000000         0.0         0.0   \n",
       "9405924          0.0  0.000000e+00       0.000000         0.0         0.0   \n",
       "9405925          0.0  0.000000e+00       0.000000         0.0         0.0   \n",
       "\n",
       "                                 SimillarHTTP   Inbound    Label  \n",
       "0        detectportal.firefox.com/success.txt       0.0   BENIGN  \n",
       "1                                           0       0.0   BENIGN  \n",
       "2                                           0       0.0   BENIGN  \n",
       "3                                           0       0.0   BENIGN  \n",
       "4                                           0       0.0   BENIGN  \n",
       "...                                       ...       ...      ...  \n",
       "9405921                                     0       1.0  UDP-lag  \n",
       "9405922                                     0       1.0  UDP-lag  \n",
       "9405923                                     0       1.0  UDP-lag  \n",
       "9405924                                     0       1.0  UDP-lag  \n",
       "9405925                                     0       1.0  UDP-lag  \n",
       "\n",
       "[9405926 rows x 87 columns]"
      ]
     },
     "execution_count": 3,
     "metadata": {},
     "output_type": "execute_result"
    }
   ],
   "source": [
    "# Merge all the datasets to one dataset\n",
    "dataset_2019 = pd.concat([Data_BENIGN,DrDoS_DNS_data_1_per, DrDoS_LDAP_data_2_0_per, DrDoS_MSSQL_data_1_3_per, DrDoS_NetBIOS_data_1_3_per, DrDoS_NTP_data_data_5_per, DrDoS_SNMP_data_1_3_per, DrDoS_SSDP_data_2_per, DrDoS_UDP_data_2_per, Syn_data_4_per, UDPLag_data_2_0_per],ignore_index=True)\n",
    "# dataset_2019 = dataset_2019.drop(['Unnamed: 0', 'SimillarHTTP', ' Inbound'], axis = 1)\n",
    "dataset_2019 = dataset_2019.drop(['Unnamed: 0'], axis = 1)\n",
    "dataset_2019"
   ]
  },
  {
   "cell_type": "code",
   "execution_count": 4,
   "metadata": {},
   "outputs": [
    {
     "data": {
      "text/plain": [
       "(9405926, 87)"
      ]
     },
     "execution_count": 4,
     "metadata": {},
     "output_type": "execute_result"
    }
   ],
   "source": [
    "#Get the number of rows and columns\n",
    "dataset = dataset_2019\n",
    "dataset.shape"
   ]
  },
  {
   "cell_type": "code",
   "execution_count": 5,
   "metadata": {},
   "outputs": [
    {
     "data": {
      "text/plain": [
       "DrDoS_SSDP       999700\n",
       "Syn              999655\n",
       "DrDoS_SNMP       999296\n",
       "DrDoS_LDAP       999245\n",
       "DrDoS_NetBIOS    999146\n",
       "DrDoS_MSSQL      998988\n",
       "DrDoS_UDP        998868\n",
       "DrDoS_DNS        997994\n",
       "DrDoS_NTP        986449\n",
       "UDP-lag          366461\n",
       "BENIGN            59685\n",
       "WebDDoS             439\n",
       "Name:  Label, dtype: int64"
      ]
     },
     "execution_count": 5,
     "metadata": {},
     "output_type": "execute_result"
    }
   ],
   "source": [
    "# List values of Label column\n",
    "dataset[' Label'].value_counts()"
   ]
  },
  {
   "cell_type": "code",
   "execution_count": 6,
   "metadata": {},
   "outputs": [],
   "source": [
    "features_count = dataset[' Label'].value_counts().to_dict()\n",
    "features_label = dataset[' Label'].unique().tolist()\n",
    "list_rows_need_remove = []\n",
    "for i in features_label:\n",
    "    rows_need_remove = features_count.get(i) - int(features_count.get('BENIGN')/10)\n",
    "    if rows_need_remove > 0 and features_count.get(i) != features_count.get('BENIGN'):\n",
    "        #Get index of row need to remove (list)\n",
    "        idx = dataset.index[dataset[' Label'] == i].tolist()\n",
    "        idx = idx[:rows_need_remove]\n",
    "        list_rows_need_remove.extend(idx)\n",
    "    elif rows_need_remove < 0:\n",
    "        rows_need_remove = features_count.get(i)\n",
    "        idx = dataset.index[dataset[' Label'] == i].tolist()\n",
    "        idx = idx[:rows_need_remove]\n",
    "        list_rows_need_remove.extend(idx)\n",
    "dataset = dataset.drop(dataset.index[list_rows_need_remove])"
   ]
  },
  {
   "cell_type": "code",
   "execution_count": 7,
   "metadata": {},
   "outputs": [],
   "source": [
    "# Merge UDP, UDP-flag\n",
    "dataset.loc[dataset[\" Label\"] == \"UDP-lag\", \" Label\"] = \"UDP\""
   ]
  },
  {
   "cell_type": "code",
   "execution_count": 8,
   "metadata": {},
   "outputs": [
    {
     "data": {
      "text/plain": [
       "BENIGN           59685\n",
       "DrDoS_DNS         5968\n",
       "DrDoS_LDAP        5968\n",
       "DrDoS_MSSQL       5968\n",
       "DrDoS_NetBIOS     5968\n",
       "DrDoS_NTP         5968\n",
       "DrDoS_SNMP        5968\n",
       "DrDoS_SSDP        5968\n",
       "DrDoS_UDP         5968\n",
       "Syn               5968\n",
       "UDP               5968\n",
       "Name:  Label, dtype: int64"
      ]
     },
     "execution_count": 8,
     "metadata": {},
     "output_type": "execute_result"
    }
   ],
   "source": [
    "# List values of Label column after scale\n",
    "dataset[' Label'].value_counts()\n",
    "# dataset.to_csv('../datasets/DataDDoSFinal_.csv')"
   ]
  },
  {
   "cell_type": "code",
   "execution_count": 9,
   "metadata": {},
   "outputs": [
    {
     "data": {
      "text/plain": [
       "Index(['Flow ID', ' Source IP', ' Source Port', ' Destination IP',\n",
       "       ' Destination Port', ' Protocol', ' Timestamp', ' Flow Duration',\n",
       "       ' Total Fwd Packets', ' Total Backward Packets',\n",
       "       'Total Length of Fwd Packets', ' Total Length of Bwd Packets',\n",
       "       ' Fwd Packet Length Max', ' Fwd Packet Length Min',\n",
       "       ' Fwd Packet Length Mean', ' Fwd Packet Length Std',\n",
       "       'Bwd Packet Length Max', ' Bwd Packet Length Min',\n",
       "       ' Bwd Packet Length Mean', ' Bwd Packet Length Std', 'Flow Bytes/s',\n",
       "       ' Flow Packets/s', ' Flow IAT Mean', ' Flow IAT Std', ' Flow IAT Max',\n",
       "       ' Flow IAT Min', 'Fwd IAT Total', ' Fwd IAT Mean', ' Fwd IAT Std',\n",
       "       ' Fwd IAT Max', ' Fwd IAT Min', 'Bwd IAT Total', ' Bwd IAT Mean',\n",
       "       ' Bwd IAT Std', ' Bwd IAT Max', ' Bwd IAT Min', 'Fwd PSH Flags',\n",
       "       ' Bwd PSH Flags', ' Fwd URG Flags', ' Bwd URG Flags',\n",
       "       ' Fwd Header Length', ' Bwd Header Length', 'Fwd Packets/s',\n",
       "       ' Bwd Packets/s', ' Min Packet Length', ' Max Packet Length',\n",
       "       ' Packet Length Mean', ' Packet Length Std', ' Packet Length Variance',\n",
       "       'FIN Flag Count', ' SYN Flag Count', ' RST Flag Count',\n",
       "       ' PSH Flag Count', ' ACK Flag Count', ' URG Flag Count',\n",
       "       ' CWE Flag Count', ' ECE Flag Count', ' Down/Up Ratio',\n",
       "       ' Average Packet Size', ' Avg Fwd Segment Size',\n",
       "       ' Avg Bwd Segment Size', ' Fwd Header Length.1', 'Fwd Avg Bytes/Bulk',\n",
       "       ' Fwd Avg Packets/Bulk', ' Fwd Avg Bulk Rate', ' Bwd Avg Bytes/Bulk',\n",
       "       ' Bwd Avg Packets/Bulk', 'Bwd Avg Bulk Rate', 'Subflow Fwd Packets',\n",
       "       ' Subflow Fwd Bytes', ' Subflow Bwd Packets', ' Subflow Bwd Bytes',\n",
       "       'Init_Win_bytes_forward', ' Init_Win_bytes_backward',\n",
       "       ' act_data_pkt_fwd', ' min_seg_size_forward', 'Active Mean',\n",
       "       ' Active Std', ' Active Max', ' Active Min', 'Idle Mean', ' Idle Std',\n",
       "       ' Idle Max', ' Idle Min', 'SimillarHTTP', ' Inbound', ' Label'],\n",
       "      dtype='object')"
      ]
     },
     "execution_count": 9,
     "metadata": {},
     "output_type": "execute_result"
    }
   ],
   "source": [
    "# List name of columns\n",
    "dataset.columns "
   ]
  },
  {
   "cell_type": "code",
   "execution_count": 10,
   "metadata": {},
   "outputs": [],
   "source": [
    "# Replace infinitive value with NaN value\n",
    "data_no_null = dataset.replace(np.inf, np.nan)"
   ]
  },
  {
   "cell_type": "code",
   "execution_count": 11,
   "metadata": {},
   "outputs": [
    {
     "data": {
      "text/plain": [
       "13124"
      ]
     },
     "execution_count": 11,
     "metadata": {},
     "output_type": "execute_result"
    }
   ],
   "source": [
    "# Find the number of missing values in the data set. \n",
    "data_no_null.isnull().sum().sum()"
   ]
  },
  {
   "cell_type": "code",
   "execution_count": 12,
   "metadata": {},
   "outputs": [
    {
     "data": {
      "text/plain": [
       "(112824, 87)"
      ]
     },
     "execution_count": 12,
     "metadata": {},
     "output_type": "execute_result"
    }
   ],
   "source": [
    "# Drop rows contains (NaN) missing values\n",
    "data_df = data_no_null.dropna(axis=0)\n",
    "data_df.shape"
   ]
  },
  {
   "cell_type": "code",
   "execution_count": 13,
   "metadata": {},
   "outputs": [
    {
     "data": {
      "text/plain": [
       "(112824, 75)"
      ]
     },
     "execution_count": 13,
     "metadata": {},
     "output_type": "execute_result"
    }
   ],
   "source": [
    "#Find unique value in dataset and remove column has 0 value\n",
    "zero_value_column = []\n",
    "for i in data_df.columns:\n",
    "    if len(data_df[i].unique().tolist()) == 1:\n",
    "        zero_value_column.append(i)\n",
    "\n",
    "data_df = data_df.drop(columns=zero_value_column,axis=1)\n",
    "data_df.shape\n"
   ]
  },
  {
   "cell_type": "markdown",
   "metadata": {},
   "source": [
    " Result: \n",
    " Bwd PSH Flags\n",
    "[0]\n",
    " Fwd URG Flags\n",
    "[0]\n",
    " Bwd URG Flags\n",
    "[0]\n",
    "FIN Flag Count\n",
    "[0]\n",
    " PSH Flag Count\n",
    "[0]\n",
    " ECE Flag Count\n",
    "[0]\n",
    "Fwd Avg Bytes/Bulk\n",
    "[0]\n",
    " Fwd Avg Packets/Bulk\n",
    "[0]\n",
    " Fwd Avg Bulk Rate\n",
    "[0]\n",
    " Bwd Avg Bytes/Bulk\n",
    "[0]\n",
    " Bwd Avg Packets/Bulk\n",
    "[0]\n",
    "Bwd Avg Bulk Rate\n",
    "[0]"
   ]
  },
  {
   "cell_type": "code",
   "execution_count": 14,
   "metadata": {},
   "outputs": [
    {
     "data": {
      "text/plain": [
       "0"
      ]
     },
     "execution_count": 14,
     "metadata": {},
     "output_type": "execute_result"
    }
   ],
   "source": [
    "# Check null value in data_df\n",
    "data_df.isnull().sum().sum()"
   ]
  },
  {
   "cell_type": "code",
   "execution_count": 15,
   "metadata": {},
   "outputs": [],
   "source": [
    "#Drop some features if needed\n",
    "# data_X = data_df.drop(['Flow ID', ' Source IP', ' Destination IP',' Timestamp','SimillarHTTP', ' Inbound',' Label'],axis=1)\n",
    "data_X = data_df.drop([' Label'],axis=1)"
   ]
  },
  {
   "cell_type": "code",
   "execution_count": 16,
   "metadata": {},
   "outputs": [
    {
     "data": {
      "text/plain": [
       "array(['BENIGN', 'DrDoS_DNS', 'DrDoS_LDAP', 'DrDoS_MSSQL',\n",
       "       'DrDoS_NetBIOS', 'DrDoS_NTP', 'DrDoS_SNMP', 'DrDoS_SSDP',\n",
       "       'DrDoS_UDP', 'Syn', 'UDP'], dtype=object)"
      ]
     },
     "execution_count": 16,
     "metadata": {},
     "output_type": "execute_result"
    }
   ],
   "source": [
    "#Data contains Label column\n",
    "data_Y = data_df[' Label']\n",
    "data_Y.unique()"
   ]
  },
  {
   "cell_type": "markdown",
   "metadata": {},
   "source": [
    "Label Encoding for the Dataset\n"
   ]
  },
  {
   "cell_type": "code",
   "execution_count": 17,
   "metadata": {},
   "outputs": [],
   "source": [
    "from sklearn.preprocessing import LabelEncoder "
   ]
  },
  {
   "cell_type": "code",
   "execution_count": 18,
   "metadata": {},
   "outputs": [],
   "source": [
    "label_encode = LabelEncoder()"
   ]
  },
  {
   "cell_type": "code",
   "execution_count": 19,
   "metadata": {},
   "outputs": [
    {
     "data": {
      "text/plain": [
       "array([ 0,  1,  2,  3,  4,  5,  6,  7,  8,  9, 10])"
      ]
     },
     "execution_count": 19,
     "metadata": {},
     "output_type": "execute_result"
    }
   ],
   "source": [
    "# Encode data Y (Label)\n",
    "data_y_trans = label_encode.fit_transform(data_Y)\n",
    "np.unique(data_y_trans)"
   ]
  },
  {
   "cell_type": "code",
   "execution_count": 20,
   "metadata": {},
   "outputs": [
    {
     "data": {
      "text/plain": [
       "Index(['Flow ID', ' Source IP', ' Destination IP', ' Timestamp',\n",
       "       'SimillarHTTP'],\n",
       "      dtype='object')"
      ]
     },
     "execution_count": 20,
     "metadata": {},
     "output_type": "execute_result"
    }
   ],
   "source": [
    "#Processing with data X\n",
    "#Find type not a number of dataset column\n",
    "data_X.select_dtypes(include=['object','datetime']).columns\n"
   ]
  },
  {
   "cell_type": "code",
   "execution_count": 21,
   "metadata": {},
   "outputs": [],
   "source": [
    "#Encode data X\n",
    "#FlowID\n",
    "data_X['Flow ID'] = LabelEncoder().fit_transform(data_X['Flow ID'])\n",
    "\n",
    "#Source IP\n",
    "data_X[' Source IP'] = LabelEncoder().fit_transform(data_X[' Source IP'])\n",
    "\n",
    "#Destination IP\n",
    "data_X[' Destination IP'] = LabelEncoder().fit_transform(data_X[' Destination IP'])\n",
    "\n",
    "#Timestamp\n",
    "data_X[' Timestamp'] = LabelEncoder().fit_transform(data_X[' Timestamp'])\n",
    "\n",
    "#SimillarHTTP\n",
    "data_X['SimillarHTTP'] = data_X['SimillarHTTP'].astype(str)\n",
    "data_X['SimillarHTTP'] = LabelEncoder().fit_transform(data_X['SimillarHTTP'])\n"
   ]
  },
  {
   "cell_type": "code",
   "execution_count": 22,
   "metadata": {},
   "outputs": [
    {
     "data": {
      "text/plain": [
       "Flow ID                int32\n",
       " Source IP             int32\n",
       " Source Port           int64\n",
       " Destination IP        int32\n",
       " Destination Port      int64\n",
       "                      ...   \n",
       " Idle Std            float64\n",
       " Idle Max            float64\n",
       " Idle Min            float64\n",
       "SimillarHTTP           int32\n",
       " Inbound             float64\n",
       "Length: 74, dtype: object"
      ]
     },
     "execution_count": 22,
     "metadata": {},
     "output_type": "execute_result"
    }
   ],
   "source": [
    "data_X.dtypes"
   ]
  },
  {
   "cell_type": "code",
   "execution_count": 23,
   "metadata": {},
   "outputs": [
    {
     "data": {
      "text/html": [
       "<div>\n",
       "<style scoped>\n",
       "    .dataframe tbody tr th:only-of-type {\n",
       "        vertical-align: middle;\n",
       "    }\n",
       "\n",
       "    .dataframe tbody tr th {\n",
       "        vertical-align: top;\n",
       "    }\n",
       "\n",
       "    .dataframe thead th {\n",
       "        text-align: right;\n",
       "    }\n",
       "</style>\n",
       "<table border=\"1\" class=\"dataframe\">\n",
       "  <thead>\n",
       "    <tr style=\"text-align: right;\">\n",
       "      <th></th>\n",
       "      <th>Flow ID</th>\n",
       "      <th>Source IP</th>\n",
       "      <th>Source Port</th>\n",
       "      <th>Destination IP</th>\n",
       "      <th>Destination Port</th>\n",
       "      <th>Protocol</th>\n",
       "      <th>Timestamp</th>\n",
       "      <th>Flow Duration</th>\n",
       "      <th>Total Fwd Packets</th>\n",
       "      <th>Total Backward Packets</th>\n",
       "      <th>...</th>\n",
       "      <th>Active Mean</th>\n",
       "      <th>Active Std</th>\n",
       "      <th>Active Max</th>\n",
       "      <th>Active Min</th>\n",
       "      <th>Idle Mean</th>\n",
       "      <th>Idle Std</th>\n",
       "      <th>Idle Max</th>\n",
       "      <th>Idle Min</th>\n",
       "      <th>SimillarHTTP</th>\n",
       "      <th>Inbound</th>\n",
       "    </tr>\n",
       "  </thead>\n",
       "  <tbody>\n",
       "    <tr>\n",
       "      <th>0</th>\n",
       "      <td>69466</td>\n",
       "      <td>169</td>\n",
       "      <td>59099</td>\n",
       "      <td>21</td>\n",
       "      <td>80</td>\n",
       "      <td>6</td>\n",
       "      <td>20201</td>\n",
       "      <td>110861755</td>\n",
       "      <td>26</td>\n",
       "      <td>26</td>\n",
       "      <td>...</td>\n",
       "      <td>198805.454545</td>\n",
       "      <td>64223.338986</td>\n",
       "      <td>392446.0</td>\n",
       "      <td>179351.0</td>\n",
       "      <td>9.863210e+06</td>\n",
       "      <td>413171.813769</td>\n",
       "      <td>10007500.0</td>\n",
       "      <td>8632089.0</td>\n",
       "      <td>84</td>\n",
       "      <td>0.0</td>\n",
       "    </tr>\n",
       "    <tr>\n",
       "      <th>1</th>\n",
       "      <td>72242</td>\n",
       "      <td>169</td>\n",
       "      <td>59102</td>\n",
       "      <td>422</td>\n",
       "      <td>443</td>\n",
       "      <td>6</td>\n",
       "      <td>20202</td>\n",
       "      <td>40335006</td>\n",
       "      <td>9</td>\n",
       "      <td>10</td>\n",
       "      <td>...</td>\n",
       "      <td>90226.500000</td>\n",
       "      <td>43.554563</td>\n",
       "      <td>90287.0</td>\n",
       "      <td>90185.0</td>\n",
       "      <td>9.993447e+06</td>\n",
       "      <td>40495.753715</td>\n",
       "      <td>10018634.0</td>\n",
       "      <td>9933709.0</td>\n",
       "      <td>0</td>\n",
       "      <td>0.0</td>\n",
       "    </tr>\n",
       "    <tr>\n",
       "      <th>2</th>\n",
       "      <td>59353</td>\n",
       "      <td>165</td>\n",
       "      <td>0</td>\n",
       "      <td>239</td>\n",
       "      <td>0</td>\n",
       "      <td>0</td>\n",
       "      <td>20203</td>\n",
       "      <td>113244633</td>\n",
       "      <td>56</td>\n",
       "      <td>0</td>\n",
       "      <td>...</td>\n",
       "      <td>248176.750000</td>\n",
       "      <td>859690.585416</td>\n",
       "      <td>2978061.0</td>\n",
       "      <td>4.0</td>\n",
       "      <td>9.188876e+06</td>\n",
       "      <td>809901.667647</td>\n",
       "      <td>9882838.0</td>\n",
       "      <td>6781893.0</td>\n",
       "      <td>0</td>\n",
       "      <td>0.0</td>\n",
       "    </tr>\n",
       "    <tr>\n",
       "      <th>3</th>\n",
       "      <td>69590</td>\n",
       "      <td>169</td>\n",
       "      <td>59155</td>\n",
       "      <td>242</td>\n",
       "      <td>80</td>\n",
       "      <td>6</td>\n",
       "      <td>20204</td>\n",
       "      <td>95628949</td>\n",
       "      <td>21</td>\n",
       "      <td>20</td>\n",
       "      <td>...</td>\n",
       "      <td>14901.222222</td>\n",
       "      <td>177.422362</td>\n",
       "      <td>15367.0</td>\n",
       "      <td>14798.0</td>\n",
       "      <td>1.001418e+07</td>\n",
       "      <td>5184.077926</td>\n",
       "      <td>10016037.0</td>\n",
       "      <td>10000366.0</td>\n",
       "      <td>0</td>\n",
       "      <td>0.0</td>\n",
       "    </tr>\n",
       "    <tr>\n",
       "      <th>4</th>\n",
       "      <td>57374</td>\n",
       "      <td>169</td>\n",
       "      <td>59131</td>\n",
       "      <td>41</td>\n",
       "      <td>80</td>\n",
       "      <td>6</td>\n",
       "      <td>20205</td>\n",
       "      <td>95613243</td>\n",
       "      <td>21</td>\n",
       "      <td>20</td>\n",
       "      <td>...</td>\n",
       "      <td>26508.333333</td>\n",
       "      <td>17.902514</td>\n",
       "      <td>26534.0</td>\n",
       "      <td>26473.0</td>\n",
       "      <td>1.000431e+07</td>\n",
       "      <td>21.430119</td>\n",
       "      <td>10004365.0</td>\n",
       "      <td>10004289.0</td>\n",
       "      <td>0</td>\n",
       "      <td>0.0</td>\n",
       "    </tr>\n",
       "    <tr>\n",
       "      <th>...</th>\n",
       "      <td>...</td>\n",
       "      <td>...</td>\n",
       "      <td>...</td>\n",
       "      <td>...</td>\n",
       "      <td>...</td>\n",
       "      <td>...</td>\n",
       "      <td>...</td>\n",
       "      <td>...</td>\n",
       "      <td>...</td>\n",
       "      <td>...</td>\n",
       "      <td>...</td>\n",
       "      <td>...</td>\n",
       "      <td>...</td>\n",
       "      <td>...</td>\n",
       "      <td>...</td>\n",
       "      <td>...</td>\n",
       "      <td>...</td>\n",
       "      <td>...</td>\n",
       "      <td>...</td>\n",
       "      <td>...</td>\n",
       "      <td>...</td>\n",
       "    </tr>\n",
       "    <tr>\n",
       "      <th>9405920</th>\n",
       "      <td>23450</td>\n",
       "      <td>31</td>\n",
       "      <td>60489</td>\n",
       "      <td>176</td>\n",
       "      <td>27808</td>\n",
       "      <td>6</td>\n",
       "      <td>83020</td>\n",
       "      <td>1</td>\n",
       "      <td>2</td>\n",
       "      <td>0</td>\n",
       "      <td>...</td>\n",
       "      <td>0.000000</td>\n",
       "      <td>0.000000</td>\n",
       "      <td>0.0</td>\n",
       "      <td>0.0</td>\n",
       "      <td>0.000000e+00</td>\n",
       "      <td>0.000000</td>\n",
       "      <td>0.0</td>\n",
       "      <td>0.0</td>\n",
       "      <td>0</td>\n",
       "      <td>1.0</td>\n",
       "    </tr>\n",
       "    <tr>\n",
       "      <th>9405921</th>\n",
       "      <td>23453</td>\n",
       "      <td>31</td>\n",
       "      <td>60490</td>\n",
       "      <td>176</td>\n",
       "      <td>14102</td>\n",
       "      <td>6</td>\n",
       "      <td>83021</td>\n",
       "      <td>1</td>\n",
       "      <td>2</td>\n",
       "      <td>0</td>\n",
       "      <td>...</td>\n",
       "      <td>0.000000</td>\n",
       "      <td>0.000000</td>\n",
       "      <td>0.0</td>\n",
       "      <td>0.0</td>\n",
       "      <td>0.000000e+00</td>\n",
       "      <td>0.000000</td>\n",
       "      <td>0.0</td>\n",
       "      <td>0.0</td>\n",
       "      <td>0</td>\n",
       "      <td>1.0</td>\n",
       "    </tr>\n",
       "    <tr>\n",
       "      <th>9405922</th>\n",
       "      <td>23458</td>\n",
       "      <td>31</td>\n",
       "      <td>60491</td>\n",
       "      <td>176</td>\n",
       "      <td>58360</td>\n",
       "      <td>6</td>\n",
       "      <td>83022</td>\n",
       "      <td>1</td>\n",
       "      <td>2</td>\n",
       "      <td>0</td>\n",
       "      <td>...</td>\n",
       "      <td>0.000000</td>\n",
       "      <td>0.000000</td>\n",
       "      <td>0.0</td>\n",
       "      <td>0.0</td>\n",
       "      <td>0.000000e+00</td>\n",
       "      <td>0.000000</td>\n",
       "      <td>0.0</td>\n",
       "      <td>0.0</td>\n",
       "      <td>0</td>\n",
       "      <td>1.0</td>\n",
       "    </tr>\n",
       "    <tr>\n",
       "      <th>9405923</th>\n",
       "      <td>23462</td>\n",
       "      <td>31</td>\n",
       "      <td>60492</td>\n",
       "      <td>176</td>\n",
       "      <td>2905</td>\n",
       "      <td>6</td>\n",
       "      <td>83023</td>\n",
       "      <td>2</td>\n",
       "      <td>2</td>\n",
       "      <td>0</td>\n",
       "      <td>...</td>\n",
       "      <td>0.000000</td>\n",
       "      <td>0.000000</td>\n",
       "      <td>0.0</td>\n",
       "      <td>0.0</td>\n",
       "      <td>0.000000e+00</td>\n",
       "      <td>0.000000</td>\n",
       "      <td>0.0</td>\n",
       "      <td>0.0</td>\n",
       "      <td>0</td>\n",
       "      <td>1.0</td>\n",
       "    </tr>\n",
       "    <tr>\n",
       "      <th>9405925</th>\n",
       "      <td>23467</td>\n",
       "      <td>31</td>\n",
       "      <td>60494</td>\n",
       "      <td>176</td>\n",
       "      <td>44935</td>\n",
       "      <td>6</td>\n",
       "      <td>83024</td>\n",
       "      <td>134</td>\n",
       "      <td>2</td>\n",
       "      <td>2</td>\n",
       "      <td>...</td>\n",
       "      <td>0.000000</td>\n",
       "      <td>0.000000</td>\n",
       "      <td>0.0</td>\n",
       "      <td>0.0</td>\n",
       "      <td>0.000000e+00</td>\n",
       "      <td>0.000000</td>\n",
       "      <td>0.0</td>\n",
       "      <td>0.0</td>\n",
       "      <td>0</td>\n",
       "      <td>1.0</td>\n",
       "    </tr>\n",
       "  </tbody>\n",
       "</table>\n",
       "<p>112824 rows × 74 columns</p>\n",
       "</div>"
      ],
      "text/plain": [
       "         Flow ID   Source IP   Source Port   Destination IP  \\\n",
       "0          69466         169         59099               21   \n",
       "1          72242         169         59102              422   \n",
       "2          59353         165             0              239   \n",
       "3          69590         169         59155              242   \n",
       "4          57374         169         59131               41   \n",
       "...          ...         ...           ...              ...   \n",
       "9405920    23450          31         60489              176   \n",
       "9405921    23453          31         60490              176   \n",
       "9405922    23458          31         60491              176   \n",
       "9405923    23462          31         60492              176   \n",
       "9405925    23467          31         60494              176   \n",
       "\n",
       "          Destination Port   Protocol   Timestamp   Flow Duration  \\\n",
       "0                       80          6       20201       110861755   \n",
       "1                      443          6       20202        40335006   \n",
       "2                        0          0       20203       113244633   \n",
       "3                       80          6       20204        95628949   \n",
       "4                       80          6       20205        95613243   \n",
       "...                    ...        ...         ...             ...   \n",
       "9405920              27808          6       83020               1   \n",
       "9405921              14102          6       83021               1   \n",
       "9405922              58360          6       83022               1   \n",
       "9405923               2905          6       83023               2   \n",
       "9405925              44935          6       83024             134   \n",
       "\n",
       "          Total Fwd Packets   Total Backward Packets  ...    Active Mean  \\\n",
       "0                        26                       26  ...  198805.454545   \n",
       "1                         9                       10  ...   90226.500000   \n",
       "2                        56                        0  ...  248176.750000   \n",
       "3                        21                       20  ...   14901.222222   \n",
       "4                        21                       20  ...   26508.333333   \n",
       "...                     ...                      ...  ...            ...   \n",
       "9405920                   2                        0  ...       0.000000   \n",
       "9405921                   2                        0  ...       0.000000   \n",
       "9405922                   2                        0  ...       0.000000   \n",
       "9405923                   2                        0  ...       0.000000   \n",
       "9405925                   2                        2  ...       0.000000   \n",
       "\n",
       "            Active Std   Active Max   Active Min     Idle Mean       Idle Std  \\\n",
       "0         64223.338986     392446.0     179351.0  9.863210e+06  413171.813769   \n",
       "1            43.554563      90287.0      90185.0  9.993447e+06   40495.753715   \n",
       "2        859690.585416    2978061.0          4.0  9.188876e+06  809901.667647   \n",
       "3           177.422362      15367.0      14798.0  1.001418e+07    5184.077926   \n",
       "4            17.902514      26534.0      26473.0  1.000431e+07      21.430119   \n",
       "...                ...          ...          ...           ...            ...   \n",
       "9405920       0.000000          0.0          0.0  0.000000e+00       0.000000   \n",
       "9405921       0.000000          0.0          0.0  0.000000e+00       0.000000   \n",
       "9405922       0.000000          0.0          0.0  0.000000e+00       0.000000   \n",
       "9405923       0.000000          0.0          0.0  0.000000e+00       0.000000   \n",
       "9405925       0.000000          0.0          0.0  0.000000e+00       0.000000   \n",
       "\n",
       "           Idle Max    Idle Min  SimillarHTTP   Inbound  \n",
       "0        10007500.0   8632089.0            84       0.0  \n",
       "1        10018634.0   9933709.0             0       0.0  \n",
       "2         9882838.0   6781893.0             0       0.0  \n",
       "3        10016037.0  10000366.0             0       0.0  \n",
       "4        10004365.0  10004289.0             0       0.0  \n",
       "...             ...         ...           ...       ...  \n",
       "9405920         0.0         0.0             0       1.0  \n",
       "9405921         0.0         0.0             0       1.0  \n",
       "9405922         0.0         0.0             0       1.0  \n",
       "9405923         0.0         0.0             0       1.0  \n",
       "9405925         0.0         0.0             0       1.0  \n",
       "\n",
       "[112824 rows x 74 columns]"
      ]
     },
     "execution_count": 23,
     "metadata": {},
     "output_type": "execute_result"
    }
   ],
   "source": [
    "data_X"
   ]
  },
  {
   "cell_type": "code",
   "execution_count": 24,
   "metadata": {},
   "outputs": [
    {
     "name": "stderr",
     "output_type": "stream",
     "text": [
      "C:\\Users\\hvviet\\AppData\\Local\\Programs\\Python\\Python310\\lib\\site-packages\\seaborn\\_decorators.py:36: FutureWarning: Pass the following variable as a keyword arg: x. From version 0.12, the only valid positional argument will be `data`, and passing other arguments without an explicit keyword will result in an error or misinterpretation.\n",
      "  warnings.warn(\n"
     ]
    },
    {
     "data": {
      "text/plain": [
       "<AxesSubplot:xlabel=' Protocol'>"
      ]
     },
     "execution_count": 24,
     "metadata": {},
     "output_type": "execute_result"
    },
    {
     "data": {
      "image/png": "[encoded data removed]",
      "text/plain": [
       "<Figure size 432x288 with 1 Axes>"
      ]
     },
     "metadata": {
      "needs_background": "light"
     },
     "output_type": "display_data"
    }
   ],
   "source": [
    "#Find outliner in dataset\n",
    "import seaborn as sns\n",
    "sns.boxplot(data_X[data_X.columns[5]])"
   ]
  },
  {
   "cell_type": "code",
   "execution_count": 25,
   "metadata": {},
   "outputs": [
    {
     "data": {
      "text/html": [
       "<div>\n",
       "<style scoped>\n",
       "    .dataframe tbody tr th:only-of-type {\n",
       "        vertical-align: middle;\n",
       "    }\n",
       "\n",
       "    .dataframe tbody tr th {\n",
       "        vertical-align: top;\n",
       "    }\n",
       "\n",
       "    .dataframe thead th {\n",
       "        text-align: right;\n",
       "    }\n",
       "</style>\n",
       "<table border=\"1\" class=\"dataframe\">\n",
       "  <thead>\n",
       "    <tr style=\"text-align: right;\">\n",
       "      <th></th>\n",
       "      <th>Flow ID</th>\n",
       "      <th>Source IP</th>\n",
       "      <th>Source Port</th>\n",
       "      <th>Destination IP</th>\n",
       "      <th>Destination Port</th>\n",
       "      <th>Protocol</th>\n",
       "      <th>Timestamp</th>\n",
       "      <th>Flow Duration</th>\n",
       "      <th>Total Fwd Packets</th>\n",
       "      <th>Total Backward Packets</th>\n",
       "      <th>...</th>\n",
       "      <th>Active Mean</th>\n",
       "      <th>Active Std</th>\n",
       "      <th>Active Max</th>\n",
       "      <th>Active Min</th>\n",
       "      <th>Idle Mean</th>\n",
       "      <th>Idle Std</th>\n",
       "      <th>Idle Max</th>\n",
       "      <th>Idle Min</th>\n",
       "      <th>SimillarHTTP</th>\n",
       "      <th>Inbound</th>\n",
       "    </tr>\n",
       "  </thead>\n",
       "  <tbody>\n",
       "    <tr>\n",
       "      <th>0</th>\n",
       "      <td>1.085901</td>\n",
       "      <td>0.763018</td>\n",
       "      <td>0.862165</td>\n",
       "      <td>-1.979419</td>\n",
       "      <td>-0.925899</td>\n",
       "      <td>-1.185592</td>\n",
       "      <td>-0.761525</td>\n",
       "      <td>5.093435</td>\n",
       "      <td>0.606503</td>\n",
       "      <td>0.645193</td>\n",
       "      <td>...</td>\n",
       "      <td>0.421915</td>\n",
       "      <td>0.401370</td>\n",
       "      <td>0.737108</td>\n",
       "      <td>0.411682</td>\n",
       "      <td>0.965315</td>\n",
       "      <td>0.210740</td>\n",
       "      <td>0.920339</td>\n",
       "      <td>0.856162</td>\n",
       "      <td>3.544530</td>\n",
       "      <td>-1.208669</td>\n",
       "    </tr>\n",
       "    <tr>\n",
       "      <th>1</th>\n",
       "      <td>1.213805</td>\n",
       "      <td>0.763018</td>\n",
       "      <td>0.862276</td>\n",
       "      <td>1.947443</td>\n",
       "      <td>-0.910158</td>\n",
       "      <td>-1.185592</td>\n",
       "      <td>-0.761488</td>\n",
       "      <td>1.708320</td>\n",
       "      <td>0.052709</td>\n",
       "      <td>0.185544</td>\n",
       "      <td>...</td>\n",
       "      <td>0.137695</td>\n",
       "      <td>-0.085328</td>\n",
       "      <td>0.082506</td>\n",
       "      <td>0.165241</td>\n",
       "      <td>0.980607</td>\n",
       "      <td>-0.050557</td>\n",
       "      <td>0.921581</td>\n",
       "      <td>1.013383</td>\n",
       "      <td>-0.126954</td>\n",
       "      <td>-1.208669</td>\n",
       "    </tr>\n",
       "    <tr>\n",
       "      <th>2</th>\n",
       "      <td>0.619948</td>\n",
       "      <td>0.716854</td>\n",
       "      <td>-1.322814</td>\n",
       "      <td>0.155384</td>\n",
       "      <td>-0.929368</td>\n",
       "      <td>-2.270953</td>\n",
       "      <td>-0.761451</td>\n",
       "      <td>5.207808</td>\n",
       "      <td>1.583786</td>\n",
       "      <td>-0.101737</td>\n",
       "      <td>...</td>\n",
       "      <td>0.551151</td>\n",
       "      <td>6.433672</td>\n",
       "      <td>6.338621</td>\n",
       "      <td>-0.084004</td>\n",
       "      <td>0.886136</td>\n",
       "      <td>0.488901</td>\n",
       "      <td>0.906440</td>\n",
       "      <td>0.632680</td>\n",
       "      <td>-0.126954</td>\n",
       "      <td>-1.208669</td>\n",
       "    </tr>\n",
       "    <tr>\n",
       "      <th>3</th>\n",
       "      <td>1.091614</td>\n",
       "      <td>0.763018</td>\n",
       "      <td>0.864235</td>\n",
       "      <td>0.184762</td>\n",
       "      <td>-0.925899</td>\n",
       "      <td>-1.185592</td>\n",
       "      <td>-0.761414</td>\n",
       "      <td>4.362297</td>\n",
       "      <td>0.443623</td>\n",
       "      <td>0.472825</td>\n",
       "      <td>...</td>\n",
       "      <td>-0.059480</td>\n",
       "      <td>-0.084313</td>\n",
       "      <td>-0.079801</td>\n",
       "      <td>-0.043116</td>\n",
       "      <td>0.983042</td>\n",
       "      <td>-0.075315</td>\n",
       "      <td>0.921291</td>\n",
       "      <td>1.021434</td>\n",
       "      <td>-0.126954</td>\n",
       "      <td>-1.208669</td>\n",
       "    </tr>\n",
       "    <tr>\n",
       "      <th>4</th>\n",
       "      <td>0.528766</td>\n",
       "      <td>0.763018</td>\n",
       "      <td>0.863348</td>\n",
       "      <td>-1.783565</td>\n",
       "      <td>-0.925899</td>\n",
       "      <td>-1.185592</td>\n",
       "      <td>-0.761376</td>\n",
       "      <td>4.361543</td>\n",
       "      <td>0.443623</td>\n",
       "      <td>0.472825</td>\n",
       "      <td>...</td>\n",
       "      <td>-0.029096</td>\n",
       "      <td>-0.085522</td>\n",
       "      <td>-0.055609</td>\n",
       "      <td>-0.010848</td>\n",
       "      <td>0.981883</td>\n",
       "      <td>-0.078935</td>\n",
       "      <td>0.919990</td>\n",
       "      <td>1.021908</td>\n",
       "      <td>-0.126954</td>\n",
       "      <td>-1.208669</td>\n",
       "    </tr>\n",
       "    <tr>\n",
       "      <th>...</th>\n",
       "      <td>...</td>\n",
       "      <td>...</td>\n",
       "      <td>...</td>\n",
       "      <td>...</td>\n",
       "      <td>...</td>\n",
       "      <td>...</td>\n",
       "      <td>...</td>\n",
       "      <td>...</td>\n",
       "      <td>...</td>\n",
       "      <td>...</td>\n",
       "      <td>...</td>\n",
       "      <td>...</td>\n",
       "      <td>...</td>\n",
       "      <td>...</td>\n",
       "      <td>...</td>\n",
       "      <td>...</td>\n",
       "      <td>...</td>\n",
       "      <td>...</td>\n",
       "      <td>...</td>\n",
       "      <td>...</td>\n",
       "      <td>...</td>\n",
       "    </tr>\n",
       "    <tr>\n",
       "      <th>112819</th>\n",
       "      <td>-1.034273</td>\n",
       "      <td>-0.829659</td>\n",
       "      <td>0.913555</td>\n",
       "      <td>-0.461555</td>\n",
       "      <td>0.276467</td>\n",
       "      <td>-1.185592</td>\n",
       "      <td>1.568983</td>\n",
       "      <td>-0.227664</td>\n",
       "      <td>-0.175323</td>\n",
       "      <td>-0.101737</td>\n",
       "      <td>...</td>\n",
       "      <td>-0.098485</td>\n",
       "      <td>-0.085658</td>\n",
       "      <td>-0.113093</td>\n",
       "      <td>-0.084015</td>\n",
       "      <td>-0.192807</td>\n",
       "      <td>-0.078950</td>\n",
       "      <td>-0.195448</td>\n",
       "      <td>-0.186494</td>\n",
       "      <td>-0.126954</td>\n",
       "      <td>0.827356</td>\n",
       "    </tr>\n",
       "    <tr>\n",
       "      <th>112820</th>\n",
       "      <td>-1.034134</td>\n",
       "      <td>-0.829659</td>\n",
       "      <td>0.913592</td>\n",
       "      <td>-0.461555</td>\n",
       "      <td>-0.317865</td>\n",
       "      <td>-1.185592</td>\n",
       "      <td>1.569020</td>\n",
       "      <td>-0.227664</td>\n",
       "      <td>-0.175323</td>\n",
       "      <td>-0.101737</td>\n",
       "      <td>...</td>\n",
       "      <td>-0.098485</td>\n",
       "      <td>-0.085658</td>\n",
       "      <td>-0.113093</td>\n",
       "      <td>-0.084015</td>\n",
       "      <td>-0.192807</td>\n",
       "      <td>-0.078950</td>\n",
       "      <td>-0.195448</td>\n",
       "      <td>-0.186494</td>\n",
       "      <td>-0.126954</td>\n",
       "      <td>0.827356</td>\n",
       "    </tr>\n",
       "    <tr>\n",
       "      <th>112821</th>\n",
       "      <td>-1.033904</td>\n",
       "      <td>-0.829659</td>\n",
       "      <td>0.913629</td>\n",
       "      <td>-0.461555</td>\n",
       "      <td>1.601289</td>\n",
       "      <td>-1.185592</td>\n",
       "      <td>1.569057</td>\n",
       "      <td>-0.227664</td>\n",
       "      <td>-0.175323</td>\n",
       "      <td>-0.101737</td>\n",
       "      <td>...</td>\n",
       "      <td>-0.098485</td>\n",
       "      <td>-0.085658</td>\n",
       "      <td>-0.113093</td>\n",
       "      <td>-0.084015</td>\n",
       "      <td>-0.192807</td>\n",
       "      <td>-0.078950</td>\n",
       "      <td>-0.195448</td>\n",
       "      <td>-0.186494</td>\n",
       "      <td>-0.126954</td>\n",
       "      <td>0.827356</td>\n",
       "    </tr>\n",
       "    <tr>\n",
       "      <th>112822</th>\n",
       "      <td>-1.033720</td>\n",
       "      <td>-0.829659</td>\n",
       "      <td>0.913666</td>\n",
       "      <td>-0.461555</td>\n",
       "      <td>-0.803399</td>\n",
       "      <td>-1.185592</td>\n",
       "      <td>1.569094</td>\n",
       "      <td>-0.227663</td>\n",
       "      <td>-0.175323</td>\n",
       "      <td>-0.101737</td>\n",
       "      <td>...</td>\n",
       "      <td>-0.098485</td>\n",
       "      <td>-0.085658</td>\n",
       "      <td>-0.113093</td>\n",
       "      <td>-0.084015</td>\n",
       "      <td>-0.192807</td>\n",
       "      <td>-0.078950</td>\n",
       "      <td>-0.195448</td>\n",
       "      <td>-0.186494</td>\n",
       "      <td>-0.126954</td>\n",
       "      <td>0.827356</td>\n",
       "    </tr>\n",
       "    <tr>\n",
       "      <th>112823</th>\n",
       "      <td>-1.033489</td>\n",
       "      <td>-0.829659</td>\n",
       "      <td>0.913740</td>\n",
       "      <td>-0.461555</td>\n",
       "      <td>1.019143</td>\n",
       "      <td>-1.185592</td>\n",
       "      <td>1.569132</td>\n",
       "      <td>-0.227657</td>\n",
       "      <td>-0.175323</td>\n",
       "      <td>-0.044281</td>\n",
       "      <td>...</td>\n",
       "      <td>-0.098485</td>\n",
       "      <td>-0.085658</td>\n",
       "      <td>-0.113093</td>\n",
       "      <td>-0.084015</td>\n",
       "      <td>-0.192807</td>\n",
       "      <td>-0.078950</td>\n",
       "      <td>-0.195448</td>\n",
       "      <td>-0.186494</td>\n",
       "      <td>-0.126954</td>\n",
       "      <td>0.827356</td>\n",
       "    </tr>\n",
       "  </tbody>\n",
       "</table>\n",
       "<p>112824 rows × 74 columns</p>\n",
       "</div>"
      ],
      "text/plain": [
       "         Flow ID   Source IP   Source Port   Destination IP  \\\n",
       "0       1.085901    0.763018      0.862165        -1.979419   \n",
       "1       1.213805    0.763018      0.862276         1.947443   \n",
       "2       0.619948    0.716854     -1.322814         0.155384   \n",
       "3       1.091614    0.763018      0.864235         0.184762   \n",
       "4       0.528766    0.763018      0.863348        -1.783565   \n",
       "...          ...         ...           ...              ...   \n",
       "112819 -1.034273   -0.829659      0.913555        -0.461555   \n",
       "112820 -1.034134   -0.829659      0.913592        -0.461555   \n",
       "112821 -1.033904   -0.829659      0.913629        -0.461555   \n",
       "112822 -1.033720   -0.829659      0.913666        -0.461555   \n",
       "112823 -1.033489   -0.829659      0.913740        -0.461555   \n",
       "\n",
       "         Destination Port   Protocol   Timestamp   Flow Duration  \\\n",
       "0               -0.925899  -1.185592   -0.761525        5.093435   \n",
       "1               -0.910158  -1.185592   -0.761488        1.708320   \n",
       "2               -0.929368  -2.270953   -0.761451        5.207808   \n",
       "3               -0.925899  -1.185592   -0.761414        4.362297   \n",
       "4               -0.925899  -1.185592   -0.761376        4.361543   \n",
       "...                   ...        ...         ...             ...   \n",
       "112819           0.276467  -1.185592    1.568983       -0.227664   \n",
       "112820          -0.317865  -1.185592    1.569020       -0.227664   \n",
       "112821           1.601289  -1.185592    1.569057       -0.227664   \n",
       "112822          -0.803399  -1.185592    1.569094       -0.227663   \n",
       "112823           1.019143  -1.185592    1.569132       -0.227657   \n",
       "\n",
       "         Total Fwd Packets   Total Backward Packets  ...  Active Mean  \\\n",
       "0                 0.606503                 0.645193  ...     0.421915   \n",
       "1                 0.052709                 0.185544  ...     0.137695   \n",
       "2                 1.583786                -0.101737  ...     0.551151   \n",
       "3                 0.443623                 0.472825  ...    -0.059480   \n",
       "4                 0.443623                 0.472825  ...    -0.029096   \n",
       "...                    ...                      ...  ...          ...   \n",
       "112819           -0.175323                -0.101737  ...    -0.098485   \n",
       "112820           -0.175323                -0.101737  ...    -0.098485   \n",
       "112821           -0.175323                -0.101737  ...    -0.098485   \n",
       "112822           -0.175323                -0.101737  ...    -0.098485   \n",
       "112823           -0.175323                -0.044281  ...    -0.098485   \n",
       "\n",
       "         Active Std   Active Max   Active Min  Idle Mean   Idle Std  \\\n",
       "0          0.401370     0.737108     0.411682   0.965315   0.210740   \n",
       "1         -0.085328     0.082506     0.165241   0.980607  -0.050557   \n",
       "2          6.433672     6.338621    -0.084004   0.886136   0.488901   \n",
       "3         -0.084313    -0.079801    -0.043116   0.983042  -0.075315   \n",
       "4         -0.085522    -0.055609    -0.010848   0.981883  -0.078935   \n",
       "...             ...          ...          ...        ...        ...   \n",
       "112819    -0.085658    -0.113093    -0.084015  -0.192807  -0.078950   \n",
       "112820    -0.085658    -0.113093    -0.084015  -0.192807  -0.078950   \n",
       "112821    -0.085658    -0.113093    -0.084015  -0.192807  -0.078950   \n",
       "112822    -0.085658    -0.113093    -0.084015  -0.192807  -0.078950   \n",
       "112823    -0.085658    -0.113093    -0.084015  -0.192807  -0.078950   \n",
       "\n",
       "         Idle Max   Idle Min  SimillarHTTP   Inbound  \n",
       "0        0.920339   0.856162      3.544530 -1.208669  \n",
       "1        0.921581   1.013383     -0.126954 -1.208669  \n",
       "2        0.906440   0.632680     -0.126954 -1.208669  \n",
       "3        0.921291   1.021434     -0.126954 -1.208669  \n",
       "4        0.919990   1.021908     -0.126954 -1.208669  \n",
       "...           ...        ...           ...       ...  \n",
       "112819  -0.195448  -0.186494     -0.126954  0.827356  \n",
       "112820  -0.195448  -0.186494     -0.126954  0.827356  \n",
       "112821  -0.195448  -0.186494     -0.126954  0.827356  \n",
       "112822  -0.195448  -0.186494     -0.126954  0.827356  \n",
       "112823  -0.195448  -0.186494     -0.126954  0.827356  \n",
       "\n",
       "[112824 rows x 74 columns]"
      ]
     },
     "execution_count": 25,
     "metadata": {},
     "output_type": "execute_result"
    }
   ],
   "source": [
    "#Feature Scaling\n",
    "#Because some features have outliner so I use Standardization, this technique is preferred if outliers are present in the dataset\n",
    "from sklearn.preprocessing import StandardScaler\n",
    "\n",
    "data_X_scaled = StandardScaler().fit_transform(data_X.to_numpy())\n",
    "data_X_scaled = pd.DataFrame(data_X_scaled, columns=data_X.columns)\n",
    "data_X_scaled"
   ]
  },
  {
   "cell_type": "code",
   "execution_count": 26,
   "metadata": {},
   "outputs": [],
   "source": [
    "#Split dataset to data_train and data_test\n",
    "\n",
    "from sklearn.model_selection import train_test_split\n",
    "X_train, X_test, Y_train, Y_test = train_test_split(data_X_scaled, data_y_trans, test_size = 0.30, random_state = 42)"
   ]
  },
  {
   "cell_type": "code",
   "execution_count": 27,
   "metadata": {},
   "outputs": [
    {
     "data": {
      "text/plain": [
       "RandomForestClassifier()"
      ]
     },
     "execution_count": 27,
     "metadata": {},
     "output_type": "execute_result"
    }
   ],
   "source": [
    "#1. Random Forest Classification\n",
    "from sklearn.ensemble import RandomForestClassifier\n",
    "rf = RandomForestClassifier()\n",
    "rf.fit(X_train, Y_train)"
   ]
  },
  {
   "cell_type": "code",
   "execution_count": 28,
   "metadata": {},
   "outputs": [],
   "source": [
    "#Export model\n",
    "import pickle\n",
    "pickle.dump(rf, open('../model_training/RF_Model', 'wb'))"
   ]
  },
  {
   "cell_type": "code",
   "execution_count": 29,
   "metadata": {},
   "outputs": [
    {
     "data": {
      "text/plain": [
       "array([0, 4, 0, ..., 0, 0, 4])"
      ]
     },
     "execution_count": 29,
     "metadata": {},
     "output_type": "execute_result"
    }
   ],
   "source": [
    "rf_y_pred = rf.predict(X_test)\n",
    "rf_y_pred"
   ]
  },
  {
   "cell_type": "code",
   "execution_count": 30,
   "metadata": {},
   "outputs": [
    {
     "name": "stdout",
     "output_type": "stream",
     "text": [
      "Accuracy Score for Random_Forest: \n",
      " 99.9438666981801\n",
      "Classification Report for Random Forest: \n",
      "                precision    recall  f1-score   support\n",
      "\n",
      "       BENIGN       1.00      1.00      1.00     16643\n",
      "    DrDoS_DNS       1.00      1.00      1.00      1746\n",
      "   DrDoS_LDAP       1.00      1.00      1.00      1842\n",
      "  DrDoS_MSSQL       1.00      1.00      1.00      1692\n",
      "    DrDoS_NTP       1.00      1.00      1.00      1797\n",
      "DrDoS_NetBIOS       1.00      1.00      1.00      1832\n",
      "   DrDoS_SNMP       1.00      1.00      1.00      1840\n",
      "   DrDoS_SSDP       1.00      1.00      1.00      1762\n",
      "    DrDoS_UDP       1.00      1.00      1.00      1673\n",
      "          Syn       1.00      1.00      1.00      1535\n",
      "          UDP       1.00      1.00      1.00      1486\n",
      "\n",
      "     accuracy                           1.00     33848\n",
      "    macro avg       1.00      1.00      1.00     33848\n",
      " weighted avg       1.00      1.00      1.00     33848\n",
      "\n"
     ]
    }
   ],
   "source": [
    "from sklearn.metrics import accuracy_score \n",
    "from sklearn.metrics import classification_report \n",
    "from sklearn.metrics import confusion_matrix, ConfusionMatrixDisplay\n",
    "\n",
    "acc_score = accuracy_score(Y_test, rf_y_pred)\n",
    "print(\"Accuracy Score for Random_Forest: \\n\", acc_score*100)\n",
    "\n",
    "print(\"Classification Report for Random Forest: \\n\", classification_report(label_encode.inverse_transform(Y_test), label_encode.inverse_transform(rf_y_pred)))"
   ]
  },
  {
   "cell_type": "code",
   "execution_count": 31,
   "metadata": {},
   "outputs": [
    {
     "name": "stdout",
     "output_type": "stream",
     "text": [
      "Random Forest Confusion: \n",
      " [[16643     0     0     0     0     0     0     0     0     0     0]\n",
      " [    0  1743     2     0     1     0     0     0     0     0     0]\n",
      " [    0     3  1839     0     0     0     0     0     0     0     0]\n",
      " [    1     0     0  1691     0     0     0     0     0     0     0]\n",
      " [    1     2     0     0  1794     0     0     0     0     0     0]\n",
      " [    1     2     0     0     0  1829     0     0     0     0     0]\n",
      " [    0     0     1     1     0     0  1838     0     0     0     0]\n",
      " [    0     0     0     0     0     0     2  1758     2     0     0]\n",
      " [    0     0     0     0     0     0     0     0  1673     0     0]\n",
      " [    0     0     0     0     0     0     0     0     0  1535     0]\n",
      " [    0     0     0     0     0     0     0     0     0     0  1486]]\n"
     ]
    }
   ],
   "source": [
    "rf_conf_mat = confusion_matrix(Y_test, rf_y_pred)\n",
    "print(\"Random Forest Confusion: \\n\", rf_conf_mat)"
   ]
  },
  {
   "cell_type": "code",
   "execution_count": 32,
   "metadata": {},
   "outputs": [],
   "source": [
    "#2. AdaBoost\n",
    "from sklearn.ensemble import AdaBoostClassifier\n",
    "ada_boost = AdaBoostClassifier()\n",
    "ada_boost.fit(X_train, Y_train)\n",
    "pickle.dump(ada_boost, open('../model_training/AdaBoost_Model', 'wb'))"
   ]
  },
  {
   "cell_type": "code",
   "execution_count": 33,
   "metadata": {},
   "outputs": [
    {
     "data": {
      "text/plain": [
       "array([0, 8, 0, ..., 0, 0, 8])"
      ]
     },
     "execution_count": 33,
     "metadata": {},
     "output_type": "execute_result"
    }
   ],
   "source": [
    "y_pred_adaboost = ada_boost.predict(X_test)\n",
    "y_pred_adaboost"
   ]
  },
  {
   "cell_type": "code",
   "execution_count": 34,
   "metadata": {},
   "outputs": [
    {
     "data": {
      "text/plain": [
       "array([0, 4, 0, ..., 0, 0, 4])"
      ]
     },
     "execution_count": 34,
     "metadata": {},
     "output_type": "execute_result"
    }
   ],
   "source": [
    "Y_test"
   ]
  },
  {
   "cell_type": "code",
   "execution_count": 35,
   "metadata": {},
   "outputs": [
    {
     "name": "stdout",
     "output_type": "stream",
     "text": [
      "Accuracy Score for the AdaBoost Classifier is: 54.113%\n"
     ]
    }
   ],
   "source": [
    "print(\"Accuracy Score for the AdaBoost Classifier is: {0:.3f}%\".format(accuracy_score(Y_test, y_pred_adaboost)* 100))"
   ]
  },
  {
   "cell_type": "code",
   "execution_count": 36,
   "metadata": {},
   "outputs": [
    {
     "name": "stderr",
     "output_type": "stream",
     "text": [
      "C:\\Users\\hvviet\\AppData\\Local\\Programs\\Python\\Python310\\lib\\site-packages\\sklearn\\metrics\\_classification.py:1318: UndefinedMetricWarning: Precision and F-score are ill-defined and being set to 0.0 in labels with no predicted samples. Use `zero_division` parameter to control this behavior.\n",
      "  _warn_prf(average, modifier, msg_start, len(result))\n",
      "C:\\Users\\hvviet\\AppData\\Local\\Programs\\Python\\Python310\\lib\\site-packages\\sklearn\\metrics\\_classification.py:1318: UndefinedMetricWarning: Precision and F-score are ill-defined and being set to 0.0 in labels with no predicted samples. Use `zero_division` parameter to control this behavior.\n",
      "  _warn_prf(average, modifier, msg_start, len(result))\n"
     ]
    },
    {
     "name": "stdout",
     "output_type": "stream",
     "text": [
      "Classification Report for AdaBOOST: \n",
      "                precision    recall  f1-score   support\n",
      "\n",
      "       BENIGN       1.00      1.00      1.00     16643\n",
      "    DrDoS_DNS       0.00      0.00      0.00      1746\n",
      "   DrDoS_LDAP       0.00      0.00      0.00      1842\n",
      "  DrDoS_MSSQL       0.00      0.00      0.00      1692\n",
      "    DrDoS_NTP       0.00      0.00      0.00      1797\n",
      "DrDoS_NetBIOS       0.00      0.00      0.00      1832\n",
      "   DrDoS_SNMP       0.00      0.00      0.00      1840\n",
      "   DrDoS_SSDP       0.00      0.00      0.00      1762\n",
      "    DrDoS_UDP       0.10      1.00      0.18      1673\n",
      "          Syn       0.00      0.00      0.00      1535\n",
      "          UDP       0.00      0.00      0.00      1486\n",
      "\n",
      "     accuracy                           0.54     33848\n",
      "    macro avg       0.10      0.18      0.11     33848\n",
      " weighted avg       0.50      0.54      0.50     33848\n",
      "\n"
     ]
    },
    {
     "name": "stderr",
     "output_type": "stream",
     "text": [
      "C:\\Users\\hvviet\\AppData\\Local\\Programs\\Python\\Python310\\lib\\site-packages\\sklearn\\metrics\\_classification.py:1318: UndefinedMetricWarning: Precision and F-score are ill-defined and being set to 0.0 in labels with no predicted samples. Use `zero_division` parameter to control this behavior.\n",
      "  _warn_prf(average, modifier, msg_start, len(result))\n"
     ]
    }
   ],
   "source": [
    "print(\"Classification Report for AdaBOOST: \\n\", classification_report(label_encode.inverse_transform(Y_test), label_encode.inverse_transform(y_pred_adaboost)))"
   ]
  },
  {
   "cell_type": "code",
   "execution_count": 37,
   "metadata": {},
   "outputs": [
    {
     "name": "stdout",
     "output_type": "stream",
     "text": [
      "AdaBoost Confusion: \n",
      " [[16643     0     0     0     0     0     0     0     0     0     0]\n",
      " [    0     0     0     0     0     0     0     0  1746     0     0]\n",
      " [    0     0     0     0     0     0     0     0  1842     0     0]\n",
      " [    0     0     0     0     0     0     0     0  1692     0     0]\n",
      " [    0     0     0     0     0     0     0     0  1797     0     0]\n",
      " [    0     0     0     0     0     0     0     0  1832     0     0]\n",
      " [    0     0     0     0     0     0     0     0  1840     0     0]\n",
      " [    0     0     0     0     0     0     0     0  1762     0     0]\n",
      " [    0     0     0     0     0     0     0     0  1673     0     0]\n",
      " [    0     0     0     0     0     0     0     0  1535     0     0]\n",
      " [    0     0     0     0     0     0     0     0  1486     0     0]]\n"
     ]
    }
   ],
   "source": [
    "xgboost_conf_mat = confusion_matrix(Y_test, y_pred_adaboost)\n",
    "print(\"AdaBoost Confusion: \\n\", xgboost_conf_mat)"
   ]
  },
  {
   "cell_type": "code",
   "execution_count": 38,
   "metadata": {},
   "outputs": [],
   "source": [
    "#3. Native Bayes\n",
    "from sklearn.naive_bayes import GaussianNB \n",
    "gnb = GaussianNB()\n",
    "gnb.fit(X_train, Y_train)\n",
    "pickle.dump(gnb, open('../model_training/NativeBayes_Model', 'wb'))\n",
    "gnb_y_pred = gnb.predict(X_test)"
   ]
  },
  {
   "cell_type": "code",
   "execution_count": 39,
   "metadata": {},
   "outputs": [
    {
     "name": "stdout",
     "output_type": "stream",
     "text": [
      "Classification Report for Naive Bayes: \n",
      "                precision    recall  f1-score   support\n",
      "\n",
      "       BENIGN       1.00      1.00      1.00     16643\n",
      "    DrDoS_DNS       0.91      0.99      0.95      1746\n",
      "   DrDoS_LDAP       1.00      0.95      0.98      1842\n",
      "  DrDoS_MSSQL       1.00      1.00      1.00      1692\n",
      "    DrDoS_NTP       1.00      0.95      0.97      1797\n",
      "DrDoS_NetBIOS       0.99      1.00      0.99      1832\n",
      "   DrDoS_SNMP       1.00      1.00      1.00      1840\n",
      "   DrDoS_SSDP       0.51      0.98      0.67      1762\n",
      "    DrDoS_UDP       0.62      0.03      0.06      1673\n",
      "          Syn       0.97      0.08      0.15      1535\n",
      "          UDP       0.51      1.00      0.68      1486\n",
      "\n",
      "     accuracy                           0.90     33848\n",
      "    macro avg       0.86      0.82      0.77     33848\n",
      " weighted avg       0.93      0.90      0.88     33848\n",
      "\n"
     ]
    }
   ],
   "source": [
    "print(\"Classification Report for Naive Bayes: \\n\", classification_report(label_encode.inverse_transform(Y_test), label_encode.inverse_transform(gnb_y_pred)))"
   ]
  },
  {
   "cell_type": "code",
   "execution_count": 40,
   "metadata": {},
   "outputs": [
    {
     "name": "stdout",
     "output_type": "stream",
     "text": [
      "Accuracy Score for Naive: \n",
      " 90.28303001654456\n"
     ]
    }
   ],
   "source": [
    "acc_score_gnb = accuracy_score(Y_test, gnb_y_pred)\n",
    "print(\"Accuracy Score for Naive: \\n\", acc_score_gnb*100)"
   ]
  },
  {
   "cell_type": "code",
   "execution_count": 41,
   "metadata": {},
   "outputs": [
    {
     "name": "stdout",
     "output_type": "stream",
     "text": [
      "Naive Bayes Confusion Matrix: \n",
      " [[16643     0     0     0     0     0     0     0     0     0     0]\n",
      " [    1  1721     0     1     0    23     0     0     0     0     0]\n",
      " [    2    82  1756     1     0     0     1     0     0     0     0]\n",
      " [    2     0     0  1685     0     0     0     5     0     0     0]\n",
      " [    1    91     0     0  1702     1     0     2     0     0     0]\n",
      " [    1     0     0     0     0  1829     0     2     0     0     0]\n",
      " [    1     1     0     0     0     0  1838     0     0     0     0]\n",
      " [    2     0     1     0     0     0     4  1724    31     0     0]\n",
      " [    1     0     0     0     0     0     0  1622    50     0     0]\n",
      " [    2     0     0     0     0     0     0     0     0   129  1404]\n",
      " [    0     0     0     0     0     0     0     0     0     4  1482]]\n"
     ]
    }
   ],
   "source": [
    "gnb_conf_mat = confusion_matrix(Y_test, gnb_y_pred)\n",
    "print(\"Naive Bayes Confusion Matrix: \\n\", gnb_conf_mat)"
   ]
  },
  {
   "cell_type": "code",
   "execution_count": 42,
   "metadata": {},
   "outputs": [
    {
     "name": "stderr",
     "output_type": "stream",
     "text": [
      "C:\\Users\\hvviet\\AppData\\Local\\Programs\\Python\\Python310\\lib\\site-packages\\sklearn\\svm\\_base.py:1206: ConvergenceWarning: Liblinear failed to converge, increase the number of iterations.\n",
      "  warnings.warn(\n"
     ]
    }
   ],
   "source": [
    "#4. SVM\n",
    "from sklearn.svm import LinearSVC\n",
    "svm = LinearSVC(multi_class = 'ovr')\n",
    "svm.fit(X_train, Y_train)\n",
    "pickle.dump(svm, open('../model_training/SVM_Model', 'wb'))\n",
    "y_pred_svm = svm.predict(X_test) "
   ]
  },
  {
   "cell_type": "code",
   "execution_count": 43,
   "metadata": {},
   "outputs": [
    {
     "name": "stdout",
     "output_type": "stream",
     "text": [
      "Classification Report for SVM: \n",
      "                precision    recall  f1-score   support\n",
      "\n",
      "       BENIGN       1.00      1.00      1.00     16643\n",
      "    DrDoS_DNS       0.94      0.98      0.96      1746\n",
      "   DrDoS_LDAP       1.00      1.00      1.00      1842\n",
      "  DrDoS_MSSQL       0.99      1.00      1.00      1692\n",
      "    DrDoS_NTP       0.98      0.96      0.97      1797\n",
      "DrDoS_NetBIOS       0.99      1.00      1.00      1832\n",
      "   DrDoS_SNMP       1.00      1.00      1.00      1840\n",
      "   DrDoS_SSDP       1.00      0.99      0.99      1762\n",
      "    DrDoS_UDP       1.00      1.00      1.00      1673\n",
      "          Syn       0.98      1.00      0.99      1535\n",
      "          UDP       1.00      0.98      0.99      1486\n",
      "\n",
      "     accuracy                           0.99     33848\n",
      "    macro avg       0.99      0.99      0.99     33848\n",
      " weighted avg       0.99      0.99      0.99     33848\n",
      "\n"
     ]
    }
   ],
   "source": [
    "print(\"Classification Report for SVM: \\n\", classification_report(label_encode.inverse_transform(Y_test), label_encode.inverse_transform(y_pred_svm)))"
   ]
  },
  {
   "cell_type": "code",
   "execution_count": 44,
   "metadata": {},
   "outputs": [
    {
     "name": "stdout",
     "output_type": "stream",
     "text": [
      "Accuracy Score for SVM: \n",
      " 99.3825336799811\n"
     ]
    }
   ],
   "source": [
    "acc_score_svm = accuracy_score(Y_test, y_pred_svm)\n",
    "print(\"Accuracy Score for SVM: \\n\", acc_score_svm*100)"
   ]
  },
  {
   "cell_type": "code",
   "execution_count": 45,
   "metadata": {},
   "outputs": [
    {
     "name": "stdout",
     "output_type": "stream",
     "text": [
      "SVM Confusion Matrix: \n",
      " [[16615    24     0     0     0     3     0     1     0     0     0]\n",
      " [    0  1705     1     0    29    10     0     1     0     0     0]\n",
      " [    1     0  1839     0     1     1     0     0     0     0     0]\n",
      " [    0     0     0  1689     0     0     0     2     0     0     1]\n",
      " [    1    74     0     0  1722     0     0     0     0     0     0]\n",
      " [    1     0     0     0     0  1831     0     0     0     0     0]\n",
      " [    0     0     0     0     0     1  1839     0     0     0     0]\n",
      " [    1     0     0    11     0     1     4  1740     4     1     0]\n",
      " [    0     0     0     0     0     0     0     0  1673     0     0]\n",
      " [    0     6     0     0     0     0     0     0     0  1529     0]\n",
      " [    0     0     0     0     0     0     0     0     0    29  1457]]\n"
     ]
    }
   ],
   "source": [
    "svm_conf_mat = confusion_matrix(Y_test, y_pred_svm)\n",
    "print(\"SVM Confusion Matrix: \\n\", svm_conf_mat)"
   ]
  },
  {
   "cell_type": "code",
   "execution_count": 46,
   "metadata": {},
   "outputs": [],
   "source": [
    "#5. KNN\n",
    "from sklearn.neighbors import KNeighborsClassifier\n",
    "neigh = KNeighborsClassifier()\n",
    "neigh.fit(X_train,Y_train)\n",
    "y_pred_knn = neigh.predict(X_test)\n",
    "pickle.dump(neigh, open('../model_training/KNN_Model', 'wb'))"
   ]
  },
  {
   "cell_type": "code",
   "execution_count": 47,
   "metadata": {},
   "outputs": [
    {
     "name": "stdout",
     "output_type": "stream",
     "text": [
      "Classification Report for KNN: \n",
      "                precision    recall  f1-score   support\n",
      "\n",
      "       BENIGN       1.00      1.00      1.00     16643\n",
      "    DrDoS_DNS       0.98      0.97      0.97      1746\n",
      "   DrDoS_LDAP       0.99      0.98      0.98      1842\n",
      "  DrDoS_MSSQL       1.00      1.00      1.00      1692\n",
      "    DrDoS_NTP       0.98      0.99      0.99      1797\n",
      "DrDoS_NetBIOS       1.00      1.00      1.00      1832\n",
      "   DrDoS_SNMP       1.00      1.00      1.00      1840\n",
      "   DrDoS_SSDP       0.98      0.97      0.98      1762\n",
      "    DrDoS_UDP       0.97      0.98      0.98      1673\n",
      "          Syn       0.97      0.98      0.98      1535\n",
      "          UDP       0.98      0.97      0.98      1486\n",
      "\n",
      "     accuracy                           0.99     33848\n",
      "    macro avg       0.99      0.99      0.99     33848\n",
      " weighted avg       0.99      0.99      0.99     33848\n",
      "\n"
     ]
    }
   ],
   "source": [
    "print(\"Classification Report for KNN: \\n\", classification_report(label_encode.inverse_transform(Y_test), label_encode.inverse_transform(y_pred_knn)))"
   ]
  },
  {
   "cell_type": "code",
   "execution_count": 48,
   "metadata": {},
   "outputs": [
    {
     "name": "stdout",
     "output_type": "stream",
     "text": [
      "Accuracy Score for KNN: \n",
      " 99.26731269203498\n"
     ]
    }
   ],
   "source": [
    "acc_score_knn = accuracy_score(Y_test, y_pred_knn)\n",
    "print(\"Accuracy Score for KNN: \\n\", acc_score_knn*100)"
   ]
  },
  {
   "cell_type": "code",
   "execution_count": 49,
   "metadata": {},
   "outputs": [
    {
     "name": "stdout",
     "output_type": "stream",
     "text": [
      "KNN Confusion Matrix: \n",
      " [[16642     1     0     0     0     0     0     0     0     0     0]\n",
      " [    0  1694    22     0    28     2     0     0     0     0     0]\n",
      " [    0    29  1809     1     0     0     3     0     0     0     0]\n",
      " [    1     0     0  1690     0     0     0     1     0     0     0]\n",
      " [    1    11     0     0  1785     0     0     0     0     0     0]\n",
      " [    1     0     0     0     0  1831     0     0     0     0     0]\n",
      " [    0     1     2     0     1     0  1836     0     0     0     0]\n",
      " [    0     0     0     0     0     0     3  1713    46     0     0]\n",
      " [    0     0     0     0     0     0     0    27  1646     0     0]\n",
      " [    1     0     0     0     0     0     0     0     0  1510    24]\n",
      " [    0     0     0     0     0     0     0     0     0    42  1444]]\n"
     ]
    }
   ],
   "source": [
    "knn_conf_mat = confusion_matrix(Y_test, y_pred_knn)\n",
    "print(\"KNN Confusion Matrix: \\n\", knn_conf_mat)"
   ]
  }
 ],
 "metadata": {
  "interpreter": {
   "hash": "2be5faf79681da6f2a61fdfdd5405d65d042280f7fba6178067603e3a2925119"
  },
  "kernelspec": {
   "display_name": "Python 3.10.2 64-bit (system)",
   "language": "python",
   "name": "python3"
  },
  "language_info": {
   "codemirror_mode": {
    "name": "ipython",
    "version": 3
   },
   "file_extension": ".py",
   "mimetype": "text/x-python",
   "name": "python",
   "nbconvert_exporter": "python",
   "pygments_lexer": "ipython3",
   "version": "3.10.4"
  },
  "orig_nbformat": 4
 },
 "nbformat": 4,
 "nbformat_minor": 2
}
